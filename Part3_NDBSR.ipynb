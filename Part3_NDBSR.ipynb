{
 "cells": [
  {
   "cell_type": "markdown",
   "id": "b2800dcd",
   "metadata": {},
   "source": [
    "# Near Decision Boundry Sample Removal"
   ]
  },
  {
   "cell_type": "markdown",
   "id": "79b208e3",
   "metadata": {},
   "source": [
    "### Reading the Data built by the Previous Notebooks"
   ]
  },
  {
   "cell_type": "code",
   "execution_count": 1,
   "id": "496d3af5",
   "metadata": {},
   "outputs": [],
   "source": [
    "import pickle\n",
    "import numpy as np\n",
    "\n",
    "data_dir = \"/Users/samskanderi/Documents/Research_Project/SWANSF/code/3_KnnImputation/\"\n",
    "imputed_data = []\n",
    "\n",
    "number_of_partitions = 5\n",
    "for i in range(1,number_of_partitions +1):\n",
    "# Load the array with Pickle\n",
    "    with open(data_dir + \"Partition\" + str(i) + \"_KnnImputation\" + \".pkl\", 'rb') as f:\n",
    "        imputed_data.append(pickle.load(f))"
   ]
  },
  {
   "cell_type": "code",
   "execution_count": 2,
   "id": "3d858bf0",
   "metadata": {},
   "outputs": [],
   "source": [
    "import pandas as pd\n",
    "labels = []\n",
    "data_dir = \"/Users/samskanderi/Documents/Research_Project/SWANSF/code/2_Labels/\"\n",
    "\n",
    "for i in range(1,6):\n",
    "    labels.append(pd.read_csv(data_dir + \"Partition\" + str(i) + \"_labels.csv\"))"
   ]
  },
  {
   "cell_type": "markdown",
   "id": "fe2a1743",
   "metadata": {},
   "source": [
    "## Function to Remove Samples"
   ]
  },
  {
   "cell_type": "code",
   "execution_count": 5,
   "id": "d9e60777",
   "metadata": {},
   "outputs": [],
   "source": [
    "# NewFeatures with Shuffle\n",
    "from tqdm import tqdm\n",
    "\n",
    "def dropping(start_partition, end_partition, data_dir, data, labels, classes_to_filter, category_mapping, name):\n",
    "\n",
    "\n",
    "    num_attributes = 25\n",
    "    num_timestamps = 60       \n",
    "\n",
    "    for i in range(start_partition-1,end_partition):\n",
    "        \n",
    "        filtered_y_train_df = labels[i][~labels[i]['FLARE_CLASS'].isin(classes_to_filter)]\n",
    "        filtered_indices = filtered_y_train_df.index\n",
    "        x_train_filtered = data[i][:, :, filtered_indices]\n",
    "        \n",
    "        num_samples = np.array(x_train_filtered).shape[2]\n",
    "        X_train = np.zeros((num_samples, num_timestamps*(num_attributes-1)))\n",
    "        Y_train = np.zeros(num_samples)\n",
    "        \n",
    "        the_labels = pd.DataFrame()\n",
    "        the_labels['FLARE_CLASS'] = filtered_y_train_df['FLARE_CLASS'].map(category_mapping)\n",
    "        each_partition = np.zeros((num_timestamps, num_attributes, num_samples))\n",
    "        each_partition = np.array(x_train_filtered)\n",
    "\n",
    "        with tqdm(num_samples) as pbar:\n",
    "            for j in range(0, num_samples):\n",
    "                new_column = np.zeros((num_timestamps,num_attributes)) \n",
    "                new_column = each_partition[:,:,j]\n",
    "                \n",
    "                flettened = np.zeros(num_timestamps*(num_attributes-1))\n",
    "\n",
    "                for m in range(1,num_attributes):\n",
    "                    flettened[(m-1)*num_timestamps:m*num_timestamps] = new_column[:,m]\n",
    "\n",
    "                X_train[j, :] = flettened\n",
    "                Y_train[j] = the_labels['FLARE_CLASS'].iloc[j]\n",
    "                \n",
    "                pbar.update(1)\n",
    "\n",
    "        print(\"P\"+str(i+1)+ \" \"+str(X_train.shape) +\" Nan-Value: \"+ str(np.isnan(X_train).any()))     \n",
    "        \n",
    "        num_samples = X_train.shape[0]\n",
    "        shuffle_indices = np.random.permutation(num_samples)\n",
    "\n",
    "        X_train_shuffled = X_train[shuffle_indices]\n",
    "        Y_train_shuffled = Y_train[shuffle_indices]\n",
    "    \n",
    "\n",
    "        with open(data_dir + \"Partition\" + str(i+1)\n",
    "                       + name + \"_Concatenation_KnnImputation\" + \".pkl\", 'wb') as f:\n",
    "            pickle.dump(X_train_shuffled, f)\n",
    "\n",
    "        with open(data_dir + \"Partition\" + str(i+1)\n",
    "                       + \"_Labels\" + name + \"_Concatenation_KnnImputation\" + \".pkl\", 'wb') as f:\n",
    "            pickle.dump(Y_train_shuffled, f)"
   ]
  },
  {
   "cell_type": "markdown",
   "id": "dec8fffe",
   "metadata": {},
   "source": [
    "### Removing B and C classes "
   ]
  },
  {
   "cell_type": "code",
   "execution_count": 6,
   "id": "1c3062c0",
   "metadata": {},
   "outputs": [
    {
     "name": "stderr",
     "output_type": "stream",
     "text": [
      "61384it [00:00, 78478.59it/s]\n"
     ]
    },
    {
     "name": "stdout",
     "output_type": "stream",
     "text": [
      "P1 (61384, 1440) Nan-Value: False\n"
     ]
    },
    {
     "name": "stderr",
     "output_type": "stream",
     "text": [
      "74769it [00:00, 77303.01it/s]\n"
     ]
    },
    {
     "name": "stdout",
     "output_type": "stream",
     "text": [
      "P2 (74769, 1440) Nan-Value: False\n"
     ]
    },
    {
     "name": "stderr",
     "output_type": "stream",
     "text": [
      "36186it [00:00, 75535.28it/s]\n"
     ]
    },
    {
     "name": "stdout",
     "output_type": "stream",
     "text": [
      "P3 (36186, 1440) Nan-Value: False\n"
     ]
    },
    {
     "name": "stderr",
     "output_type": "stream",
     "text": [
      "44459it [00:00, 78802.18it/s]\n"
     ]
    },
    {
     "name": "stdout",
     "output_type": "stream",
     "text": [
      "P4 (44459, 1440) Nan-Value: False\n"
     ]
    },
    {
     "name": "stderr",
     "output_type": "stream",
     "text": [
      "63678it [00:00, 78424.47it/s]\n"
     ]
    },
    {
     "name": "stdout",
     "output_type": "stream",
     "text": [
      "P5 (63678, 1440) Nan-Value: False\n"
     ]
    }
   ],
   "source": [
    "data_dir = \"/Users/samskanderi/Documents/Research_Project/SWANSF/code/4_3_FinalData_WithoutB&C_Concatenation_KnnImputation/\"\n",
    "\n",
    "classes_to_filter = ['C', 'B']\n",
    "category_mapping = {'X': 1, 'M': 1,'FQ': 0}\n",
    "\n",
    "name = \"_WithoutB&C\"\n",
    "    \n",
    "dropping(1,5,data_dir,imputed_data,labels, classes_to_filter, category_mapping, name)"
   ]
  },
  {
   "cell_type": "markdown",
   "id": "db57f074",
   "metadata": {},
   "source": [
    "### Removing C class"
   ]
  },
  {
   "cell_type": "code",
   "execution_count": 7,
   "id": "f7789b52",
   "metadata": {},
   "outputs": [
    {
     "name": "stderr",
     "output_type": "stream",
     "text": [
      "67076it [00:00, 79367.88it/s]\n"
     ]
    },
    {
     "name": "stdout",
     "output_type": "stream",
     "text": [
      "P1 (67076, 1440) Nan-Value: False\n"
     ]
    },
    {
     "name": "stderr",
     "output_type": "stream",
     "text": [
      "79747it [00:01, 78047.28it/s]\n"
     ]
    },
    {
     "name": "stdout",
     "output_type": "stream",
     "text": [
      "P2 (79747, 1440) Nan-Value: False\n"
     ]
    },
    {
     "name": "stderr",
     "output_type": "stream",
     "text": [
      "36871it [00:00, 74525.87it/s]\n"
     ]
    },
    {
     "name": "stdout",
     "output_type": "stream",
     "text": [
      "P3 (36871, 1440) Nan-Value: False\n"
     ]
    },
    {
     "name": "stderr",
     "output_type": "stream",
     "text": [
      "45305it [00:00, 74981.33it/s]\n"
     ]
    },
    {
     "name": "stdout",
     "output_type": "stream",
     "text": [
      "P4 (45305, 1440) Nan-Value: False\n"
     ]
    },
    {
     "name": "stderr",
     "output_type": "stream",
     "text": [
      "69602it [00:00, 79179.67it/s]\n"
     ]
    },
    {
     "name": "stdout",
     "output_type": "stream",
     "text": [
      "P5 (69602, 1440) Nan-Value: False\n"
     ]
    }
   ],
   "source": [
    "data_dir = \"/Users/samskanderi/Documents/Research_Project/SWANSF/code/4_4_FinalData_WithoutC_Concatenation_KnnImputation/\"\n",
    "\n",
    "classes_to_filter = ['C']\n",
    "category_mapping = {'X': 1, 'M': 1, 'B': 0, 'FQ': 0}\n",
    "\n",
    "name = \"_WithoutC\"\n",
    "\n",
    "dropping(1,5,data_dir,imputed_data,labels, classes_to_filter, category_mapping, name)"
   ]
  },
  {
   "cell_type": "markdown",
   "id": "6d1a7ea8",
   "metadata": {},
   "source": [
    "## Vector Data"
   ]
  },
  {
   "cell_type": "code",
   "execution_count": 15,
   "id": "3ebdebed",
   "metadata": {},
   "outputs": [],
   "source": [
    "# NewFeatures with Shuffle\n",
    "\n",
    "def new_Features_pkl(start_partition, end_partition, data_dir, data, labels, name):\n",
    "\n",
    "    number_of_new_features = 9\n",
    "    num_attributes = 24\n",
    "    num_timestamps = 60\n",
    "    \n",
    "    for i in range(start_partition-1,end_partition):\n",
    "        \n",
    "        each_partition = np.zeros((data[i].shape[0], num_timestamps*(num_attributes)))\n",
    "        each_partition = np.array(data[i])\n",
    "        new_partition = np.zeros((each_partition.shape[0], number_of_new_features*num_attributes))\n",
    "        \n",
    "        with tqdm(each_partition.shape[0]) as pbar:\n",
    "            for j in range(0,each_partition.shape[0]):\n",
    "                new_column = np.zeros((num_timestamps*num_attributes)) \n",
    "                new_column = each_partition[j,:]\n",
    "                \n",
    "\n",
    "                new_features = np.zeros(number_of_new_features*(num_attributes))\n",
    "\n",
    "                for m in range(0,num_attributes):\n",
    "                    \n",
    "                    mean = np.mean(new_column[m*num_timestamps:(m+1)*num_timestamps])\n",
    "                    new_features[((m)*number_of_new_features) + 0] = mean\n",
    "                    median = np.median(new_column[m*num_timestamps:(m+1)*num_timestamps])\n",
    "                    new_features[((m)*number_of_new_features) + 1] = median\n",
    "                    std = np.std(new_column[m*num_timestamps:(m+1)*num_timestamps])\n",
    "                    new_features[((m)*number_of_new_features) + 2] = std\n",
    "                    \n",
    "                    skewness = skew(new_column[m*num_timestamps:(m+1)*num_timestamps])\n",
    "                    if skewness == np.nan:\n",
    "                        skewness = new_partition[j-1, ((m)*number_of_new_features) + 3]\n",
    "                    new_features[((m)*number_of_new_features) + 3] = skewness\n",
    "                    \n",
    "                    kurtosis_value = kurtosis(new_column[m*num_timestamps:(m+1)*num_timestamps])\n",
    "                    if kurtosis_value == np.nan:\n",
    "                        kurtosis_value = new_partition[j-1, ((m)*number_of_new_features) + 4]\n",
    "                    new_features[((m)*number_of_new_features) + 4] = kurtosis_value\n",
    "                    \n",
    "                    indices = np.arange(num_timestamps)\n",
    "                    weight_array = indices / num_timestamps\n",
    "                    weighted_avg = np.average(new_column[m*num_timestamps:(m+1)*num_timestamps], weights=weight_array)\n",
    "                    if weighted_avg == np.nan:\n",
    "                        weighted_avg = new_partition[j-1, ((m)*number_of_new_features) + 5]\n",
    "                    new_features[((m)*number_of_new_features) + 5] = weighted_avg\n",
    "                    \n",
    "                    last_value = new_column[(m+1)*num_timestamps-1]\n",
    "                    new_features[((m)*number_of_new_features) + 6] = last_value\n",
    "                    first_value = new_column[m*num_timestamps]\n",
    "                    new_features[((m)*number_of_new_features) + 7] = first_value\n",
    "                    \n",
    "                    numerator = np.sum((new_column[m*num_timestamps:(m+1)*num_timestamps] - mean) * (indices - np.mean(indices)))\n",
    "                    denominator = np.sum((new_column[m*num_timestamps:(m+1)*num_timestamps] - mean) ** 2)\n",
    "                    slope = numerator / denominator\n",
    "                    if slope == np.nan:\n",
    "                        slope = new_partition[j-1, ((m)*number_of_new_features) + 8]\n",
    "                    new_features[((m)*number_of_new_features) + 8] = slope\n",
    "                \n",
    "                    \n",
    "                new_partition[j,:] = new_features\n",
    "                \n",
    "                pbar.update(1)\n",
    "                \n",
    "\n",
    "        print(\"P\"+str(i+1)+\" Nan-Value: \"+ str(np.isnan(new_partition).any()))  \n",
    "        X_train = new_partition\n",
    "        Y_train = labels[i]\n",
    "\n",
    "\n",
    "        num_samples = X_train.shape[0]\n",
    "        shuffle_indices = np.random.permutation(num_samples)\n",
    "\n",
    "        X_train_shuffled = X_train[shuffle_indices]\n",
    "        Y_train_shuffled = Y_train[shuffle_indices]\n",
    "    \n",
    "\n",
    "        with open(data_dir + \"Partition\" + str(i+1) \n",
    "                       + name + \".pkl\", 'wb') as f:\n",
    "            pickle.dump(X_train_shuffled, f)\n",
    "\n",
    "        with open(data_dir + \"Partition\" + str(i+1) \n",
    "                       + \"_Labels\" + name + \".pkl\", 'wb') as f:\n",
    "            pickle.dump(Y_train_shuffled, f)"
   ]
  },
  {
   "cell_type": "markdown",
   "id": "4c7530db",
   "metadata": {},
   "source": [
    "### Removing B and C classes "
   ]
  },
  {
   "cell_type": "code",
   "execution_count": 14,
   "id": "85689094",
   "metadata": {},
   "outputs": [
    {
     "name": "stdout",
     "output_type": "stream",
     "text": [
      "P1 Nan-Value: False\n",
      "P2 Nan-Value: False\n",
      "P3 Nan-Value: False\n",
      "P4 Nan-Value: False\n",
      "P5 Nan-Value: False\n"
     ]
    }
   ],
   "source": [
    "import numpy as np\n",
    "import pandas as pd\n",
    "import pickle\n",
    "\n",
    "data_dir = \"/Users/samskanderi/Documents/Research_Project/SWANSF/code/4_3_FinalData_WithoutB&C_Concatenation_KnnImputation/\"\n",
    "\n",
    "imputed_wBandC_data = []\n",
    "wBandC_labels = []\n",
    "\n",
    "\n",
    "num_partitions = 5\n",
    "\n",
    "for i in range(0,num_partitions):\n",
    "# Load the array with Pickle\n",
    "    with open(data_dir + \"Partition\" + str(i+1) + \"_WithoutB&C_Concatenation_KnnImputation\" +\".pkl\", 'rb') as f:\n",
    "        imputed_wBandC_data.append(pickle.load(f))\n",
    "        \n",
    "    print(\"P\"+str(i+1)+\" Nan-Value: \"+ str(np.isnan(imputed_wBandC_data[i]).any() or np.isinf(imputed_wBandC_data[i]).any()))  \n",
    "\n",
    "    with open(data_dir + \"Partition\" + str(i+1) + \"_Labels_WithoutB&C_Concatenation_KnnImputation\" +\".pkl\", 'rb') as f:\n",
    "        wBandC_labels.append(pickle.load(f))"
   ]
  },
  {
   "cell_type": "code",
   "execution_count": 19,
   "id": "220c4841",
   "metadata": {},
   "outputs": [
    {
     "name": "stderr",
     "output_type": "stream",
     "text": [
      "61384it [06:26, 159.02it/s]\n"
     ]
    },
    {
     "name": "stdout",
     "output_type": "stream",
     "text": [
      "P1 Nan-Value: False\n"
     ]
    },
    {
     "name": "stderr",
     "output_type": "stream",
     "text": [
      "74769it [07:49, 159.11it/s]\n"
     ]
    },
    {
     "name": "stdout",
     "output_type": "stream",
     "text": [
      "P2 Nan-Value: False\n"
     ]
    },
    {
     "name": "stderr",
     "output_type": "stream",
     "text": [
      "36186it [03:46, 159.56it/s]\n"
     ]
    },
    {
     "name": "stdout",
     "output_type": "stream",
     "text": [
      "P3 Nan-Value: False\n"
     ]
    },
    {
     "name": "stderr",
     "output_type": "stream",
     "text": [
      "44459it [04:39, 159.34it/s]\n"
     ]
    },
    {
     "name": "stdout",
     "output_type": "stream",
     "text": [
      "P4 Nan-Value: False\n"
     ]
    },
    {
     "name": "stderr",
     "output_type": "stream",
     "text": [
      "63678it [06:37, 160.07it/s]\n"
     ]
    },
    {
     "name": "stdout",
     "output_type": "stream",
     "text": [
      "P5 Nan-Value: False\n"
     ]
    }
   ],
   "source": [
    "data_dir = \"/Users/samskanderi/Documents/Research_Project/SWANSF/code/4_6_FinalData_WithoutB&C_NewFeatures_KnnImputation/\"\n",
    "\n",
    "name = '_WithoutB&C_KnnImputation'\n",
    "new_Features_pkl(1, 5, data_dir, imputed_wBandC_data, wBandC_labels, name)"
   ]
  },
  {
   "cell_type": "markdown",
   "id": "706aae7e",
   "metadata": {},
   "source": [
    "### Removing C class"
   ]
  },
  {
   "cell_type": "code",
   "execution_count": 20,
   "id": "534d46a8",
   "metadata": {},
   "outputs": [
    {
     "name": "stdout",
     "output_type": "stream",
     "text": [
      "P1 Nan-Value: False\n",
      "P2 Nan-Value: False\n",
      "P3 Nan-Value: False\n",
      "P4 Nan-Value: False\n",
      "P5 Nan-Value: False\n"
     ]
    }
   ],
   "source": [
    "import numpy as np\n",
    "import pandas as pd\n",
    "import pickle\n",
    "\n",
    "data_dir = \"/Users/samskanderi/Documents/Research_Project/SWANSF/code/4_4_FinalData_WithoutC_Concatenation_KnnImputation/\"\n",
    "\n",
    "imputed_wC_data = []\n",
    "wC_labels = []\n",
    "\n",
    "\n",
    "num_partitions = 5\n",
    "\n",
    "for i in range(0,num_partitions):\n",
    "# Load the array with Pickle\n",
    "    with open(data_dir + \"Partition\" + str(i+1) + \"_WithoutC_Concatenation_KnnImputation\" +\".pkl\", 'rb') as f:\n",
    "        imputed_wC_data.append(pickle.load(f))\n",
    "        \n",
    "    print(\"P\"+str(i+1)+\" Nan-Value: \"+ str(np.isnan(imputed_wC_data[i]).any() or np.isinf(imputed_wC_data[i]).any()))  \n",
    "\n",
    "    with open(data_dir + \"Partition\" + str(i+1) + \"_Labels_WithoutC_Concatenation_KnnImputation\" +\".pkl\", 'rb') as f:\n",
    "        wC_labels.append(pickle.load(f))"
   ]
  },
  {
   "cell_type": "code",
   "execution_count": 21,
   "id": "3b18be49",
   "metadata": {},
   "outputs": [
    {
     "name": "stderr",
     "output_type": "stream",
     "text": [
      "67076it [06:56, 161.03it/s]\n"
     ]
    },
    {
     "name": "stdout",
     "output_type": "stream",
     "text": [
      "P1 Nan-Value: False\n"
     ]
    },
    {
     "name": "stderr",
     "output_type": "stream",
     "text": [
      "79747it [08:18, 160.04it/s]\n"
     ]
    },
    {
     "name": "stdout",
     "output_type": "stream",
     "text": [
      "P2 Nan-Value: False\n"
     ]
    },
    {
     "name": "stderr",
     "output_type": "stream",
     "text": [
      "36871it [03:50, 159.80it/s]\n"
     ]
    },
    {
     "name": "stdout",
     "output_type": "stream",
     "text": [
      "P3 Nan-Value: False\n"
     ]
    },
    {
     "name": "stderr",
     "output_type": "stream",
     "text": [
      "45305it [04:41, 160.80it/s]\n"
     ]
    },
    {
     "name": "stdout",
     "output_type": "stream",
     "text": [
      "P4 Nan-Value: False\n"
     ]
    },
    {
     "name": "stderr",
     "output_type": "stream",
     "text": [
      "69602it [07:13, 160.55it/s]\n"
     ]
    },
    {
     "name": "stdout",
     "output_type": "stream",
     "text": [
      "P5 Nan-Value: False\n"
     ]
    }
   ],
   "source": [
    "data_dir = \"/Users/samskanderi/Documents/Research_Project/SWANSF/code/4_7_FinalData_WithoutC_NewFeatures_KnnImputation/\"\n",
    "\n",
    "name = '_WithoutC_KnnImputation'\n",
    "new_Features_pkl(1, 5, data_dir, imputed_wC_data, wC_labels, name)"
   ]
  },
  {
   "cell_type": "code",
   "execution_count": null,
   "id": "d8e455b5",
   "metadata": {},
   "outputs": [],
   "source": []
  }
 ],
 "metadata": {
  "kernelspec": {
   "display_name": "Python 3 (ipykernel)",
   "language": "python",
   "name": "python3"
  },
  "language_info": {
   "codemirror_mode": {
    "name": "ipython",
    "version": 3
   },
   "file_extension": ".py",
   "mimetype": "text/x-python",
   "name": "python",
   "nbconvert_exporter": "python",
   "pygments_lexer": "ipython3",
   "version": "3.11.3"
  }
 },
 "nbformat": 4,
 "nbformat_minor": 5
}
