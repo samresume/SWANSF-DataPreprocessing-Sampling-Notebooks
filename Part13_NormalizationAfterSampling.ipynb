{
 "cells": [
  {
   "cell_type": "markdown",
   "id": "5bbbdec0",
   "metadata": {},
   "source": [
    "# Normalization on Concatenated Multivariate Time Series Data (2D)"
   ]
  },
  {
   "cell_type": "markdown",
   "id": "ecd746d4",
   "metadata": {},
   "source": [
    "## LSBZM Normalization Technique"
   ]
  },
  {
   "cell_type": "code",
   "execution_count": 4,
   "id": "601e272a",
   "metadata": {},
   "outputs": [],
   "source": [
    "import warnings\n",
    "warnings.filterwarnings(\"ignore\")\n",
    "\n",
    "from sklearn.preprocessing import MinMaxScaler\n",
    "scaler = MinMaxScaler()\n",
    "from scipy import stats\n",
    "from tqdm import tqdm\n",
    "\n",
    "def lsbzm(start_partition, end_partition, data, labels, data_dir, first_name, last_name):\n",
    "\n",
    "    num_timestamps= 60\n",
    "    num_attributes = 24\n",
    "\n",
    "    for i in range(start_partition-1,end_partition):\n",
    "        new_partition = np.zeros((np.array(data[i]).shape[0], num_timestamps*num_attributes))\n",
    "        new_partition = np.array(data[i])\n",
    "\n",
    "        with tqdm(num_attributes) as pbar:\n",
    "            for j in range(0,num_attributes):\n",
    "                new_attribute = np.zeros(new_partition.shape[0]*num_timestamps)  \n",
    "                \n",
    "                for m in range(0,new_partition.shape[0]):\n",
    "                    new_attribute[m*num_timestamps:(m+1)*num_timestamps] = new_partition[m,j*num_timestamps:(j+1)*num_timestamps]\n",
    "                \n",
    "                minmax = np.zeros(new_partition.shape[0]*num_timestamps)\n",
    "                all_positive = np.zeros(new_partition.shape[0]*num_timestamps)\n",
    "\n",
    "                the_min = np.min(new_attribute)\n",
    "                the_max = np.max(new_attribute)\n",
    "                skewness = stats.skew(new_attribute)\n",
    "                \n",
    "                if (the_max - the_min > 100000):\n",
    "                    if (skewness > 1):\n",
    "                        if (the_min < 0):\n",
    "                            all_positive = new_attribute + 2*abs(the_min)\n",
    "                        else:\n",
    "                            all_positive = new_attribute\n",
    "                            \n",
    "                        if np.std(all_positive)== 0.0:\n",
    "                            minmax = np.ones(new_partition.shape[0]*num_timestamps)\n",
    "                        else:\n",
    "                            log = np.log(all_positive)\n",
    "                            data_2d = log.reshape(-1, 1)\n",
    "                            minmax = scaler.fit_transform(data_2d).flatten()\n",
    "                        if (np.isnan(minmax).any() or np.isinf(minmax).any()):\n",
    "                            print('nan-log')\n",
    "\n",
    "                    elif (skewness < -1):\n",
    "                        if (the_min < 0):\n",
    "                            all_positive = new_attribute + abs(the_min)\n",
    "                        else:\n",
    "                            all_positive = new_attribute\n",
    "\n",
    "                        if np.std(all_positive)== 0.0:\n",
    "                            minmax = np.ones(new_partition.shape[0]*num_timestamps)\n",
    "                        else:\n",
    "                            sqrt = np.sqrt(all_positive)\n",
    "                            data_2d = sqrt.reshape(-1, 1)\n",
    "                            minmax = scaler.fit_transform(data_2d).flatten()\n",
    "                        if (np.isnan(minmax).any() or np.isinf(minmax).any()):\n",
    "                            print('nan-sqrt')\n",
    "\n",
    "                    else:\n",
    "                        if np.std(new_attribute)== 0.0:\n",
    "                            minmax = np.ones(new_partition.shape[0]*num_timestamps)\n",
    "                        else:\n",
    "                            zscore = stats.zscore(new_attribute)\n",
    "                            data_2d = zscore.reshape(-1, 1)\n",
    "                            minmax = scaler.fit_transform(data_2d).flatten()\n",
    "                        if (np.isnan(minmax).any() or np.isinf(minmax).any()):\n",
    "                            print('nan-zscore')\n",
    "                \n",
    "                \n",
    "                        \n",
    "                elif (the_max - the_min < 0.00001):\n",
    "                    \n",
    "                    if (skewness > 1):\n",
    "                        if (the_min < 0):\n",
    "                            all_positive = new_attribute + 2*abs(the_min)\n",
    "                        else:\n",
    "                            all_positive = new_attribute\n",
    "                            \n",
    "                        if np.std(all_positive)== 0.0:\n",
    "                            minmax = np.ones(new_partition.shape[0]*num_timestamps)\n",
    "                        else:\n",
    "                            log = np.log(all_positive)\n",
    "                            data_2d = log.reshape(-1, 1)\n",
    "                            minmax = scaler.fit_transform(data_2d).flatten()\n",
    "                        if (np.isnan(minmax).any() or np.isinf(minmax).any()):\n",
    "                            print('nan-log')\n",
    "\n",
    "                    elif (skewness < -1):\n",
    "                        if (the_min < 0):\n",
    "                            all_positive = new_attribute + abs(the_min)\n",
    "                        else:\n",
    "                            all_positive = new_attribute\n",
    "\n",
    "                        if np.std(all_positive)== 0.0:\n",
    "                            minmax = np.ones(new_partition.shape[0]*num_timestamps)\n",
    "                        else:\n",
    "                            sqrt = np.sqrt(all_positive)\n",
    "                            data_2d = sqrt.reshape(-1, 1)\n",
    "                            minmax = scaler.fit_transform(data_2d).flatten()\n",
    "                        if (np.isnan(minmax).any() or np.isinf(minmax).any()):\n",
    "                            print('nan-sqrt')\n",
    "\n",
    "                    else:\n",
    "                        if np.std(new_attribute)== 0.0:\n",
    "                            minmax = np.ones(new_partition.shape[0]*num_timestamps)\n",
    "                        else:\n",
    "                            zscore = stats.zscore(new_attribute)\n",
    "                            data_2d = zscore.reshape(-1, 1)\n",
    "                            minmax = scaler.fit_transform(data_2d).flatten()\n",
    "                        if (np.isnan(minmax).any() or np.isinf(minmax).any()):\n",
    "                            print('nan-zscore')\n",
    "\n",
    "                        \n",
    "                else:\n",
    "                    if (skewness > 1 or skewness < -1):\n",
    "                        if (the_min < 0):\n",
    "                            all_positive = new_attribute + 2*abs(the_min)\n",
    "                        else:\n",
    "                            all_positive = new_attribute\n",
    "\n",
    "                        if np.std(all_positive)== 0.0:\n",
    "                            minmax = np.ones(new_partition.shape[0]*num_timestamps)\n",
    "                        else:\n",
    "                            boxcox, values = stats.boxcox(all_positive)\n",
    "                            data_2d = boxcox.reshape(-1, 1)\n",
    "                            minmax = scaler.fit_transform(data_2d).flatten()\n",
    "                        if (np.isnan(minmax).any() or np.isinf(minmax).any()):\n",
    "                            print('nan-boxcox')\n",
    "                            \n",
    "                    else:\n",
    "                        if np.std(new_attribute)== 0.0:\n",
    "                            minmax = np.ones(new_partition.shape[0]*num_timestamps)\n",
    "                        else:\n",
    "                            zscore = stats.zscore(new_attribute)\n",
    "                            data_2d = zscore.reshape(-1, 1)\n",
    "                            minmax = scaler.fit_transform(data_2d).flatten()\n",
    "                        if (np.isnan(minmax).any() or np.isinf(minmax).any()):\n",
    "                            print('nan-zscore')\n",
    "\n",
    "                    new_attribute = minmax\n",
    "\n",
    "                for m in range(0,new_partition.shape[0]):\n",
    "                    new_partition[m,j*num_timestamps:(j+1)*num_timestamps] = minmax[m*num_timestamps:(m+1)*num_timestamps] \n",
    "                 \n",
    "\n",
    "                pbar.update(1)\n",
    "\n",
    "       \n",
    "\n",
    "            with open(data_dir + first_name + \"Partition\" + str(i+1) + last_name + \".pkl\", 'wb') as f:\n",
    "                pickle.dump(new_partition, f)\n",
    "            with open(data_dir + first_name + \"Partition\" + str(i+1) + \"_Labels\" + last_name +\".pkl\", 'wb') as f:\n",
    "                pickle.dump(labels[i], f)"
   ]
  },
  {
   "cell_type": "markdown",
   "id": "135c961f",
   "metadata": {},
   "source": [
    "### Reading the Data built by the Previous Notebooks (RUS_Tomek_Smote)"
   ]
  },
  {
   "cell_type": "code",
   "execution_count": 5,
   "id": "a6565552",
   "metadata": {},
   "outputs": [],
   "source": [
    "import pickle\n",
    "import pandas as pd\n",
    "import numpy as np\n",
    "\n",
    "data_dir = \"/Users/samskanderi/Documents/Research_Project/SWANSF/code/6_1_OUSampling_Concatenation_KnnImputation/\"\n",
    "\n",
    "X_train_array = []\n",
    "Y_train_array = []\n",
    "\n",
    "num_partitions = 5\n",
    "for i in range(0, num_partitions):\n",
    "    with open(data_dir + \"RUS_Tomek_Smote_\" +\"Partition\" + str(i+1) + \"_OUSampling_WithoutC_Concatenation_KnnImputation\" +\".pkl\", 'rb') as f:\n",
    "        X_train_array.append(pickle.load(f))\n",
    "    with open(data_dir + \"RUS_Tomek_Smote_\" + \"Partition\" + str(i+1) + \"_Labels_OUSampling_WithoutC_Concatenation_KnnImputation\" +\".pkl\", 'rb') as f:\n",
    "        Y_train_array.append(pickle.load(f))"
   ]
  },
  {
   "cell_type": "code",
   "execution_count": 6,
   "id": "eb4acad3",
   "metadata": {},
   "outputs": [
    {
     "name": "stderr",
     "output_type": "stream",
     "text": [
      "24it [00:02, 10.97it/s]\n",
      "24it [00:01, 13.86it/s]\n",
      "24it [00:02,  9.96it/s]\n",
      "24it [00:02, 11.65it/s]\n",
      "24it [00:01, 13.82it/s]\n"
     ]
    }
   ],
   "source": [
    "data_dir = \"/Users/samskanderi/Documents/Research_Project/SWANSF/code/8_3_FinalData_OUSampling_Concatenation_LSBZM_KnnImputation/\"\n",
    "first_name = 'RUS_Tomek_Smote_'\n",
    "last_name = '_WithoutC_Concatenation_LSBZM_KnnImputation'\n",
    "\n",
    "lsbzm(1,5,X_train_array,Y_train_array, data_dir, first_name, last_name)"
   ]
  },
  {
   "cell_type": "markdown",
   "id": "4fb11bc0",
   "metadata": {},
   "source": [
    "### Reading the Data built by the Previous Notebooks (RUS_Tomek_Adasyn)"
   ]
  },
  {
   "cell_type": "code",
   "execution_count": 7,
   "id": "25b8ad0e",
   "metadata": {},
   "outputs": [],
   "source": [
    "import pickle\n",
    "import pandas as pd\n",
    "\n",
    "data_dir = \"/Users/samskanderi/Documents/Research_Project/SWANSF/code/6_1_OUSampling_Concatenation_KnnImputation/\"\n",
    "\n",
    "X_train_array = []\n",
    "Y_train_array = []\n",
    "\n",
    "num_partitions = 5\n",
    "for i in range(0, num_partitions):\n",
    "    with open(data_dir + \"RUS_Tomek_Adasyn_\" +\"Partition\" + str(i+1) + \"_OUSampling_WithoutC_Concatenation_KnnImputation\" +\".pkl\", 'rb') as f:\n",
    "        X_train_array.append(pickle.load(f))\n",
    "    with open(data_dir + \"RUS_Tomek_Adasyn_\" + \"Partition\" + str(i+1) + \"_Labels_OUSampling_WithoutC_Concatenation_KnnImputation\" +\".pkl\", 'rb') as f:\n",
    "        Y_train_array.append(pickle.load(f))"
   ]
  },
  {
   "cell_type": "code",
   "execution_count": 8,
   "id": "46b560a4",
   "metadata": {},
   "outputs": [
    {
     "name": "stderr",
     "output_type": "stream",
     "text": [
      "24it [00:02, 11.53it/s]\n",
      "24it [00:01, 13.24it/s]\n",
      "24it [00:02, 10.02it/s]\n",
      "24it [00:02, 11.16it/s]\n",
      "24it [00:01, 13.50it/s]\n"
     ]
    }
   ],
   "source": [
    "data_dir = \"/Users/samskanderi/Documents/Research_Project/SWANSF/code/8_3_FinalData_OUSampling_Concatenation_LSBZM_KnnImputation/\"\n",
    "first_name = 'RUS_Tomek_Adasyn_'\n",
    "last_name = '_WithoutC_Concatenation_LSBZM_KnnImputation'\n",
    "\n",
    "lsbzm(1,5,X_train_array,Y_train_array, data_dir, first_name, last_name)"
   ]
  },
  {
   "cell_type": "markdown",
   "id": "624b83be",
   "metadata": {},
   "source": [
    "### Reading the Data built by the Previous Notebooks (Smote)"
   ]
  },
  {
   "cell_type": "code",
   "execution_count": 9,
   "id": "41e576c7",
   "metadata": {},
   "outputs": [],
   "source": [
    "import pickle\n",
    "import pandas as pd\n",
    "\n",
    "data_dir = \"/Users/samskanderi/Documents/Research_Project/SWANSF/code/6_2_OSampling_Concatenation_KnnImputation/\"\n",
    "\n",
    "X_train_array = []\n",
    "Y_train_array = []\n",
    "\n",
    "num_partitions = 5\n",
    "for i in range(0, num_partitions):\n",
    "    with open(data_dir + \"Smote_\" +\"Partition\" + str(i+1) + \"_OSampling_WithoutC_Concatenation_KnnImputation\" +\".pkl\", 'rb') as f:\n",
    "        X_train_array.append(pickle.load(f))\n",
    "    with open(data_dir + \"Smote_\" + \"Partition\" + str(i+1) + \"_Labels_OSampling_WithoutC_Concatenation_KnnImputation\" +\".pkl\", 'rb') as f:\n",
    "        Y_train_array.append(pickle.load(f))"
   ]
  },
  {
   "cell_type": "code",
   "execution_count": 10,
   "id": "0878e5cf",
   "metadata": {},
   "outputs": [
    {
     "name": "stderr",
     "output_type": "stream",
     "text": [
      "24it [00:15,  1.51it/s]\n",
      "24it [00:18,  1.27it/s]\n",
      "24it [00:09,  2.61it/s]\n",
      "24it [00:10,  2.37it/s]\n",
      "24it [00:15,  1.53it/s]\n"
     ]
    }
   ],
   "source": [
    "data_dir = \"/Users/samskanderi/Documents/Research_Project/SWANSF/code/8_4_FinalData_OSampling_Concatenation_LSBZM_KnnImputation/\"\n",
    "first_name = 'Smote_'\n",
    "last_name = '_OSampling_WithoutC_Concatenation_LSBZM_KnnImputation'\n",
    "\n",
    "lsbzm(1,5,X_train_array,Y_train_array, data_dir, first_name, last_name)"
   ]
  },
  {
   "cell_type": "markdown",
   "id": "1caf8965",
   "metadata": {},
   "source": [
    "### Reading the Data built by the Previous Notebooks (Adasyn)"
   ]
  },
  {
   "cell_type": "code",
   "execution_count": 11,
   "id": "0d671c1d",
   "metadata": {},
   "outputs": [],
   "source": [
    "import pickle\n",
    "import pandas as pd\n",
    "\n",
    "data_dir = \"/Users/samskanderi/Documents/Research_Project/SWANSF/code/6_2_OSampling_Concatenation_KnnImputation/\"\n",
    "\n",
    "X_train_array = []\n",
    "Y_train_array = []\n",
    "\n",
    "num_partitions = 5\n",
    "for i in range(0, num_partitions):\n",
    "    with open(data_dir + \"Adasyn_\" +\"Partition\" + str(i+1) + \"_OSampling_WithoutC_Concatenation_KnnImputation\" +\".pkl\", 'rb') as f:\n",
    "        X_train_array.append(pickle.load(f))\n",
    "    with open(data_dir + \"Adasyn_\" + \"Partition\" + str(i+1) + \"_Labels_OSampling_WithoutC_Concatenation_KnnImputation\" +\".pkl\", 'rb') as f:\n",
    "        Y_train_array.append(pickle.load(f))"
   ]
  },
  {
   "cell_type": "code",
   "execution_count": 12,
   "id": "95566b44",
   "metadata": {},
   "outputs": [
    {
     "name": "stderr",
     "output_type": "stream",
     "text": [
      "24it [00:15,  1.56it/s]\n",
      "24it [00:18,  1.29it/s]\n",
      "24it [00:08,  2.71it/s]\n",
      "24it [00:09,  2.57it/s]\n",
      "24it [00:14,  1.61it/s]\n"
     ]
    }
   ],
   "source": [
    "data_dir = \"/Users/samskanderi/Documents/Research_Project/SWANSF/code/8_4_FinalData_OSampling_Concatenation_LSBZM_KnnImputation/\"\n",
    "first_name = 'Adasyn_'\n",
    "last_name = '_OSampling_WithoutC_Concatenation_LSBZM_KnnImputation'\n",
    "\n",
    "lsbzm(1,5,X_train_array,Y_train_array, data_dir, first_name, last_name)"
   ]
  },
  {
   "cell_type": "markdown",
   "id": "3a2d7e1a",
   "metadata": {},
   "source": [
    "### Reading the Data built by the Previous Notebooks (GNI)"
   ]
  },
  {
   "cell_type": "code",
   "execution_count": 13,
   "id": "e08dc38b",
   "metadata": {},
   "outputs": [],
   "source": [
    "import pickle\n",
    "import pandas as pd\n",
    "\n",
    "data_dir = \"/Users/samskanderi/Documents/Research_Project/SWANSF/code/6_2_OSampling_Concatenation_KnnImputation/\"\n",
    "\n",
    "X_train_array = []\n",
    "Y_train_array = []\n",
    "\n",
    "num_partitions = 5\n",
    "for i in range(0, num_partitions):\n",
    "    with open(data_dir + \"GaussianNoise_\" +\"Partition\" + str(i+1) + \"_OSampling_WithoutC_Concatenation_KnnImputation\" +\".pkl\", 'rb') as f:\n",
    "        X_train_array.append(pickle.load(f))\n",
    "    with open(data_dir + \"GaussianNoise_\" + \"Partition\" + str(i+1) + \"_Labels_OSampling_WithoutC_Concatenation_KnnImputation\" +\".pkl\", 'rb') as f:\n",
    "        Y_train_array.append(pickle.load(f))"
   ]
  },
  {
   "cell_type": "code",
   "execution_count": 14,
   "id": "860b77b9",
   "metadata": {},
   "outputs": [
    {
     "name": "stderr",
     "output_type": "stream",
     "text": [
      "24it [00:16,  1.48it/s]\n",
      "24it [00:18,  1.29it/s]\n",
      "24it [00:08,  2.69it/s]\n",
      "24it [00:08,  2.68it/s]\n",
      "24it [00:15,  1.60it/s]\n"
     ]
    }
   ],
   "source": [
    "data_dir = \"/Users/samskanderi/Documents/Research_Project/SWANSF/code/8_4_FinalData_OSampling_Concatenation_LSBZM_KnnImputation/\"\n",
    "first_name = 'GaussianNoise_'\n",
    "last_name = '_OSampling_WithoutC_Concatenation_LSBZM_KnnImputation'\n",
    "\n",
    "lsbzm(1,5,X_train_array,Y_train_array, data_dir, first_name, last_name)"
   ]
  },
  {
   "cell_type": "markdown",
   "id": "8edd1618",
   "metadata": {},
   "source": [
    "### Reading the Data built by the Previous Notebooks (GNI, Tomek, RUS)"
   ]
  },
  {
   "cell_type": "code",
   "execution_count": 15,
   "id": "400a37fe",
   "metadata": {},
   "outputs": [],
   "source": [
    "import pickle\n",
    "import pandas as pd\n",
    "\n",
    "data_dir = \"/Users/samskanderi/Documents/Research_Project/SWANSF/code/6_1_OUSampling_Concatenation_KnnImputation/\"\n",
    "\n",
    "X_train_array = []\n",
    "Y_train_array = []\n",
    "\n",
    "num_partitions = 5\n",
    "for i in range(0, num_partitions):\n",
    "    with open(data_dir + \"RUS_Tomek_GNI_\" +\"Partition\" + str(i+1) + \"_OUSampling_WithoutC_Concatenation_KnnImputation\" +\".pkl\", 'rb') as f:\n",
    "        X_train_array.append(pickle.load(f))\n",
    "    with open(data_dir + \"RUS_Tomek_GNI_\" + \"Partition\" + str(i+1) + \"_Labels_OUSampling_WithoutC_Concatenation_KnnImputation\" +\".pkl\", 'rb') as f:\n",
    "        Y_train_array.append(pickle.load(f))"
   ]
  },
  {
   "cell_type": "code",
   "execution_count": 16,
   "id": "38e42dc3",
   "metadata": {},
   "outputs": [
    {
     "name": "stderr",
     "output_type": "stream",
     "text": [
      "24it [00:02, 10.86it/s]\n",
      "24it [00:02, 11.20it/s]\n",
      "24it [00:01, 13.08it/s]\n",
      "24it [00:02, 11.35it/s]\n",
      "24it [00:01, 14.41it/s]\n"
     ]
    }
   ],
   "source": [
    "data_dir = \"/Users/samskanderi/Documents/Research_Project/SWANSF/code/8_3_FinalData_OUSampling_Concatenation_LSBZM_KnnImputation/\"\n",
    "first_name = 'RUS_Tomek_GNI_'\n",
    "last_name = '_WithoutC_Concatenation_LSBZM_KnnImputation'\n",
    "\n",
    "lsbzm(1,5,X_train_array,Y_train_array, data_dir, first_name, last_name)"
   ]
  },
  {
   "cell_type": "markdown",
   "id": "c0a5e7a3",
   "metadata": {},
   "source": [
    "### Reading the Data built by the Previous Notebooks (TimeGAN)"
   ]
  },
  {
   "cell_type": "code",
   "execution_count": 17,
   "id": "62b0f2e5",
   "metadata": {},
   "outputs": [],
   "source": [
    "import pickle\n",
    "import pandas as pd\n",
    "\n",
    "data_dir = \"/Users/samskanderi/Documents/Research_Project/SWANSF/code/6_2_OSampling_Concatenation_KnnImputation/\"\n",
    "\n",
    "X_train_array = []\n",
    "Y_train_array = []\n",
    "\n",
    "num_partitions = 5\n",
    "for i in range(0, num_partitions):\n",
    "    with open(data_dir + \"TimeGAN_\" +\"Partition\" + str(i+1) + \"_OSampling_WithoutC_Concatenation_KnnImputation\" +\".pkl\", 'rb') as f:\n",
    "        X_train_array.append(pickle.load(f))\n",
    "    with open(data_dir + \"timeGAN_\" + \"Partition\" + str(i+1) + \"_Labels_OSampling_WithoutC_Concatenation_KnnImputation\" +\".pkl\", 'rb') as f:\n",
    "        Y_train_array.append(pickle.load(f))"
   ]
  },
  {
   "cell_type": "code",
   "execution_count": 18,
   "id": "67746c97",
   "metadata": {},
   "outputs": [
    {
     "name": "stderr",
     "output_type": "stream",
     "text": [
      "24it [00:13,  1.80it/s]\n",
      "24it [00:20,  1.19it/s]\n",
      "24it [00:08,  2.98it/s]\n",
      "24it [00:10,  2.38it/s]\n",
      "24it [00:12,  1.91it/s]\n"
     ]
    }
   ],
   "source": [
    "data_dir = \"/Users/samskanderi/Documents/Research_Project/SWANSF/code/8_4_FinalData_OSampling_Concatenation_LSBZM_KnnImputation/\"\n",
    "first_name = 'TimeGAN_'\n",
    "last_name = '_OSampling_WithoutC_Concatenation_LSBZM_KnnImputation'\n",
    "\n",
    "lsbzm(1,5,X_train_array,Y_train_array, data_dir, first_name, last_name)"
   ]
  },
  {
   "cell_type": "markdown",
   "id": "f1e3c2fd",
   "metadata": {},
   "source": [
    "### Reading the Data built by the Previous Notebooks (TimeGAN, Tomek, RUS)"
   ]
  },
  {
   "cell_type": "code",
   "execution_count": 19,
   "id": "c7463e4d",
   "metadata": {},
   "outputs": [],
   "source": [
    "import pickle\n",
    "import pandas as pd\n",
    "\n",
    "data_dir = \"/Users/samskanderi/Documents/Research_Project/SWANSF/code/6_1_OUSampling_Concatenation_KnnImputation/\"\n",
    "\n",
    "X_train_array = []\n",
    "Y_train_array = []\n",
    "\n",
    "num_partitions = 5\n",
    "for i in range(0, num_partitions):\n",
    "    with open(data_dir + \"RUS_Tomek_TimeGAN_\" +\"Partition\" + str(i+1) + \"_OUSampling_WithoutC_Concatenation_KnnImputation\" +\".pkl\", 'rb') as f:\n",
    "        X_train_array.append(pickle.load(f))\n",
    "    with open(data_dir + \"RUS_Tomek_TimeGAN_\" + \"Partition\" + str(i+1) + \"_Labels_OUSampling_WithoutC_Concatenation_KnnImputation\" +\".pkl\", 'rb') as f:\n",
    "        Y_train_array.append(pickle.load(f))"
   ]
  },
  {
   "cell_type": "code",
   "execution_count": 20,
   "id": "00220c20",
   "metadata": {},
   "outputs": [
    {
     "name": "stderr",
     "output_type": "stream",
     "text": [
      "24it [00:01, 13.75it/s]\n",
      "24it [00:02, 11.52it/s]\n",
      "24it [00:01, 13.49it/s]\n",
      "24it [00:02, 11.49it/s]\n",
      "24it [00:01, 13.00it/s]\n"
     ]
    }
   ],
   "source": [
    "data_dir = \"/Users/samskanderi/Documents/Research_Project/SWANSF/code/8_3_FinalData_OUSampling_Concatenation_LSBZM_KnnImputation/\"\n",
    "first_name = 'RUS_Tomek_TimeGAN_'\n",
    "last_name = '_WithoutC_Concatenation_LSBZM_KnnImputation'\n",
    "\n",
    "lsbzm(1,5,X_train_array,Y_train_array, data_dir, first_name, last_name)"
   ]
  },
  {
   "cell_type": "code",
   "execution_count": null,
   "id": "5008807e",
   "metadata": {},
   "outputs": [],
   "source": []
  }
 ],
 "metadata": {
  "kernelspec": {
   "display_name": "Python 3 (ipykernel)",
   "language": "python",
   "name": "python3"
  },
  "language_info": {
   "codemirror_mode": {
    "name": "ipython",
    "version": 3
   },
   "file_extension": ".py",
   "mimetype": "text/x-python",
   "name": "python",
   "nbconvert_exporter": "python",
   "pygments_lexer": "ipython3",
   "version": "3.11.3"
  }
 },
 "nbformat": 4,
 "nbformat_minor": 5
}
