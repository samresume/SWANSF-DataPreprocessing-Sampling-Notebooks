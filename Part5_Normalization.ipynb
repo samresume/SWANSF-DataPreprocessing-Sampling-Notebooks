{
 "cells": [
  {
   "cell_type": "markdown",
   "id": "f0b37356",
   "metadata": {},
   "source": [
    "# Normalization on Concatenated Multivariate Time Series Data (2D)"
   ]
  },
  {
   "cell_type": "markdown",
   "id": "77ffffdd",
   "metadata": {},
   "source": [
    "### Reading the Data built by the Previous Notebooks (FPCKNN Imputation)"
   ]
  },
  {
   "cell_type": "code",
   "execution_count": 1,
   "id": "d21a550a",
   "metadata": {},
   "outputs": [
    {
     "name": "stdout",
     "output_type": "stream",
     "text": [
      "P1 Nan-Value: False\n",
      "P2 Nan-Value: False\n",
      "P3 Nan-Value: False\n",
      "P4 Nan-Value: False\n",
      "P5 Nan-Value: False\n"
     ]
    }
   ],
   "source": [
    "import numpy as np\n",
    "import pandas as pd\n",
    "import pickle\n",
    "\n",
    "data_dir = \"/Users/samskanderi/Documents/Research_Project/SWANSF/code/4_1_FinalData_Concatenation_KnnImputation/\"\n",
    "\n",
    "concat_imputed_data = []\n",
    "labels = []\n",
    "\n",
    "\n",
    "num_partitions = 5\n",
    "\n",
    "for i in range(0,num_partitions):\n",
    "# Load the array with Pickle\n",
    "    with open(data_dir + \"Partition\" + str(i+1) + \"_Concatenation_KnnImputation\" +\".pkl\", 'rb') as f:\n",
    "        concat_imputed_data.append(pickle.load(f))\n",
    "        \n",
    "    print(\"P\"+str(i+1)+\" Nan-Value: \"+ str(np.isnan(concat_imputed_data[i]).any() or np.isinf(concat_imputed_data[i]).any()))  \n",
    "\n",
    "    with open(data_dir + \"Partition\" + str(i+1) + \"_Labels_Concatenation_KnnImputation\" +\".pkl\", 'rb') as f:\n",
    "        labels.append(pickle.load(f))"
   ]
  },
  {
   "cell_type": "markdown",
   "id": "1e274495",
   "metadata": {},
   "source": [
    "### Mean Imputation Technique"
   ]
  },
  {
   "cell_type": "code",
   "execution_count": 7,
   "id": "636226b4",
   "metadata": {},
   "outputs": [
    {
     "name": "stdout",
     "output_type": "stream",
     "text": [
      "P1 Nan-Value: False\n",
      "P2 Nan-Value: False\n",
      "P3 Nan-Value: False\n",
      "P4 Nan-Value: False\n",
      "P5 Nan-Value: False\n"
     ]
    }
   ],
   "source": [
    "import numpy as np\n",
    "import pandas as pd\n",
    "import pickle\n",
    "\n",
    "data_dir = \"/Users/samskanderi/Documents/Research_Project/SWANSF/code/4_0_FinalData_BaseLineImputation/\"\n",
    "\n",
    "concat_imputed_data = []\n",
    "labels = []\n",
    "\n",
    "\n",
    "num_partitions = 5\n",
    "\n",
    "for i in range(0,num_partitions):\n",
    "# Load the array with Pickle\n",
    "    with open(data_dir + \"Partition\" + str(i+1) + \"_Concatenation_MeanImputation\" +\".pkl\", 'rb') as f:\n",
    "        concat_imputed_data.append(pickle.load(f))\n",
    "        \n",
    "    print(\"P\"+str(i+1)+\" Nan-Value: \"+ str(np.isnan(concat_imputed_data[i]).any() or np.isinf(concat_imputed_data[i]).any()))  \n",
    "\n",
    "    with open(data_dir + \"Partition\" + str(i+1) + \"_Labels_Concatenation_MeanImputation\" +\".pkl\", 'rb') as f:\n",
    "        labels.append(pickle.load(f))"
   ]
  },
  {
   "cell_type": "markdown",
   "id": "cbdc8bdc",
   "metadata": {},
   "source": [
    "### Nextvalue Imputation Technique"
   ]
  },
  {
   "cell_type": "code",
   "execution_count": 1,
   "id": "954f8f27",
   "metadata": {},
   "outputs": [
    {
     "name": "stdout",
     "output_type": "stream",
     "text": [
      "P1 Nan-Value: False\n",
      "P2 Nan-Value: False\n",
      "P3 Nan-Value: False\n",
      "P4 Nan-Value: False\n",
      "P5 Nan-Value: False\n"
     ]
    }
   ],
   "source": [
    "import numpy as np\n",
    "import pandas as pd\n",
    "import pickle\n",
    "\n",
    "data_dir = \"/Users/samskanderi/Documents/Research_Project/SWANSF/code/4_0_FinalData_BaseLineImputation/\"\n",
    "\n",
    "concat_imputed_data = []\n",
    "labels = []\n",
    "\n",
    "\n",
    "num_partitions = 5\n",
    "\n",
    "for i in range(0,num_partitions):\n",
    "# Load the array with Pickle\n",
    "    with open(data_dir + \"Partition\" + str(i+1) + \"_Concatenation_NextvalueImputation\" +\".pkl\", 'rb') as f:\n",
    "        concat_imputed_data.append(pickle.load(f))\n",
    "        \n",
    "    print(\"P\"+str(i+1)+\" Nan-Value: \"+ str(np.isnan(concat_imputed_data[i]).any() or np.isinf(concat_imputed_data[i]).any()))  \n",
    "\n",
    "    with open(data_dir + \"Partition\" + str(i+1) + \"_Labels_Concatenation_NextvalueImputation\" +\".pkl\", 'rb') as f:\n",
    "        labels.append(pickle.load(f))"
   ]
  },
  {
   "cell_type": "markdown",
   "id": "999f573d",
   "metadata": {},
   "source": [
    "### Zscore Normalization Technique"
   ]
  },
  {
   "cell_type": "code",
   "execution_count": 2,
   "id": "68898882",
   "metadata": {},
   "outputs": [],
   "source": [
    "from scipy import stats\n",
    "import numpy as np\n",
    "from sklearn.preprocessing import MinMaxScaler\n",
    "scaler = MinMaxScaler()\n",
    "from tqdm import tqdm\n",
    "\n",
    "def zscore(start_partition, end_partition, data, labels, data_dir, name):\n",
    "    \n",
    "    num_timestamps= 60\n",
    "    num_attributes = 24\n",
    "\n",
    "    for i in range(start_partition-1,end_partition):\n",
    "        new_partition = np.zeros((np.array(data[i]).shape[0], num_timestamps*num_attributes))\n",
    "        new_partition = np.array(data[i])\n",
    "\n",
    "        with tqdm(num_attributes) as pbar:\n",
    "            for j in range(0,num_attributes):\n",
    "                new_attribute = np.zeros(new_partition.shape[0]*num_timestamps)  \n",
    "                \n",
    "                for m in range(0,new_partition.shape[0]):\n",
    "                    new_attribute[m*num_timestamps:(m+1)*num_timestamps] = new_partition[m,j*num_timestamps:(j+1)*num_timestamps]\n",
    "                 \n",
    "                if np.std(new_attribute)== 0.0:\n",
    "                    zscore = np.ones(new_partition.shape[0]*num_timestamps)\n",
    "                else:\n",
    "                    zscore = stats.zscore(new_attribute)\n",
    "                if (np.isnan(zscore).any() or np.isinf(zscore).any()):\n",
    "                    print('nan-zscore')\n",
    "                \n",
    "                for m in range(0,new_partition.shape[0]):\n",
    "                    new_partition[m,j*num_timestamps:(j+1)*num_timestamps] = zscore[m*num_timestamps:(m+1)*num_timestamps] \n",
    "                 \n",
    "                pbar.update(1)\n",
    "\n",
    "            with open(data_dir + \"Partition\" + str(i+1) + \"_\" + name +\".pkl\", 'wb') as f:\n",
    "                pickle.dump(new_partition, f)\n",
    "            with open(data_dir + \"Partition\" + str(i+1) + \"_Labels_\" + name +\".pkl\", 'wb') as f:\n",
    "                pickle.dump(labels[i], f)\n",
    "\n",
    "        \n",
    "                   "
   ]
  },
  {
   "cell_type": "markdown",
   "id": "02fbd52b",
   "metadata": {},
   "source": [
    "### MinMax Normalization Technique"
   ]
  },
  {
   "cell_type": "code",
   "execution_count": 3,
   "id": "99526720",
   "metadata": {},
   "outputs": [],
   "source": [
    "from scipy import stats\n",
    "import numpy as np\n",
    "from sklearn.preprocessing import MinMaxScaler\n",
    "scaler = MinMaxScaler()\n",
    "from tqdm import tqdm\n",
    "\n",
    "def minmax(start_partition, end_partition, data, labels, data_dir, name):\n",
    "    \n",
    "    num_timestamps= 60\n",
    "    num_attributes = 24\n",
    "\n",
    "    for i in range(start_partition-1,end_partition):\n",
    "        new_partition = np.zeros((np.array(data[i]).shape[0], num_timestamps*num_attributes))\n",
    "        new_partition = np.array(data[i])\n",
    "\n",
    "        with tqdm(num_attributes) as pbar:\n",
    "            for j in range(0,num_attributes):\n",
    "                new_attribute = np.zeros(new_partition.shape[0]*num_timestamps)  \n",
    "                \n",
    "                for m in range(0,new_partition.shape[0]):\n",
    "                    new_attribute[m*num_timestamps:(m+1)*num_timestamps] = new_partition[m,j*num_timestamps:(j+1)*num_timestamps]\n",
    "                 \n",
    "                if np.std(new_attribute)== 0.0:\n",
    "                    minmax = np.ones(new_partition.shape[0]*num_timestamps)\n",
    "                else:\n",
    "                    data_2d = new_attribute.reshape(-1, 1)\n",
    "                    minmax = scaler.fit_transform(data_2d).flatten()\n",
    "                if (np.isnan(minmax).any() or np.isinf(minmax).any()):\n",
    "                    print('nan-minmax')\n",
    "                \n",
    "                for m in range(0,new_partition.shape[0]):\n",
    "                    new_partition[m,j*num_timestamps:(j+1)*num_timestamps] = minmax[m*num_timestamps:(m+1)*num_timestamps] \n",
    "                 \n",
    "                pbar.update(1)\n",
    "\n",
    "            with open(data_dir + \"Partition\" + str(i+1) + \"_\" + name +\".pkl\", 'wb') as f:\n",
    "                pickle.dump(new_partition, f)\n",
    "            with open(data_dir + \"Partition\" + str(i+1) + \"_Labels_\" + name +\".pkl\", 'wb') as f:\n",
    "                pickle.dump(labels[i], f)\n",
    "\n",
    "        \n",
    "                   "
   ]
  },
  {
   "cell_type": "markdown",
   "id": "3f729bb8",
   "metadata": {},
   "source": [
    "### Saving Z-score Normalization and FPCKNN Imputation Data"
   ]
  },
  {
   "cell_type": "code",
   "execution_count": 4,
   "id": "4c65ae40",
   "metadata": {},
   "outputs": [
    {
     "name": "stderr",
     "output_type": "stream",
     "text": [
      "24it [00:02,  9.66it/s]\n",
      "24it [00:02,  8.17it/s]\n",
      "24it [00:01, 17.28it/s]\n",
      "24it [00:01, 14.64it/s]\n",
      "24it [00:02,  9.49it/s]\n"
     ]
    }
   ],
   "source": [
    "data_dir = \"/Users/samskanderi/Documents/Research_Project/SWANSF/code/5_3_FinalData_Concatenation_ZM_KnnImputation/\"\n",
    "name = 'Concatenation_ZNorm_KnnImputation'\n",
    "\n",
    "zscore(1,5,concat_imputed_data,labels, data_dir, name)"
   ]
  },
  {
   "cell_type": "markdown",
   "id": "164f1011",
   "metadata": {},
   "source": [
    "### Saving MinMax Normalization and FPCKNN Imputation Data"
   ]
  },
  {
   "cell_type": "code",
   "execution_count": 5,
   "id": "a8e7eecf",
   "metadata": {},
   "outputs": [
    {
     "name": "stderr",
     "output_type": "stream",
     "text": [
      "24it [00:02, 10.30it/s]\n",
      "24it [00:02,  8.80it/s]\n",
      "24it [00:01, 18.75it/s]\n",
      "24it [00:01, 15.34it/s]\n",
      "24it [00:02, 10.34it/s]\n"
     ]
    }
   ],
   "source": [
    "data_dir = \"/Users/samskanderi/Documents/Research_Project/SWANSF/code/5_3_FinalData_Concatenation_ZM_KnnImputation/\"\n",
    "name = 'Concatenation_MinMaxNorm_KnnImputation'\n",
    "\n",
    "minmax(1,5,concat_imputed_data,labels, data_dir, name)"
   ]
  },
  {
   "cell_type": "markdown",
   "id": "9b604862",
   "metadata": {},
   "source": [
    "### Saving MinMax Normalization and Mean Imputation Data"
   ]
  },
  {
   "cell_type": "code",
   "execution_count": 10,
   "id": "ddcaff37",
   "metadata": {},
   "outputs": [
    {
     "name": "stderr",
     "output_type": "stream",
     "text": [
      "24it [00:02,  8.93it/s]\n",
      "24it [00:03,  7.71it/s]\n",
      "24it [00:01, 17.82it/s]\n",
      "24it [00:01, 14.98it/s]\n",
      "24it [00:02,  9.80it/s]\n"
     ]
    }
   ],
   "source": [
    "data_dir = \"/Users/samskanderi/Documents/Research_Project/SWANSF/code/5_0_FinalData_ZM_BaseLineImputation/\"\n",
    "name = 'Concatenation_MinMaxNorm_MeanImputation'\n",
    "\n",
    "minmax(1,5,concat_imputed_data,labels, data_dir, name)"
   ]
  },
  {
   "cell_type": "markdown",
   "id": "cb16d394",
   "metadata": {},
   "source": [
    "### Saving Z-score Normalization and Mean Imputation Data"
   ]
  },
  {
   "cell_type": "code",
   "execution_count": 11,
   "id": "3dfae2a2",
   "metadata": {},
   "outputs": [
    {
     "name": "stderr",
     "output_type": "stream",
     "text": [
      "24it [00:02,  9.67it/s]\n",
      "24it [00:02,  8.05it/s]\n",
      "24it [00:01, 17.08it/s]\n",
      "24it [00:01, 14.48it/s]\n",
      "24it [00:02,  9.59it/s]\n"
     ]
    }
   ],
   "source": [
    "data_dir = \"/Users/samskanderi/Documents/Research_Project/SWANSF/code/5_0_FinalData_ZM_BaseLineImputation/\"\n",
    "name = 'Concatenation_ZNorm_MeanImputation'\n",
    "\n",
    "zscore(1,5,concat_imputed_data,labels, data_dir, name)"
   ]
  },
  {
   "cell_type": "markdown",
   "id": "6e43532a",
   "metadata": {},
   "source": [
    "### Saving MinMax Normalization and Nextvalue Imputation Data"
   ]
  },
  {
   "cell_type": "code",
   "execution_count": 4,
   "id": "966fce48",
   "metadata": {},
   "outputs": [
    {
     "name": "stderr",
     "output_type": "stream",
     "text": [
      "24it [00:03,  6.91it/s]\n",
      "24it [00:04,  5.88it/s]\n",
      "24it [00:01, 14.62it/s]\n",
      "24it [00:01, 12.26it/s]\n",
      "24it [00:02,  8.23it/s]\n"
     ]
    }
   ],
   "source": [
    "data_dir = \"/Users/samskanderi/Documents/Research_Project/SWANSF/code/5_0_FinalData_ZM_BaseLineImputation/\"\n",
    "name = 'Concatenation_MinMaxNorm_NextvalueImputation'\n",
    "\n",
    "minmax(1,5,concat_imputed_data,labels, data_dir, name)"
   ]
  },
  {
   "cell_type": "markdown",
   "id": "6aa30f48",
   "metadata": {},
   "source": [
    "### Saving Z-score Normalization and Nextvalue Imputation Data"
   ]
  },
  {
   "cell_type": "code",
   "execution_count": 5,
   "id": "d12043e2",
   "metadata": {},
   "outputs": [
    {
     "name": "stderr",
     "output_type": "stream",
     "text": [
      "24it [00:03,  7.66it/s]\n",
      "24it [00:04,  5.93it/s]\n",
      "24it [00:01, 13.17it/s]\n",
      "24it [00:02, 11.06it/s]\n",
      "24it [00:03,  7.65it/s]\n"
     ]
    }
   ],
   "source": [
    "data_dir = \"/Users/samskanderi/Documents/Research_Project/SWANSF/code/5_0_FinalData_ZM_BaseLineImputation/\"\n",
    "name = 'Concatenation_ZNorm_NextvalueImputation'\n",
    "\n",
    "zscore(1,5,concat_imputed_data,labels, data_dir, name)"
   ]
  },
  {
   "cell_type": "markdown",
   "id": "b9d20fb8",
   "metadata": {},
   "source": [
    "# LSBZM Normalization Technique for Concatenated Multivariate Time Series Data (2D) (our Novelty)"
   ]
  },
  {
   "cell_type": "code",
   "execution_count": 1,
   "id": "206d73e8",
   "metadata": {},
   "outputs": [],
   "source": [
    "import warnings\n",
    "warnings.filterwarnings(\"ignore\")\n",
    "\n",
    "from sklearn.preprocessing import MinMaxScaler\n",
    "scaler = MinMaxScaler()\n",
    "from scipy import stats\n",
    "from tqdm import tqdm\n",
    "\n",
    "def lsbzm(start_partition, end_partition, data, labels, data_dir, name):\n",
    "\n",
    "    num_timestamps= 60\n",
    "    num_attributes = 24\n",
    "\n",
    "    for i in range(start_partition-1,end_partition):\n",
    "        new_partition = np.zeros((np.array(data[i]).shape[0], num_timestamps*num_attributes))\n",
    "        new_partition = np.array(data[i])\n",
    "\n",
    "        with tqdm(num_attributes) as pbar:\n",
    "            for j in range(0,num_attributes):\n",
    "                new_attribute = np.zeros(new_partition.shape[0]*num_timestamps)  \n",
    "                \n",
    "                for m in range(0,new_partition.shape[0]):\n",
    "                    new_attribute[m*num_timestamps:(m+1)*num_timestamps] = new_partition[m,j*num_timestamps:(j+1)*num_timestamps]\n",
    "                \n",
    "                minmax = np.zeros(new_partition.shape[0]*num_timestamps)\n",
    "                all_positive = np.zeros(new_partition.shape[0]*num_timestamps)\n",
    "\n",
    "                the_min = np.min(new_attribute)\n",
    "                the_max = np.max(new_attribute)\n",
    "                skewness = stats.skew(new_attribute)\n",
    "                \n",
    "                if (the_max - the_min > 100000):\n",
    "                    if (skewness > 1):\n",
    "                        if (the_min < 0):\n",
    "                            all_positive = new_attribute + 2*abs(the_min)\n",
    "                        else:\n",
    "                            all_positive = new_attribute\n",
    "                            \n",
    "                        if np.std(all_positive)== 0.0:\n",
    "                            minmax = np.ones(new_partition.shape[0]*num_timestamps)\n",
    "                        else:\n",
    "                            log = np.log(all_positive)\n",
    "                            data_2d = log.reshape(-1, 1)\n",
    "                            minmax = scaler.fit_transform(data_2d).flatten()\n",
    "                        if (np.isnan(minmax).any() or np.isinf(minmax).any()):\n",
    "                            print('nan-log')\n",
    "\n",
    "                    elif (skewness < -1):\n",
    "                        if (the_min < 0):\n",
    "                            all_positive = new_attribute + abs(the_min)\n",
    "                        else:\n",
    "                            all_positive = new_attribute\n",
    "\n",
    "                        if np.std(all_positive)== 0.0:\n",
    "                            minmax = np.ones(new_partition.shape[0]*num_timestamps)\n",
    "                        else:\n",
    "                            sqrt = np.sqrt(all_positive)\n",
    "                            data_2d = sqrt.reshape(-1, 1)\n",
    "                            minmax = scaler.fit_transform(data_2d).flatten()\n",
    "                        if (np.isnan(minmax).any() or np.isinf(minmax).any()):\n",
    "                            print('nan-sqrt')\n",
    "\n",
    "                    else:\n",
    "                        if np.std(new_attribute)== 0.0:\n",
    "                            minmax = np.ones(new_partition.shape[0]*num_timestamps)\n",
    "                        else:\n",
    "                            zscore = stats.zscore(new_attribute)\n",
    "                            data_2d = zscore.reshape(-1, 1)\n",
    "                            minmax = scaler.fit_transform(data_2d).flatten()\n",
    "                        if (np.isnan(minmax).any() or np.isinf(minmax).any()):\n",
    "                            print('nan-zscore')\n",
    "                \n",
    "                \n",
    "                        \n",
    "                elif (the_max < 1 and the_min > -1):\n",
    "                    \n",
    "                    if (skewness > 1):\n",
    "                        if (the_min < 0):\n",
    "                            all_positive = new_attribute + 2*abs(the_min)\n",
    "                        else:\n",
    "                            all_positive = new_attribute\n",
    "                            \n",
    "                        if np.std(all_positive)== 0.0:\n",
    "                            minmax = np.ones(new_partition.shape[0]*num_timestamps)\n",
    "                        else:\n",
    "                            log = np.log(all_positive)\n",
    "                            data_2d = log.reshape(-1, 1)\n",
    "                            minmax = scaler.fit_transform(data_2d).flatten()\n",
    "                        if (np.isnan(minmax).any() or np.isinf(minmax).any()):\n",
    "                            print('nan-log')\n",
    "\n",
    "                    elif (skewness < -1):\n",
    "                        if (the_min < 0):\n",
    "                            all_positive = new_attribute + abs(the_min)\n",
    "                        else:\n",
    "                            all_positive = new_attribute\n",
    "\n",
    "                        if np.std(all_positive)== 0.0:\n",
    "                            minmax = np.ones(new_partition.shape[0]*num_timestamps)\n",
    "                        else:\n",
    "                            sqrt = np.sqrt(all_positive)\n",
    "                            data_2d = sqrt.reshape(-1, 1)\n",
    "                            minmax = scaler.fit_transform(data_2d).flatten()\n",
    "                        if (np.isnan(minmax).any() or np.isinf(minmax).any()):\n",
    "                            print('nan-sqrt')\n",
    "\n",
    "                    else:\n",
    "                        if np.std(new_attribute)== 0.0:\n",
    "                            minmax = np.ones(new_partition.shape[0]*num_timestamps)\n",
    "                        else:\n",
    "                            zscore = stats.zscore(new_attribute)\n",
    "                            data_2d = zscore.reshape(-1, 1)\n",
    "                            minmax = scaler.fit_transform(data_2d).flatten()\n",
    "                        if (np.isnan(minmax).any() or np.isinf(minmax).any()):\n",
    "                            print('nan-zscore')\n",
    "\n",
    "                        \n",
    "                else:\n",
    "                    if (skewness > 1 or skewness < -1):\n",
    "                        if (the_min < 0):\n",
    "                            all_positive = new_attribute + 2*abs(the_min)\n",
    "                        else:\n",
    "                            all_positive = new_attribute\n",
    "\n",
    "                        if np.std(all_positive)== 0.0:\n",
    "                            minmax = np.ones(new_partition.shape[0]*num_timestamps)\n",
    "                        else:\n",
    "                            boxcox, values = stats.boxcox(all_positive)\n",
    "                            data_2d = boxcox.reshape(-1, 1)\n",
    "                            minmax = scaler.fit_transform(data_2d).flatten()\n",
    "                        if (np.isnan(minmax).any() or np.isinf(minmax).any()):\n",
    "                            print('nan-boxcox')\n",
    "                            \n",
    "                    else:\n",
    "                        if np.std(new_attribute)== 0.0:\n",
    "                            minmax = np.ones(new_partition.shape[0]*num_timestamps)\n",
    "                        else:\n",
    "                            zscore = stats.zscore(new_attribute)\n",
    "                            data_2d = zscore.reshape(-1, 1)\n",
    "                            minmax = scaler.fit_transform(data_2d).flatten()\n",
    "                        if (np.isnan(minmax).any() or np.isinf(minmax).any()):\n",
    "                            print('nan-zscore')\n",
    "\n",
    "                    new_attribute = minmax\n",
    "\n",
    "                for m in range(0,new_partition.shape[0]):\n",
    "                    new_partition[m,j*num_timestamps:(j+1)*num_timestamps] = minmax[m*num_timestamps:(m+1)*num_timestamps] \n",
    "                 \n",
    "\n",
    "                pbar.update(1)\n",
    "\n",
    "       \n",
    "\n",
    "            with open(data_dir + \"Partition\" + str(i+1) + \"_\" + name + \".pkl\", 'wb') as f:\n",
    "                pickle.dump(new_partition, f)\n",
    "            with open(data_dir + \"Partition\" + str(i+1) + \"_Labels_\" + name +\".pkl\", 'wb') as f:\n",
    "                pickle.dump(labels[i], f)"
   ]
  },
  {
   "cell_type": "markdown",
   "id": "bd76ecb3",
   "metadata": {},
   "source": [
    "### Saving LSBZM Normalization and FPCKNN Imputation Data"
   ]
  },
  {
   "cell_type": "code",
   "execution_count": 7,
   "id": "0d4beba6",
   "metadata": {},
   "outputs": [
    {
     "name": "stderr",
     "output_type": "stream",
     "text": [
      "24it [00:11,  2.05it/s]\n",
      "24it [00:15,  1.53it/s]\n",
      "24it [00:05,  4.43it/s]\n",
      "24it [00:07,  3.40it/s]\n",
      "24it [00:13,  1.81it/s]\n"
     ]
    }
   ],
   "source": [
    "data_dir = \"/Users/samskanderi/Documents/Research_Project/SWANSF/code/5_4_FinalData_Concatenation_LSBZM_KnnImputation/\"\n",
    "name = 'Concatenation_LSBZM_KnnImputation'\n",
    "\n",
    "lsbzm(1,5,concat_imputed_data,labels, data_dir, name)"
   ]
  },
  {
   "cell_type": "markdown",
   "id": "0aac1062",
   "metadata": {},
   "source": [
    "### Missing value Exploration"
   ]
  },
  {
   "cell_type": "code",
   "execution_count": 8,
   "id": "e26249f2",
   "metadata": {},
   "outputs": [
    {
     "name": "stdout",
     "output_type": "stream",
     "text": [
      "P1 Nan-Value: False\n",
      "P2 Nan-Value: False\n",
      "P3 Nan-Value: False\n",
      "P4 Nan-Value: False\n",
      "P5 Nan-Value: False\n"
     ]
    }
   ],
   "source": [
    "# Loading the Raw Data\n",
    "import pickle\n",
    "import numpy as np\n",
    "\n",
    "data_dir = \"/Users/samskanderi/Documents/Research_Project/SWANSF/code/5_4_FinalData_Concatenation_LSBZM_KnnImputation/\"\n",
    "normalized_data = []\n",
    "\n",
    "num_partitions = 5\n",
    "\n",
    "for i in range(0,num_partitions):\n",
    "# Load the array with Pickle\n",
    "    with open(data_dir + \"Partition\" + str(i+1) + \"_Concatenation_LSBZM_KnnImputation\" + \".pkl\", 'rb') as f:\n",
    "        normalized_data.append(pickle.load(f))\n",
    "    print(\"P\"+str(i+1)+\" Nan-Value: \"+ str(np.isnan(normalized_data[i]).any() or np.isinf(normalized_data[i]).any()))  "
   ]
  },
  {
   "cell_type": "markdown",
   "id": "b4af7143",
   "metadata": {},
   "source": [
    "### Extracting Information for Table 3 of the Paper"
   ]
  },
  {
   "cell_type": "code",
   "execution_count": 28,
   "id": "ecf4c110",
   "metadata": {},
   "outputs": [],
   "source": [
    "import warnings\n",
    "warnings.filterwarnings(\"ignore\")\n",
    "\n",
    "from sklearn.preprocessing import MinMaxScaler\n",
    "scaler = MinMaxScaler()\n",
    "from scipy import stats\n",
    "from tqdm import tqdm\n",
    "\n",
    "def lsbzm_info(start_partition, end_partition, data, labels, data_dir, name):\n",
    "\n",
    "    num_timestamps= 60\n",
    "    num_attributes = 24\n",
    "\n",
    "    for i in range(start_partition-1,end_partition):\n",
    "        new_partition = np.zeros((np.array(data[i]).shape[0], num_timestamps*num_attributes))\n",
    "        new_partition = np.array(data[i])\n",
    "        \n",
    "        abt_header = ['R_VALUE','TOTUSJH','TOTBSQ','TOTPOT','TOTUSJZ','ABSNJZH','SAVNCPP',\n",
    "                           'USFLUX','TOTFZ','MEANPOT', 'EPSX', 'EPSY','EPSZ','MEANSHR','SHRGT45','MEANGAM',\n",
    "                              'MEANGBT','MEANGBZ','MEANGBH','MEANJZH','TOTFY','MEANJZD','MEANALP','TOTFX']\n",
    "\n",
    "        for j in range(0,num_attributes):\n",
    "            new_attribute = np.zeros(new_partition.shape[0]*num_timestamps)  \n",
    "\n",
    "            for m in range(0,new_partition.shape[0]):\n",
    "                new_attribute[m*num_timestamps:(m+1)*num_timestamps] = new_partition[m,j*num_timestamps:(j+1)*num_timestamps]\n",
    "\n",
    "            minmax = np.zeros(new_partition.shape[0]*num_timestamps)\n",
    "            all_positive = np.zeros(new_partition.shape[0]*num_timestamps)\n",
    "\n",
    "            the_min = np.min(new_attribute)\n",
    "            the_max = np.max(new_attribute)\n",
    "            skewness = stats.skew(new_attribute)\n",
    "\n",
    "            print(abt_header[j]+ ':')\n",
    "            \n",
    "            if (the_max - the_min > 100000):\n",
    "                print('large-values')\n",
    "                if (skewness > 1):\n",
    "                    print('right-skewness')\n",
    "                    if (the_min < 0):\n",
    "                        print('negative-values')\n",
    "                        all_positive = new_attribute + 2*abs(the_min)\n",
    "                    else:\n",
    "                        all_positive = new_attribute\n",
    "\n",
    "                    if np.std(all_positive)== 0.0:\n",
    "                        minmax = np.ones(new_partition.shape[0]*num_timestamps)\n",
    "                    else:\n",
    "                        print('methode:log')\n",
    "                        log = np.log(all_positive)\n",
    "                        data_2d = log.reshape(-1, 1)\n",
    "                        minmax = scaler.fit_transform(data_2d).flatten()\n",
    "                    if (np.isnan(minmax).any() or np.isinf(minmax).any()):\n",
    "                        print('nan-log')\n",
    "\n",
    "                elif (skewness < -1):\n",
    "                    print('left-skewness')\n",
    "                    if (the_min < 0):\n",
    "                        print('negative-values')\n",
    "                        all_positive = new_attribute + abs(the_min)\n",
    "                    else:\n",
    "                        all_positive = new_attribute\n",
    "\n",
    "                    if np.std(all_positive)== 0.0:\n",
    "                        minmax = np.ones(new_partition.shape[0]*num_timestamps)\n",
    "                    else:\n",
    "                        print('methode:sqrt')\n",
    "                        sqrt = np.sqrt(all_positive)\n",
    "                        data_2d = sqrt.reshape(-1, 1)\n",
    "                        minmax = scaler.fit_transform(data_2d).flatten()\n",
    "                    if (np.isnan(minmax).any() or np.isinf(minmax).any()):\n",
    "                        print('nan-sqrt')\n",
    "\n",
    "                else:\n",
    "                    if np.std(new_attribute)== 0.0:\n",
    "                        minmax = np.ones(new_partition.shape[0]*num_timestamps)\n",
    "                    else:\n",
    "                        print('methode:zscore')\n",
    "                        zscore = stats.zscore(new_attribute)\n",
    "                        data_2d = zscore.reshape(-1, 1)\n",
    "                        minmax = scaler.fit_transform(data_2d).flatten()\n",
    "                    if (np.isnan(minmax).any() or np.isinf(minmax).any()):\n",
    "                        print('nan-zscore')\n",
    "\n",
    "\n",
    "\n",
    "            elif (the_max < 1 and the_min > -1):\n",
    "                print('small-value')\n",
    "                if (skewness > 1):\n",
    "                    print('right-skewness')\n",
    "                    if (the_min < 0):\n",
    "                        print('negative-values')\n",
    "                        all_positive = new_attribute + 2*abs(the_min)\n",
    "                    else:\n",
    "                        all_positive = new_attribute\n",
    "\n",
    "                    if np.std(all_positive)== 0.0:\n",
    "                        minmax = np.ones(new_partition.shape[0]*num_timestamps)\n",
    "                    else:\n",
    "                        print('methode:log')\n",
    "                        log = np.log(all_positive)\n",
    "                        data_2d = log.reshape(-1, 1)\n",
    "                        minmax = scaler.fit_transform(data_2d).flatten()\n",
    "                    if (np.isnan(minmax).any() or np.isinf(minmax).any()):\n",
    "                        print('nan-log')\n",
    "\n",
    "                elif (skewness < -1):\n",
    "                    print('left-skewness')\n",
    "                    if (the_min < 0):\n",
    "                        print('negative-values')\n",
    "                        all_positive = new_attribute + abs(the_min)\n",
    "                    else:\n",
    "                        all_positive = new_attribute\n",
    "\n",
    "                    if np.std(all_positive)== 0.0:\n",
    "                        minmax = np.ones(new_partition.shape[0]*num_timestamps)\n",
    "                    else:\n",
    "                        print('methode:sqrt')\n",
    "                        sqrt = np.sqrt(all_positive)\n",
    "                        data_2d = sqrt.reshape(-1, 1)\n",
    "                        minmax = scaler.fit_transform(data_2d).flatten()\n",
    "                    if (np.isnan(minmax).any() or np.isinf(minmax).any()):\n",
    "                        print('nan-sqrt')\n",
    "\n",
    "                else:\n",
    "                    if np.std(new_attribute)== 0.0:\n",
    "                        minmax = np.ones(new_partition.shape[0]*num_timestamps)\n",
    "                    else:\n",
    "                        print('methode:zscore')\n",
    "                        zscore = stats.zscore(new_attribute)\n",
    "                        data_2d = zscore.reshape(-1, 1)\n",
    "                        minmax = scaler.fit_transform(data_2d).flatten()\n",
    "                    if (np.isnan(minmax).any() or np.isinf(minmax).any()):\n",
    "                        print('nan-zscore')\n",
    "\n",
    "\n",
    "            else:\n",
    "                if (skewness > 1 or skewness < -1):\n",
    "                    if skewness > 1:\n",
    "                        print('right-skewness')\n",
    "                    elif skewness < -1:\n",
    "                        print('left-skewness')\n",
    "\n",
    "\n",
    "                    if (the_min < 0):\n",
    "                        print('negative-values')\n",
    "                        all_positive = new_attribute + 2*abs(the_min)\n",
    "                    else:\n",
    "                        all_positive = new_attribute\n",
    "\n",
    "                    if np.std(all_positive)== 0.0:\n",
    "                        minmax = np.ones(new_partition.shape[0]*num_timestamps)\n",
    "                    else:\n",
    "                        print('methode:boxcox')\n",
    "                        boxcox, values = stats.boxcox(all_positive)\n",
    "                        data_2d = boxcox.reshape(-1, 1)\n",
    "                        minmax = scaler.fit_transform(data_2d).flatten()\n",
    "                    if (np.isnan(minmax).any() or np.isinf(minmax).any()):\n",
    "                        print('nan-boxcox')\n",
    "\n",
    "                else:\n",
    "                    if np.std(new_attribute)== 0.0:\n",
    "                        minmax = np.ones(new_partition.shape[0]*num_timestamps)\n",
    "                    else:\n",
    "                        print('methode:zscore')\n",
    "                        zscore = stats.zscore(new_attribute)\n",
    "                        data_2d = zscore.reshape(-1, 1)\n",
    "                        minmax = scaler.fit_transform(data_2d).flatten()\n",
    "                    if (np.isnan(minmax).any() or np.isinf(minmax).any()):\n",
    "                        print('nan-zscore')\n",
    "\n",
    "                new_attribute = minmax\n",
    "\n",
    "            for m in range(0,new_partition.shape[0]):\n",
    "                new_partition[m,j*num_timestamps:(j+1)*num_timestamps] = minmax[m*num_timestamps:(m+1)*num_timestamps] \n",
    "\n",
    "\n",
    "\n",
    "       "
   ]
  },
  {
   "cell_type": "code",
   "execution_count": 29,
   "id": "9e262996",
   "metadata": {},
   "outputs": [
    {
     "name": "stdout",
     "output_type": "stream",
     "text": [
      "R_VALUE:\n",
      "methode:zscore\n",
      "TOTUSJH:\n",
      "right-skewness\n",
      "methode:boxcox\n",
      "TOTBSQ:\n",
      "large-values\n",
      "right-skewness\n",
      "methode:log\n",
      "TOTPOT:\n",
      "large-values\n",
      "right-skewness\n",
      "methode:log\n",
      "TOTUSJZ:\n",
      "large-values\n",
      "right-skewness\n",
      "methode:log\n",
      "ABSNJZH:\n",
      "right-skewness\n",
      "methode:boxcox\n",
      "SAVNCPP:\n",
      "large-values\n",
      "right-skewness\n",
      "methode:log\n",
      "USFLUX:\n",
      "large-values\n",
      "right-skewness\n",
      "methode:log\n",
      "TOTFZ:\n",
      "large-values\n",
      "left-skewness\n",
      "negative-values\n",
      "methode:sqrt\n",
      "MEANPOT:\n",
      "large-values\n",
      "right-skewness\n",
      "methode:log\n",
      "EPSX:\n",
      "small-value\n",
      "methode:zscore\n",
      "EPSY:\n",
      "small-value\n",
      "methode:zscore\n",
      "EPSZ:\n",
      "small-value\n",
      "methode:zscore\n",
      "MEANSHR:\n",
      "right-skewness\n",
      "methode:boxcox\n",
      "SHRGT45:\n",
      "right-skewness\n",
      "methode:boxcox\n",
      "MEANGAM:\n",
      "right-skewness\n",
      "methode:boxcox\n",
      "MEANGBT:\n",
      "methode:zscore\n",
      "MEANGBZ:\n",
      "methode:zscore\n",
      "MEANGBH:\n",
      "methode:zscore\n",
      "MEANJZH:\n",
      "small-value\n",
      "methode:zscore\n",
      "TOTFY:\n",
      "large-values\n",
      "left-skewness\n",
      "negative-values\n",
      "methode:sqrt\n",
      "MEANJZD:\n",
      "right-skewness\n",
      "negative-values\n",
      "methode:boxcox\n",
      "MEANALP:\n",
      "methode:zscore\n",
      "TOTFX:\n",
      "large-values\n",
      "methode:zscore\n"
     ]
    }
   ],
   "source": [
    "data_dir = \"/Users/samskanderi/Documents/Research_Project/SWANSF/code/5_4_FinalData_Concatenation_LSBZM_KnnImputation/\"\n",
    "name = 'Concatenation_LSBZM_KnnImputation'\n",
    "\n",
    "lsbzm_info(4,4,concat_imputed_data,labels, data_dir, name)"
   ]
  },
  {
   "cell_type": "code",
   "execution_count": null,
   "id": "f4f673a0",
   "metadata": {},
   "outputs": [],
   "source": []
  }
 ],
 "metadata": {
  "kernelspec": {
   "display_name": "Python 3 (ipykernel)",
   "language": "python",
   "name": "python3"
  },
  "language_info": {
   "codemirror_mode": {
    "name": "ipython",
    "version": 3
   },
   "file_extension": ".py",
   "mimetype": "text/x-python",
   "name": "python",
   "nbconvert_exporter": "python",
   "pygments_lexer": "ipython3",
   "version": "3.11.3"
  }
 },
 "nbformat": 4,
 "nbformat_minor": 5
}
