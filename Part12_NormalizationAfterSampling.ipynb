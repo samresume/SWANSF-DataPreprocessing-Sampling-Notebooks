{
 "cells": [
  {
   "cell_type": "markdown",
   "id": "5bbbdec0",
   "metadata": {},
   "source": [
    "# Normalization on Vector Data after Sampling"
   ]
  },
  {
   "cell_type": "markdown",
   "id": "ecd746d4",
   "metadata": {},
   "source": [
    "## LSBZM Normalization technique"
   ]
  },
  {
   "cell_type": "code",
   "execution_count": 19,
   "id": "601e272a",
   "metadata": {},
   "outputs": [],
   "source": [
    "import warnings\n",
    "warnings.filterwarnings(\"ignore\")\n",
    "\n",
    "from sklearn.preprocessing import MinMaxScaler\n",
    "scaler = MinMaxScaler()\n",
    "from scipy import stats\n",
    "from tqdm import tqdm\n",
    "\n",
    "def lsbzm(start_partition, end_partition, data, labels, data_dir, first_name, last_name):\n",
    "\n",
    "    num_new_features = 9\n",
    "    num_attributes = 24\n",
    "    num_all_features = num_attributes * num_new_features\n",
    "\n",
    "    for i in range(start_partition-1,end_partition):\n",
    "        new_partition = np.zeros((np.array(data[i]).shape[0], num_all_features))\n",
    "        new_partition = np.array(data[i])\n",
    "\n",
    "        with tqdm(num_all_features) as pbar:\n",
    "            for j in range(0,num_all_features):\n",
    "                new_column = np.zeros(new_partition.shape[0])  \n",
    "                new_column = new_partition[:,j]\n",
    "\n",
    "                minmax = np.zeros(new_partition.shape[0])\n",
    "                all_positive = np.zeros(new_partition.shape[0])\n",
    "\n",
    "                the_min = np.min(new_column)\n",
    "                the_max = np.max(new_column)\n",
    "                skewness = stats.skew(new_column)\n",
    "                \n",
    "                        \n",
    "                if (the_max - the_min > 100000):\n",
    "                    if (skewness > 1):\n",
    "                        if (the_min < 0):\n",
    "                            all_positive = new_column + 2*abs(the_min)\n",
    "                        else:\n",
    "                            all_positive = new_column\n",
    "                            \n",
    "                        if np.std(all_positive)== 0.0:\n",
    "                            minmax = np.ones(new_partition.shape[0])\n",
    "                        else:\n",
    "                            log = np.log(all_positive)\n",
    "                            data_2d = log.reshape(-1, 1)\n",
    "                            minmax = scaler.fit_transform(data_2d).flatten()\n",
    "                        if (np.isnan(minmax).any() or np.isinf(minmax).any()):\n",
    "                            print('nan-log')\n",
    "                            \n",
    "\n",
    "                    elif (skewness < -1):\n",
    "                        if (the_min < 0):\n",
    "                            all_positive = new_column + abs(the_min)\n",
    "                        else:\n",
    "                            all_positive = new_column\n",
    "\n",
    "                        if np.std(all_positive)== 0.0:\n",
    "                            minmax = np.ones(new_partition.shape[0])\n",
    "                        else:\n",
    "                            sqrt = np.sqrt(all_positive)\n",
    "                            data_2d = sqrt.reshape(-1, 1)\n",
    "                            minmax = scaler.fit_transform(data_2d).flatten()\n",
    "                        if (np.isnan(minmax).any() or np.isinf(minmax).any()):\n",
    "                            print('nan-sqrt')\n",
    "\n",
    "                    else:\n",
    "                        if np.std(new_column)== 0.0:\n",
    "                            minmax = np.ones(new_partition.shape[0])\n",
    "                        else:\n",
    "                            zscore = stats.zscore(new_column)\n",
    "                            data_2d = zscore.reshape(-1, 1)\n",
    "                            minmax = scaler.fit_transform(data_2d).flatten()\n",
    "                        if (np.isnan(minmax).any() or np.isinf(minmax).any()):\n",
    "                            print('nan-zscore')\n",
    "                \n",
    "                        \n",
    "                elif (the_max - the_min < 0.00001):\n",
    "                    \n",
    "                    if (skewness > 1):\n",
    "                        if (the_min < 0):\n",
    "                            all_positive = new_column + 2*abs(the_min)\n",
    "                        else:\n",
    "                            all_positive = new_column\n",
    "                            \n",
    "                        if np.std(all_positive)== 0.0:\n",
    "                            minmax = np.ones(new_partition.shape[0])\n",
    "                        else:\n",
    "                            log = np.log(all_positive)\n",
    "                            data_2d = log.reshape(-1, 1)\n",
    "                            minmax = scaler.fit_transform(data_2d).flatten()\n",
    "                        if (np.isnan(minmax).any() or np.isinf(minmax).any()):\n",
    "                            print('nan-log') \n",
    "\n",
    "                    elif (skewness < -1):\n",
    "                        if (the_min < 0):\n",
    "                            all_positive = new_column + abs(the_min)\n",
    "                        else:\n",
    "                            all_positive = new_column\n",
    "\n",
    "                        if np.std(all_positive)== 0.0:\n",
    "                            minmax = np.ones(new_partition.shape[0])\n",
    "                        else:\n",
    "                            sqrt = np.sqrt(all_positive)\n",
    "                            data_2d = sqrt.reshape(-1, 1)\n",
    "                            minmax = scaler.fit_transform(data_2d).flatten()\n",
    "                        if (np.isnan(minmax).any() or np.isinf(minmax).any()):\n",
    "                            print('nan-sqrt') \n",
    "\n",
    "                    else:\n",
    "                        if np.std(new_column)== 0.0:\n",
    "                            minmax = np.ones(new_partition.shape[0])\n",
    "                        else:\n",
    "                            zscore = stats.zscore(new_column)\n",
    "                            data_2d = zscore.reshape(-1, 1)\n",
    "                            minmax = scaler.fit_transform(data_2d).flatten()\n",
    "                        if (np.isnan(minmax).any() or np.isinf(minmax).any()):\n",
    "                            print('nan-zscore')\n",
    "                            \n",
    "                        \n",
    "                else:\n",
    "                    if (skewness > 1 or skewness < -1):\n",
    "                        if (the_min < 0):\n",
    "                            all_positive = new_column + 2*abs(the_min)\n",
    "                        else:\n",
    "                            all_positive = new_column\n",
    "\n",
    "                        if np.std(all_positive)== 0.0:\n",
    "                            minmax = np.ones(new_partition.shape[0])\n",
    "                        else:\n",
    "                            boxcox, values = stats.boxcox(all_positive)\n",
    "                            data_2d = boxcox.reshape(-1, 1)\n",
    "                            minmax = scaler.fit_transform(data_2d).flatten()\n",
    "                        if (np.isnan(minmax).any() or np.isinf(minmax).any()):\n",
    "                            print('nan-boxcox')\n",
    "\n",
    "                            \n",
    "                    else:\n",
    "                        if np.std(new_column)== 0.0:\n",
    "                            minmax = np.ones(new_partition.shape[0])\n",
    "                        else:\n",
    "                            zscore = stats.zscore(new_column)\n",
    "                            data_2d = zscore.reshape(-1, 1)\n",
    "                            minmax = scaler.fit_transform(data_2d).flatten()\n",
    "                        if (np.isnan(minmax).any() or np.isinf(minmax).any()):\n",
    "                            print('nan-zscore')\n",
    "\n",
    "                new_column = minmax\n",
    "\n",
    "                new_partition[:,j] = new_column\n",
    "\n",
    "                pbar.update(1)\n",
    "\n",
    "            with open(data_dir + first_name + \"Partition\" + str(i+1) + last_name + \".pkl\", 'wb') as f:\n",
    "                pickle.dump(new_partition, f)\n",
    "            with open(data_dir + first_name + \"Partition\" + str(i+1) + \"_Labels\" + last_name +\".pkl\", 'wb') as f:\n",
    "                pickle.dump(labels[i], f)"
   ]
  },
  {
   "cell_type": "markdown",
   "id": "135c961f",
   "metadata": {},
   "source": [
    "### Reading the Data built by the Previous Notebooks (RUS_Tomek_Smote)"
   ]
  },
  {
   "cell_type": "code",
   "execution_count": 3,
   "id": "a6565552",
   "metadata": {},
   "outputs": [],
   "source": [
    "import pickle\n",
    "import pandas as pd\n",
    "import numpy as np\n",
    "\n",
    "data_dir = \"/Users/samskanderi/Documents/Research_Project/SWANSF/code/7_1_OUSampling_NewFeatures_KnnImputation/\"\n",
    "\n",
    "X_train_array = []\n",
    "Y_train_array = []\n",
    "\n",
    "num_partitions = 5\n",
    "for i in range(0, num_partitions):\n",
    "    with open(data_dir + \"RUS_Tomek_Smote_\" +\"Partition\" + str(i+1) + \"_OUSampling_WithoutC_NewFeatures_KnnImputation\" +\".pkl\", 'rb') as f:\n",
    "        X_train_array.append(pickle.load(f))\n",
    "    with open(data_dir + \"RUS_Tomek_Smote_\" + \"Partition\" + str(i+1) + \"_Labels_OUSampling_WithoutC_NewFeatures_KnnImputation\" +\".pkl\", 'rb') as f:\n",
    "        Y_train_array.append(pickle.load(f))"
   ]
  },
  {
   "cell_type": "code",
   "execution_count": 4,
   "id": "eb4acad3",
   "metadata": {},
   "outputs": [
    {
     "name": "stderr",
     "output_type": "stream",
     "text": [
      "216it [00:00, 405.10it/s]\n",
      "216it [00:00, 411.56it/s]\n",
      "216it [00:00, 412.34it/s]\n",
      "216it [00:00, 395.28it/s]\n",
      "216it [00:00, 422.86it/s]\n"
     ]
    }
   ],
   "source": [
    "data_dir = \"/Users/samskanderi/Documents/Research_Project/SWANSF/code/8_1_FinalData_OUSampling_NewFeatures_LSBZM_KnnImputation/\"\n",
    "first_name = 'RUS_Tomek_Smote_'\n",
    "last_name = '_OUSampling_WithoutC_NewFeatures_LSBZM_KnnImputation'\n",
    "\n",
    "lsbzm(1,5,X_train_array,Y_train_array, data_dir, first_name, last_name)"
   ]
  },
  {
   "cell_type": "markdown",
   "id": "4fb11bc0",
   "metadata": {},
   "source": [
    "### Reading the Data built by the Previous Notebooks (RUS_Tomek_Adasyn)"
   ]
  },
  {
   "cell_type": "code",
   "execution_count": 5,
   "id": "25b8ad0e",
   "metadata": {},
   "outputs": [],
   "source": [
    "import pickle\n",
    "import pandas as pd\n",
    "\n",
    "data_dir = \"/Users/samskanderi/Documents/Research_Project/SWANSF/code/7_1_OUSampling_NewFeatures_KnnImputation/\"\n",
    "\n",
    "X_train_array = []\n",
    "Y_train_array = []\n",
    "\n",
    "num_partitions = 5\n",
    "for i in range(0, num_partitions):\n",
    "    with open(data_dir + \"RUS_Tomek_Adasyn_\" +\"Partition\" + str(i+1) + \"_OUSampling_WithoutC_NewFeatures_KnnImputation\" +\".pkl\", 'rb') as f:\n",
    "        X_train_array.append(pickle.load(f))\n",
    "    with open(data_dir + \"RUS_Tomek_Adasyn_\" + \"Partition\" + str(i+1) + \"_Labels_OUSampling_WithoutC_NewFeatures_KnnImputation\" +\".pkl\", 'rb') as f:\n",
    "        Y_train_array.append(pickle.load(f))"
   ]
  },
  {
   "cell_type": "code",
   "execution_count": 6,
   "id": "46b560a4",
   "metadata": {},
   "outputs": [
    {
     "name": "stderr",
     "output_type": "stream",
     "text": [
      "216it [00:00, 397.59it/s]\n",
      "216it [00:00, 390.75it/s]\n",
      "216it [00:00, 411.38it/s]\n",
      "216it [00:00, 429.55it/s]\n",
      "216it [00:00, 434.03it/s]\n"
     ]
    }
   ],
   "source": [
    "data_dir = \"/Users/samskanderi/Documents/Research_Project/SWANSF/code/8_1_FinalData_OUSampling_NewFeatures_LSBZM_KnnImputation/\"\n",
    "first_name = 'RUS_Tomek_Adasyn_'\n",
    "last_name = '_OUSampling_WithoutC_NewFeatures_LSBZM_KnnImputation'\n",
    "\n",
    "lsbzm(1,5,X_train_array,Y_train_array, data_dir, first_name, last_name)"
   ]
  },
  {
   "cell_type": "markdown",
   "id": "624b83be",
   "metadata": {},
   "source": [
    "### Reading the Data built by the Previous Notebooks (Smote)"
   ]
  },
  {
   "cell_type": "code",
   "execution_count": 7,
   "id": "41e576c7",
   "metadata": {},
   "outputs": [],
   "source": [
    "import pickle\n",
    "import pandas as pd\n",
    "\n",
    "data_dir = \"/Users/samskanderi/Documents/Research_Project/SWANSF/code/7_2_OSampling_NewFeatures_KnnImputation/\"\n",
    "\n",
    "X_train_array = []\n",
    "Y_train_array = []\n",
    "\n",
    "num_partitions = 5\n",
    "for i in range(0, num_partitions):\n",
    "    with open(data_dir + \"Smote_\" +\"Partition\" + str(i+1) + \"_OSampling_WithoutC_NewFeatures_KnnImputation\" +\".pkl\", 'rb') as f:\n",
    "        X_train_array.append(pickle.load(f))\n",
    "    with open(data_dir + \"Smote_\" + \"Partition\" + str(i+1) + \"_Labels_OSampling_WithoutC_NewFeatures_KnnImputation\" +\".pkl\", 'rb') as f:\n",
    "        Y_train_array.append(pickle.load(f))"
   ]
  },
  {
   "cell_type": "code",
   "execution_count": 8,
   "id": "0878e5cf",
   "metadata": {},
   "outputs": [
    {
     "name": "stderr",
     "output_type": "stream",
     "text": [
      "216it [00:04, 46.25it/s]\n",
      "216it [00:06, 35.40it/s]\n",
      "216it [00:01, 124.04it/s]\n",
      "216it [00:02, 90.24it/s] \n",
      "216it [00:04, 47.89it/s]\n"
     ]
    }
   ],
   "source": [
    "data_dir = \"/Users/samskanderi/Documents/Research_Project/SWANSF/code/8_2_FinalData_OSampling_NewFeatures_LSBZM_KnnImputation/\"\n",
    "first_name = 'Smote_'\n",
    "last_name = '_OSampling_WithoutC_NewFeatures_LSBZM_KnnImputation'\n",
    "\n",
    "lsbzm(1,5,X_train_array,Y_train_array, data_dir, first_name, last_name)"
   ]
  },
  {
   "cell_type": "markdown",
   "id": "1caf8965",
   "metadata": {},
   "source": [
    "### Reading the Data built by the Previous Notebooks (Adasyn)"
   ]
  },
  {
   "cell_type": "code",
   "execution_count": 9,
   "id": "0d671c1d",
   "metadata": {},
   "outputs": [],
   "source": [
    "import pickle\n",
    "import pandas as pd\n",
    "\n",
    "data_dir = \"/Users/samskanderi/Documents/Research_Project/SWANSF/code/7_2_OSampling_NewFeatures_KnnImputation/\"\n",
    "\n",
    "X_train_array = []\n",
    "Y_train_array = []\n",
    "\n",
    "num_partitions = 5\n",
    "for i in range(0, num_partitions):\n",
    "    with open(data_dir + \"Adasyn_\" +\"Partition\" + str(i+1) + \"_OSampling_WithoutC_NewFeatures_KnnImputation\" +\".pkl\", 'rb') as f:\n",
    "        X_train_array.append(pickle.load(f))\n",
    "    with open(data_dir + \"Adasyn_\" + \"Partition\" + str(i+1) + \"_Labels_OSampling_WithoutC_NewFeatures_KnnImputation\" +\".pkl\", 'rb') as f:\n",
    "        Y_train_array.append(pickle.load(f))"
   ]
  },
  {
   "cell_type": "code",
   "execution_count": 10,
   "id": "95566b44",
   "metadata": {},
   "outputs": [
    {
     "name": "stderr",
     "output_type": "stream",
     "text": [
      "216it [00:04, 50.14it/s]\n",
      "216it [00:06, 32.75it/s]\n",
      "216it [00:01, 118.91it/s]\n",
      "216it [00:02, 93.46it/s] \n",
      "216it [00:04, 46.25it/s]\n"
     ]
    }
   ],
   "source": [
    "data_dir = \"/Users/samskanderi/Documents/Research_Project/SWANSF/code/8_2_FinalData_OSampling_NewFeatures_LSBZM_KnnImputation/\"\n",
    "first_name = 'Adasyn_'\n",
    "last_name = '_OSampling_WithoutC_NewFeatures_LSBZM_KnnImputation'\n",
    "\n",
    "lsbzm(1,5,X_train_array,Y_train_array, data_dir, first_name, last_name)"
   ]
  },
  {
   "cell_type": "markdown",
   "id": "47c7ce7c",
   "metadata": {},
   "source": [
    "### Reading the Data built by the Previous Notebooks (GNI)"
   ]
  },
  {
   "cell_type": "code",
   "execution_count": 11,
   "id": "23e46d3b",
   "metadata": {},
   "outputs": [],
   "source": [
    "import pickle\n",
    "import pandas as pd\n",
    "\n",
    "data_dir = \"/Users/samskanderi/Documents/Research_Project/SWANSF/code/7_2_OSampling_NewFeatures_KnnImputation/\"\n",
    "\n",
    "X_train_array = []\n",
    "Y_train_array = []\n",
    "\n",
    "num_partitions = 5\n",
    "for i in range(0, num_partitions):\n",
    "    with open(data_dir + \"GaussianNoise_\" +\"Partition\" + str(i+1) + \"_OSampling_WithoutC_NewFeatures_KnnImputation\" +\".pkl\", 'rb') as f:\n",
    "        X_train_array.append(pickle.load(f))\n",
    "    with open(data_dir + \"GaussianNoise_\" + \"Partition\" + str(i+1) + \"_Labels_OSampling_WithoutC_NewFeatures_KnnImputation\" +\".pkl\", 'rb') as f:\n",
    "        Y_train_array.append(pickle.load(f))"
   ]
  },
  {
   "cell_type": "code",
   "execution_count": 12,
   "id": "4f96de47",
   "metadata": {},
   "outputs": [
    {
     "name": "stderr",
     "output_type": "stream",
     "text": [
      "216it [00:04, 51.49it/s]\n",
      "216it [00:05, 38.84it/s]\n",
      "216it [00:01, 126.41it/s]\n",
      "216it [00:02, 94.61it/s] \n",
      "216it [00:04, 51.05it/s]\n"
     ]
    }
   ],
   "source": [
    "data_dir = \"/Users/samskanderi/Documents/Research_Project/SWANSF/code/8_2_FinalData_OSampling_NewFeatures_LSBZM_KnnImputation/\"\n",
    "first_name = 'GaussianNoise_'\n",
    "last_name = '_OSampling_WithoutC_NewFeatures_LSBZM_KnnImputation'\n",
    "\n",
    "lsbzm(1,5,X_train_array,Y_train_array, data_dir, first_name, last_name)"
   ]
  },
  {
   "cell_type": "markdown",
   "id": "2aabeba4",
   "metadata": {},
   "source": [
    "### Reading the Data built by the Previous Notebooks (GNI, Tomek, RUS)"
   ]
  },
  {
   "cell_type": "code",
   "execution_count": 13,
   "id": "47a09540",
   "metadata": {},
   "outputs": [],
   "source": [
    "import pickle\n",
    "import pandas as pd\n",
    "\n",
    "data_dir = \"/Users/samskanderi/Documents/Research_Project/SWANSF/code/7_1_OUSampling_NewFeatures_KnnImputation/\"\n",
    "\n",
    "X_train_array = []\n",
    "Y_train_array = []\n",
    "\n",
    "num_partitions = 5\n",
    "for i in range(0, num_partitions):\n",
    "    with open(data_dir + \"RUS_Tomek_GNI_\" +\"Partition\" + str(i+1) + \"_OUSampling_WithoutC_NewFeatures_KnnImputation\" +\".pkl\", 'rb') as f:\n",
    "        X_train_array.append(pickle.load(f))\n",
    "    with open(data_dir + \"RUS_Tomek_GNI_\" + \"Partition\" + str(i+1) + \"_Labels_OUSampling_WithoutC_NewFeatures_KnnImputation\" +\".pkl\", 'rb') as f:\n",
    "        Y_train_array.append(pickle.load(f))"
   ]
  },
  {
   "cell_type": "code",
   "execution_count": 14,
   "id": "d1b5e852",
   "metadata": {},
   "outputs": [
    {
     "name": "stderr",
     "output_type": "stream",
     "text": [
      "216it [00:00, 409.41it/s]\n",
      "216it [00:00, 400.40it/s]\n",
      "216it [00:00, 419.43it/s]\n",
      "216it [00:00, 408.53it/s]\n",
      "216it [00:00, 428.35it/s]\n"
     ]
    }
   ],
   "source": [
    "data_dir = \"/Users/samskanderi/Documents/Research_Project/SWANSF/code/8_1_FinalData_OUSampling_NewFeatures_LSBZM_KnnImputation/\"\n",
    "first_name = 'RUS_Tomek_GNI_'\n",
    "last_name = '_OUSampling_WithoutC_NewFeatures_LSBZM_KnnImputation'\n",
    "\n",
    "lsbzm(1,5,X_train_array,Y_train_array, data_dir, first_name, last_name)"
   ]
  },
  {
   "cell_type": "markdown",
   "id": "1bbe4472",
   "metadata": {},
   "source": [
    "### Reading the Data built by the Previous Notebooks (TimeGAN)"
   ]
  },
  {
   "cell_type": "code",
   "execution_count": 20,
   "id": "9b92343c",
   "metadata": {},
   "outputs": [],
   "source": [
    "import pickle\n",
    "import pandas as pd\n",
    "\n",
    "data_dir = \"/Users/samskanderi/Documents/Research_Project/SWANSF/code/7_2_OSampling_NewFeatures_KnnImputation/\"\n",
    "\n",
    "X_train_array = []\n",
    "Y_train_array = []\n",
    "\n",
    "num_partitions = 5\n",
    "for i in range(0, num_partitions):\n",
    "    with open(data_dir + \"TimeGAN_\" +\"Partition\" + str(i+1) + \"_OSampling_WithoutC_NewFeatures_KnnImputation\" +\".pkl\", 'rb') as f:\n",
    "        X_train_array.append(pickle.load(f))\n",
    "    with open(data_dir + \"TimeGAN_\" + \"Partition\" + str(i+1) + \"_Labels_OSampling_WithoutC_NewFeatures_KnnImputation\" +\".pkl\", 'rb') as f:\n",
    "        Y_train_array.append(pickle.load(f))"
   ]
  },
  {
   "cell_type": "code",
   "execution_count": 21,
   "id": "4edb5ddd",
   "metadata": {},
   "outputs": [
    {
     "name": "stderr",
     "output_type": "stream",
     "text": [
      "216it [00:03, 60.56it/s]\n",
      "216it [00:04, 44.00it/s]\n",
      "216it [00:01, 153.28it/s]\n",
      "216it [00:02, 107.56it/s]\n",
      "216it [00:03, 58.39it/s]\n"
     ]
    }
   ],
   "source": [
    "data_dir = \"/Users/samskanderi/Documents/Research_Project/SWANSF/code/8_2_FinalData_OSampling_NewFeatures_LSBZM_KnnImputation/\"\n",
    "first_name = 'TimeGAN_'\n",
    "last_name = '_OSampling_WithoutC_NewFeatures_LSBZM_KnnImputation'\n",
    "\n",
    "lsbzm(1,5,X_train_array,Y_train_array, data_dir, first_name, last_name)"
   ]
  },
  {
   "cell_type": "markdown",
   "id": "c590040f",
   "metadata": {},
   "source": [
    "### Reading the Data built by the Previous Notebooks (TimeGAN, Tomek, RUS)"
   ]
  },
  {
   "cell_type": "code",
   "execution_count": 17,
   "id": "67301b66",
   "metadata": {},
   "outputs": [],
   "source": [
    "import pickle\n",
    "import pandas as pd\n",
    "\n",
    "data_dir = \"/Users/samskanderi/Documents/Research_Project/SWANSF/code/7_1_OUSampling_NewFeatures_KnnImputation/\"\n",
    "\n",
    "X_train_array = []\n",
    "Y_train_array = []\n",
    "\n",
    "num_partitions = 5\n",
    "for i in range(0, num_partitions):\n",
    "    with open(data_dir + \"RUS_Tomek_TimeGAN_\" +\"Partition\" + str(i+1) + \"_OUSampling_WithoutC_NewFeatures_KnnImputation\" +\".pkl\", 'rb') as f:\n",
    "        X_train_array.append(pickle.load(f))\n",
    "    with open(data_dir + \"RUS_Tomek_TimeGAN_\" + \"Partition\" + str(i+1) + \"_Labels_OUSampling_WithoutC_NewFeatures_KnnImputation\" +\".pkl\", 'rb') as f:\n",
    "        Y_train_array.append(pickle.load(f))"
   ]
  },
  {
   "cell_type": "code",
   "execution_count": 18,
   "id": "cbb7d77e",
   "metadata": {},
   "outputs": [
    {
     "name": "stderr",
     "output_type": "stream",
     "text": [
      "216it [00:00, 476.56it/s]\n",
      "216it [00:00, 485.12it/s]\n",
      "216it [00:00, 499.44it/s]\n",
      "216it [00:00, 478.48it/s]\n",
      "216it [00:00, 528.38it/s]\n"
     ]
    }
   ],
   "source": [
    "data_dir = \"/Users/samskanderi/Documents/Research_Project/SWANSF/code/8_1_FinalData_OUSampling_NewFeatures_LSBZM_KnnImputation/\"\n",
    "first_name = 'RUS_Tomek_TimeGAN_'\n",
    "last_name = '_OUSampling_WithoutC_NewFeatures_LSBZM_KnnImputation'\n",
    "\n",
    "lsbzm(1,5,X_train_array,Y_train_array, data_dir, first_name, last_name)"
   ]
  },
  {
   "cell_type": "code",
   "execution_count": null,
   "id": "b4ea8175",
   "metadata": {},
   "outputs": [],
   "source": []
  }
 ],
 "metadata": {
  "kernelspec": {
   "display_name": "Python 3 (ipykernel)",
   "language": "python",
   "name": "python3"
  },
  "language_info": {
   "codemirror_mode": {
    "name": "ipython",
    "version": 3
   },
   "file_extension": ".py",
   "mimetype": "text/x-python",
   "name": "python",
   "nbconvert_exporter": "python",
   "pygments_lexer": "ipython3",
   "version": "3.11.3"
  }
 },
 "nbformat": 4,
 "nbformat_minor": 5
}
