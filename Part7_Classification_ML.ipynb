{
 "cells": [
  {
   "cell_type": "markdown",
   "id": "b42f5d50",
   "metadata": {},
   "source": [
    "# Classification (SVM, MLPClassifier, KNN, Randon Forest) on Vector Data"
   ]
  },
  {
   "cell_type": "markdown",
   "id": "529fa14d",
   "metadata": {},
   "source": [
    "### Evaluation Metrics"
   ]
  },
  {
   "cell_type": "code",
   "execution_count": 1,
   "id": "255d0498",
   "metadata": {},
   "outputs": [],
   "source": [
    "# float(\"{:.2f}\".format(13.949999999999999))\n",
    "\n",
    "def TSS(TP,TN,FP,FN):\n",
    "    TSS_value = (TP / (TP + FN)) - (FP / (FP + TN))\n",
    "    return TSS_value\n",
    "\n",
    "def HSS1(TP,TN,FP,FN):\n",
    "    HSS1_value = (2 * (TP * TN - FP * FN)) / ((TP + FN) * (FN + TN) + (TP + FP) * (FP + TN))\n",
    "    return HSS1_value\n",
    "    \n",
    "def HSS2(TP,TN,FP,FN):\n",
    "    HSS2_value = (2 * (TP * TN - FP * FN)) / ((TP + FP) * (FN + TN) + (TP + FN) * (FP + TN))\n",
    "    return HSS2_value\n",
    "\n",
    "def GSS(TP,TN,FP,FN):\n",
    "    GSS_value = (TP - (TP + FP) * (TP + FN) / (TP + FP + FN + TN))\n",
    "    return GSS_value\n",
    "\n",
    "def Recall(TP,TN,FP,FN):\n",
    "    Recall_value = (TP) / (TP + FN)\n",
    "    return Recall_value\n",
    "\n",
    "def FPR(TP,TN,FP,FN):\n",
    "    fpr_value = (FP) / (FP + TN)\n",
    "    return fpr_value\n",
    "\n",
    "def Accuracy(TP,TN,FP,FN):\n",
    "    accuracy_value = (TP + TN) / (TP + TN + FP + FN)\n",
    "    return accuracy_value\n",
    "\n",
    "def Precision(TP,TN,FP,FN):\n",
    "    precision_value = (TP) / (TP + FP)\n",
    "    return precision_value"
   ]
  },
  {
   "cell_type": "markdown",
   "id": "534e436f",
   "metadata": {},
   "source": [
    "### Reading the Data built by the Previous Notebooks (LSBZM Normalization and FPCKNN Imputation)"
   ]
  },
  {
   "cell_type": "code",
   "execution_count": 43,
   "id": "ebdc0e3d",
   "metadata": {},
   "outputs": [
    {
     "name": "stdout",
     "output_type": "stream",
     "text": [
      "P1 Nan-Value: False\n",
      "P2 Nan-Value: False\n",
      "P3 Nan-Value: False\n",
      "P4 Nan-Value: False\n",
      "P5 Nan-Value: False\n"
     ]
    }
   ],
   "source": [
    "import pickle\n",
    "import numpy as np\n",
    "\n",
    "data_dir = \"/Users/samskanderi/Documents/Research_Project/SWANSF/code/5_2_FinalData_NewFeatures_LSBZM_KnnImputation/\"\n",
    "X_train_NewF_LSBZM = []\n",
    "Y_train_NewF_LSBZM = []\n",
    "\n",
    "\n",
    "num_partitions = 5\n",
    "\n",
    "for i in range(0,num_partitions):\n",
    "    with open(data_dir + \"Partition\" + str(i+1) + \"_NewFeatures_LSBZM_KnnImputation\" + \".pkl\", 'rb') as f:\n",
    "        X_train_NewF_LSBZM.append(pickle.load(f))\n",
    "    print(\"P\"+str(i+1)+\" Nan-Value: \"+ str(np.isnan(X_train_NewF_LSBZM[i]).any() or np.isinf(X_train_NewF_LSBZM[i]).any()))\n",
    "    \n",
    "    with open(data_dir + \"Partition\" + str(i+1) + \"_Labels_NewFeatures_LSBZM_KnnImputation\" + \".pkl\", 'rb') as f:\n",
    "        Y_train_NewF_LSBZM.append(pickle.load(f))"
   ]
  },
  {
   "cell_type": "markdown",
   "id": "9cfc250b",
   "metadata": {},
   "source": [
    "### Reading the Data built by the Previous Notebooks (MinMax Normalization and Mean Imputation)"
   ]
  },
  {
   "cell_type": "code",
   "execution_count": 3,
   "id": "6ae802f1",
   "metadata": {},
   "outputs": [
    {
     "name": "stdout",
     "output_type": "stream",
     "text": [
      "P1 Nan-Value: False\n",
      "P2 Nan-Value: False\n",
      "P3 Nan-Value: False\n",
      "P4 Nan-Value: False\n",
      "P5 Nan-Value: False\n"
     ]
    }
   ],
   "source": [
    "import pickle\n",
    "import numpy as np\n",
    "\n",
    "data_dir = \"/Users/samskanderi/Documents/Research_Project/SWANSF/code/5_0_FinalData_ZM_BaseLineImputation/\"\n",
    "X_train_NewF_M = []\n",
    "Y_train_NewF_M = []\n",
    "\n",
    "\n",
    "num_partitions = 5\n",
    "\n",
    "for i in range(0,num_partitions):\n",
    "    with open(data_dir + \"Partition\" + str(i+1) + \"_NewFeatures_MinMaxNorm_MeanImputation\" + \".pkl\", 'rb') as f:\n",
    "        X_train_NewF_M.append(pickle.load(f))\n",
    "    print(\"P\"+str(i+1)+\" Nan-Value: \"+ str(np.isnan(X_train_NewF_M[i]).any() or np.isinf(X_train_NewF_M[i]).any()))\n",
    "    \n",
    "    with open(data_dir + \"Partition\" + str(i+1) + \"_Labels_NewFeatures_MinMaxNorm_MeanImputation\" + \".pkl\", 'rb') as f:\n",
    "        Y_train_NewF_M.append(pickle.load(f))"
   ]
  },
  {
   "cell_type": "markdown",
   "id": "93a9918f",
   "metadata": {},
   "source": [
    "### Reading the Data built by the Previous Notebooks (Z-score Normalization and Mean Imputation)"
   ]
  },
  {
   "cell_type": "code",
   "execution_count": 4,
   "id": "3cccddb4",
   "metadata": {},
   "outputs": [
    {
     "name": "stdout",
     "output_type": "stream",
     "text": [
      "P1 Nan-Value: False\n",
      "P2 Nan-Value: False\n",
      "P3 Nan-Value: False\n",
      "P4 Nan-Value: False\n",
      "P5 Nan-Value: False\n"
     ]
    }
   ],
   "source": [
    "import pickle\n",
    "import numpy as np\n",
    "\n",
    "data_dir = \"/Users/samskanderi/Documents/Research_Project/SWANSF/code/5_0_FinalData_ZM_BaseLineImputation/\"\n",
    "X_train_NewF_Z = []\n",
    "Y_train_NewF_Z = []\n",
    "\n",
    "\n",
    "num_partitions = 5\n",
    "\n",
    "for i in range(0,num_partitions):\n",
    "    with open(data_dir + \"Partition\" + str(i+1) + \"_NewFeatures_ZNorm_MeanImputation\" + \".pkl\", 'rb') as f:\n",
    "        X_train_NewF_Z.append(pickle.load(f))\n",
    "    print(\"P\"+str(i+1)+\" Nan-Value: \"+ str(np.isnan(X_train_NewF_Z[i]).any() or np.isinf(X_train_NewF_Z[i]).any()))\n",
    "    \n",
    "    with open(data_dir + \"Partition\" + str(i+1) + \"_Labels_NewFeatures_ZNorm_MeanImputation\" + \".pkl\", 'rb') as f:\n",
    "        Y_train_NewF_Z.append(pickle.load(f))"
   ]
  },
  {
   "cell_type": "markdown",
   "id": "09248daa",
   "metadata": {},
   "source": [
    "### Reading the Data built by the Previous Notebooks (MinMax Normalization and Nextvalue Imputation)"
   ]
  },
  {
   "cell_type": "code",
   "execution_count": 5,
   "id": "72aad456",
   "metadata": {},
   "outputs": [
    {
     "name": "stdout",
     "output_type": "stream",
     "text": [
      "P1 Nan-Value: False\n",
      "P2 Nan-Value: False\n",
      "P3 Nan-Value: False\n",
      "P4 Nan-Value: False\n",
      "P5 Nan-Value: False\n"
     ]
    }
   ],
   "source": [
    "import pickle\n",
    "import numpy as np\n",
    "\n",
    "data_dir = \"/Users/samskanderi/Documents/Research_Project/SWANSF/code/5_0_FinalData_ZM_BaseLineImputation/\"\n",
    "X_train_NewF_M_N = []\n",
    "Y_train_NewF_M_N = []\n",
    "\n",
    "\n",
    "num_partitions = 5\n",
    "\n",
    "for i in range(0,num_partitions):\n",
    "    with open(data_dir + \"Partition\" + str(i+1) + \"_NewFeatures_MinMaxNorm_NextvalueImputation\" + \".pkl\", 'rb') as f:\n",
    "        X_train_NewF_M_N.append(pickle.load(f))\n",
    "    print(\"P\"+str(i+1)+\" Nan-Value: \"+ str(np.isnan(X_train_NewF_M_N[i]).any() or np.isinf(X_train_NewF_M_N[i]).any()))\n",
    "    \n",
    "    with open(data_dir + \"Partition\" + str(i+1) + \"_Labels_NewFeatures_MinMaxNorm_NextvalueImputation\" + \".pkl\", 'rb') as f:\n",
    "        Y_train_NewF_M_N.append(pickle.load(f))"
   ]
  },
  {
   "cell_type": "markdown",
   "id": "7451b5f7",
   "metadata": {},
   "source": [
    "### Reading the Data built by the Previous Notebooks (Z-score Normalization and Nextvalue Imputation)"
   ]
  },
  {
   "cell_type": "code",
   "execution_count": 6,
   "id": "03cdf64a",
   "metadata": {},
   "outputs": [
    {
     "name": "stdout",
     "output_type": "stream",
     "text": [
      "P1 Nan-Value: False\n",
      "P2 Nan-Value: False\n",
      "P3 Nan-Value: False\n",
      "P4 Nan-Value: False\n",
      "P5 Nan-Value: False\n"
     ]
    }
   ],
   "source": [
    "import pickle\n",
    "import numpy as np\n",
    "\n",
    "data_dir = \"/Users/samskanderi/Documents/Research_Project/SWANSF/code/5_0_FinalData_ZM_BaseLineImputation/\"\n",
    "X_train_NewF_Z_N = []\n",
    "Y_train_NewF_Z_N = []\n",
    "\n",
    "\n",
    "num_partitions = 5\n",
    "\n",
    "for i in range(0,num_partitions):\n",
    "    with open(data_dir + \"Partition\" + str(i+1) + \"_NewFeatures_ZNorm_NextvalueImputation\" + \".pkl\", 'rb') as f:\n",
    "        X_train_NewF_Z_N.append(pickle.load(f))\n",
    "    print(\"P\"+str(i+1)+\" Nan-Value: \"+ str(np.isnan(X_train_NewF_Z_N[i]).any() or np.isinf(X_train_NewF_Z_N[i]).any()))\n",
    "    \n",
    "    with open(data_dir + \"Partition\" + str(i+1) + \"_Labels_NewFeatures_ZNorm_NextvalueImputation\" + \".pkl\", 'rb') as f:\n",
    "        Y_train_NewF_Z_N.append(pickle.load(f))"
   ]
  },
  {
   "cell_type": "markdown",
   "id": "febdab3b",
   "metadata": {},
   "source": [
    "### Reading the Data built by the Previous Notebooks (Z-score Normalization and FPCKNN Imputation)"
   ]
  },
  {
   "cell_type": "code",
   "execution_count": 2,
   "id": "89f03413",
   "metadata": {},
   "outputs": [
    {
     "name": "stdout",
     "output_type": "stream",
     "text": [
      "P1 Nan-Value: False\n",
      "P2 Nan-Value: False\n",
      "P3 Nan-Value: False\n",
      "P4 Nan-Value: False\n",
      "P5 Nan-Value: False\n"
     ]
    }
   ],
   "source": [
    "import pickle\n",
    "import numpy as np\n",
    "\n",
    "data_dir = \"/Users/samskanderi/Documents/Research_Project/SWANSF/code/5_1_FinalData_NewFeatures_ZM_KnnImputation/\"\n",
    "X_train_NewF_Z_KNN = []\n",
    "Y_train_NewF_Z_KNN = []\n",
    "\n",
    "\n",
    "num_partitions = 5\n",
    "\n",
    "for i in range(0,num_partitions):\n",
    "    with open(data_dir + \"Partition\" + str(i+1) + \"_NewFeatures_ZNorm_KnnImputation\" + \".pkl\", 'rb') as f:\n",
    "        X_train_NewF_Z_KNN.append(pickle.load(f))\n",
    "    print(\"P\"+str(i+1)+\" Nan-Value: \"+ str(np.isnan(X_train_NewF_Z_KNN[i]).any() or np.isinf(X_train_NewF_Z_KNN[i]).any()))\n",
    "    \n",
    "    with open(data_dir + \"Partition\" + str(i+1) + \"_Labels_NewFeatures_ZNorm_KnnImputation\" + \".pkl\", 'rb') as f:\n",
    "        Y_train_NewF_Z_KNN.append(pickle.load(f))"
   ]
  },
  {
   "cell_type": "markdown",
   "id": "3e737938",
   "metadata": {},
   "source": [
    "### Reading the Data built by the Previous Notebooks (MinMax Normalization and FPCKNN Imputation)"
   ]
  },
  {
   "cell_type": "code",
   "execution_count": 3,
   "id": "3de4e558",
   "metadata": {},
   "outputs": [
    {
     "name": "stdout",
     "output_type": "stream",
     "text": [
      "P1 Nan-Value: False\n",
      "P2 Nan-Value: False\n",
      "P3 Nan-Value: False\n",
      "P4 Nan-Value: False\n",
      "P5 Nan-Value: False\n"
     ]
    }
   ],
   "source": [
    "import pickle\n",
    "import numpy as np\n",
    "\n",
    "data_dir = \"/Users/samskanderi/Documents/Research_Project/SWANSF/code/5_1_FinalData_NewFeatures_ZM_KnnImputation/\"\n",
    "X_train_NewF_M_KNN = []\n",
    "Y_train_NewF_M_KNN = []\n",
    "\n",
    "\n",
    "num_partitions = 5\n",
    "\n",
    "for i in range(0,num_partitions):\n",
    "    with open(data_dir + \"Partition\" + str(i+1) + \"_NewFeatures_MinMaxNorm_KnnImputation\" + \".pkl\", 'rb') as f:\n",
    "        X_train_NewF_M_KNN.append(pickle.load(f))\n",
    "    print(\"P\"+str(i+1)+\" Nan-Value: \"+ str(np.isnan(X_train_NewF_M_KNN[i]).any() or np.isinf(X_train_NewF_M_KNN[i]).any()))\n",
    "    \n",
    "    with open(data_dir + \"Partition\" + str(i+1) + \"_Labels_NewFeatures_MinMaxNorm_KnnImputation\" + \".pkl\", 'rb') as f:\n",
    "        Y_train_NewF_M_KNN.append(pickle.load(f))"
   ]
  },
  {
   "cell_type": "markdown",
   "id": "491e47ac",
   "metadata": {},
   "source": [
    "### Reading the Data built by the Previous Notebooks (LSBZM Normalization and Mean Imputation)"
   ]
  },
  {
   "cell_type": "code",
   "execution_count": 4,
   "id": "b30f0191",
   "metadata": {},
   "outputs": [
    {
     "name": "stdout",
     "output_type": "stream",
     "text": [
      "P1 Nan-Value: False\n",
      "P2 Nan-Value: False\n",
      "P3 Nan-Value: False\n",
      "P4 Nan-Value: False\n",
      "P5 Nan-Value: False\n"
     ]
    }
   ],
   "source": [
    "import pickle\n",
    "import numpy as np\n",
    "\n",
    "data_dir = \"/Users/samskanderi/Documents/Research_Project/SWANSF/code/5_0_FinalData_ZM_BaseLineImputation/\"\n",
    "X_train_NewF_LSBZM_M = []\n",
    "Y_train_NewF_LSBZM_M = []\n",
    "\n",
    "\n",
    "num_partitions = 5\n",
    "\n",
    "for i in range(0,num_partitions):\n",
    "    with open(data_dir + \"Partition\" + str(i+1) + \"_NewFeatures_LSBZM_MeanImputation\" + \".pkl\", 'rb') as f:\n",
    "        X_train_NewF_LSBZM_M.append(pickle.load(f))\n",
    "    print(\"P\"+str(i+1)+\" Nan-Value: \"+ str(np.isnan(X_train_NewF_LSBZM_M[i]).any() or np.isinf(X_train_NewF_LSBZM_M[i]).any()))\n",
    "    \n",
    "    with open(data_dir + \"Partition\" + str(i+1) + \"_Labels_NewFeatures_LSBZM_MeanImputation\" + \".pkl\", 'rb') as f:\n",
    "        Y_train_NewF_LSBZM_M.append(pickle.load(f))"
   ]
  },
  {
   "cell_type": "markdown",
   "id": "836ca6a0",
   "metadata": {},
   "source": [
    "### Reading the Data built by the Previous Notebooks (LSBZM Normalization and Nextvalue Imputation)"
   ]
  },
  {
   "cell_type": "code",
   "execution_count": 5,
   "id": "0b740146",
   "metadata": {},
   "outputs": [
    {
     "name": "stdout",
     "output_type": "stream",
     "text": [
      "P1 Nan-Value: False\n",
      "P2 Nan-Value: False\n",
      "P3 Nan-Value: False\n",
      "P4 Nan-Value: False\n",
      "P5 Nan-Value: False\n"
     ]
    }
   ],
   "source": [
    "import pickle\n",
    "import numpy as np\n",
    "\n",
    "data_dir = \"/Users/samskanderi/Documents/Research_Project/SWANSF/code/5_0_FinalData_ZM_BaseLineImputation/\"\n",
    "X_train_NewF_LSBZM_N = []\n",
    "Y_train_NewF_LSBZM_N = []\n",
    "\n",
    "\n",
    "num_partitions = 5\n",
    "\n",
    "for i in range(0,num_partitions):\n",
    "    with open(data_dir + \"Partition\" + str(i+1) + \"_NewFeatures_LSBZM_NextvalueImputation\" + \".pkl\", 'rb') as f:\n",
    "        X_train_NewF_LSBZM_N.append(pickle.load(f))\n",
    "    print(\"P\"+str(i+1)+\" Nan-Value: \"+ str(np.isnan(X_train_NewF_LSBZM_N[i]).any() or np.isinf(X_train_NewF_LSBZM_N[i]).any()))\n",
    "    \n",
    "    with open(data_dir + \"Partition\" + str(i+1) + \"_Labels_NewFeatures_LSBZM_NextvalueImputation\" + \".pkl\", 'rb') as f:\n",
    "        Y_train_NewF_LSBZM_N.append(pickle.load(f))"
   ]
  },
  {
   "cell_type": "markdown",
   "id": "7c1de7a7",
   "metadata": {},
   "source": [
    "### Reading the Data built by the Previous Notebooks (FPCKNN Imputation and Without B and C Classes)"
   ]
  },
  {
   "cell_type": "code",
   "execution_count": 3,
   "id": "29c69703",
   "metadata": {},
   "outputs": [
    {
     "name": "stdout",
     "output_type": "stream",
     "text": [
      "P1 Nan-Value: False\n",
      "P2 Nan-Value: False\n",
      "P3 Nan-Value: False\n",
      "P4 Nan-Value: False\n",
      "P5 Nan-Value: False\n"
     ]
    }
   ],
   "source": [
    "import pickle\n",
    "import numpy as np\n",
    "\n",
    "data_dir = \"/Users/samskanderi/Documents/Research_Project/SWANSF/code/5_5_FinalData_NewFeatures_WithoutB&C_LSBZM_KnnImputation/\"\n",
    "X_train_NewF_LSBZM_wBandC = []\n",
    "Y_train_NewF_LSBZM_wBandC = []\n",
    "\n",
    "\n",
    "num_partitions = 5\n",
    "\n",
    "for i in range(0,num_partitions):\n",
    "    with open(data_dir + \"Partition\" + str(i+1) + \"_NewFeatures_WithoutB&C_LSBZM_KnnImputation\" + \".pkl\", 'rb') as f:\n",
    "        X_train_NewF_LSBZM_wBandC.append(pickle.load(f))\n",
    "    print(\"P\"+str(i+1)+\" Nan-Value: \"+ str(np.isnan(X_train_NewF_LSBZM_wBandC[i]).any() or np.isinf(X_train_NewF_LSBZM_wBandC[i]).any()))\n",
    "    \n",
    "    with open(data_dir + \"Partition\" + str(i+1) + \"_Labels_NewFeatures_WithoutB&C_LSBZM_KnnImputation\" + \".pkl\", 'rb') as f:\n",
    "        Y_train_NewF_LSBZM_wBandC.append(pickle.load(f))"
   ]
  },
  {
   "cell_type": "markdown",
   "id": "8fa8ebc8",
   "metadata": {},
   "source": [
    "### Reading the Data built by the Previous Notebooks (FPCKNN Imputation and Without C Class)"
   ]
  },
  {
   "cell_type": "code",
   "execution_count": 4,
   "id": "04091e1a",
   "metadata": {},
   "outputs": [
    {
     "name": "stdout",
     "output_type": "stream",
     "text": [
      "P1 Nan-Value: False\n",
      "P2 Nan-Value: False\n",
      "P3 Nan-Value: False\n",
      "P4 Nan-Value: False\n",
      "P5 Nan-Value: False\n"
     ]
    }
   ],
   "source": [
    "import pickle\n",
    "import numpy as np\n",
    "\n",
    "data_dir = \"/Users/samskanderi/Documents/Research_Project/SWANSF/code/5_6_FinalData_NewFeatures_WithoutC_LSBZM_KnnImputation/\"\n",
    "X_train_NewF_LSBZM_wC = []\n",
    "Y_train_NewF_LSBZM_wC = []\n",
    "\n",
    "\n",
    "num_partitions = 5\n",
    "\n",
    "for i in range(0,num_partitions):\n",
    "    with open(data_dir + \"Partition\" + str(i+1) + \"_NewFeatures_WithoutC_LSBZM_KnnImputation\" + \".pkl\", 'rb') as f:\n",
    "        X_train_NewF_LSBZM_wC.append(pickle.load(f))\n",
    "    print(\"P\"+str(i+1)+\" Nan-Value: \"+ str(np.isnan(X_train_NewF_LSBZM_wC[i]).any() or np.isinf(X_train_NewF_LSBZM_wC[i]).any()))\n",
    "    \n",
    "    with open(data_dir + \"Partition\" + str(i+1) + \"_Labels_NewFeatures_WithoutC_LSBZM_KnnImputation\" + \".pkl\", 'rb') as f:\n",
    "        Y_train_NewF_LSBZM_wC.append(pickle.load(f))"
   ]
  },
  {
   "cell_type": "markdown",
   "id": "d520699a",
   "metadata": {},
   "source": [
    "### Function to run the classification on different Train-Test Splits"
   ]
  },
  {
   "cell_type": "code",
   "execution_count": 6,
   "id": "ed6ceb4d",
   "metadata": {},
   "outputs": [],
   "source": [
    "def kfold_training(name, X_train, Y_train, training_func, num):\n",
    "    kfold = np.array([[1,2],[2,3],[3,4],[4,5]])\n",
    "\n",
    "    metrics = []\n",
    "    metrics_values = np.array([])\n",
    "    \n",
    "    for i in range(0, num):\n",
    "        train_index = kfold[i,0]\n",
    "        test_index = kfold[i,1]\n",
    "        metrics_values = training_func(X_train[train_index-1], Y_train[train_index-1], X_train[test_index-1], Y_train[test_index-1])\n",
    "        count = 0\n",
    "        while (metrics_values[0] <= 0.1):\n",
    "            count += 1\n",
    "            metrics_values = training_func(X_train[train_index-1], Y_train[train_index-1], X_train[test_index-1], Y_train[test_index-1])\n",
    "            if count == 5:\n",
    "                break\n",
    "        \n",
    "        metrics.append(np.append(np.append(train_index, test_index), metrics_values))\n",
    "    return metrics"
   ]
  },
  {
   "cell_type": "code",
   "execution_count": 7,
   "id": "a2de0c1a",
   "metadata": {},
   "outputs": [],
   "source": [
    "def kfold_training_sampling(name, X_train, Y_train, X_test, Y_test, training_func, num):\n",
    "    kfold = np.array([[1,2],[2,3],[3,4],[4,5]])\n",
    "\n",
    "    metrics = []\n",
    "    metrics_values = np.array([])\n",
    "    \n",
    "    for i in range(0, num):\n",
    "        train_index = kfold[i,0]\n",
    "        test_index = kfold[i,1]\n",
    "        metrics_values = training_func(X_train[train_index-1], Y_train[train_index-1], X_test[test_index-1], Y_test[test_index-1])\n",
    "        count = 0\n",
    "        while (metrics_values[0] <= 0.1):\n",
    "            count += 1\n",
    "            metrics_values = training_func(X_train[train_index-1], Y_train[train_index-1], X_test[test_index-1], Y_test[test_index-1])\n",
    "            if count == 5:\n",
    "                break\n",
    "        \n",
    "        metrics.append(np.append(np.append(train_index, test_index), metrics_values))\n",
    "    return metrics"
   ]
  },
  {
   "cell_type": "markdown",
   "id": "faf5130c",
   "metadata": {},
   "source": [
    "## Code of the Classification techniques"
   ]
  },
  {
   "cell_type": "markdown",
   "id": "10454d6f",
   "metadata": {},
   "source": [
    "### SVM"
   ]
  },
  {
   "cell_type": "code",
   "execution_count": 153,
   "id": "9a1291ae",
   "metadata": {},
   "outputs": [],
   "source": [
    "# Import necessary libraries\n",
    "import numpy as np\n",
    "from sklearn.svm import SVC\n",
    "from sklearn.metrics import confusion_matrix\n",
    "\n",
    "def svm_model(X_train, Y_train, X_test, Y_test):\n",
    "    \n",
    "    data_dir = \"/Users/samskanderi/Documents/Research_Project/SWANSF/code/models/\"\n",
    "\n",
    "\n",
    "    # Create an SVM classifier (you can choose different kernels like 'linear', 'rbf', etc.)\n",
    "    svm_classifier = SVC(kernel='rbf', C=1.0)\n",
    "    svm_classifier.fit(X_train, Y_train)\n",
    "    y_pred = svm_classifier.predict(X_test)\n",
    "    \n",
    "    \n",
    "    print(str(X_train.shape)+': SVM Classifier is Done! \\n')\n",
    "    \n",
    "\n",
    "    confusion = confusion_matrix(Y_test, y_pred)\n",
    "    tn, fp, fn, tp = confusion.ravel()\n",
    "\n",
    "    tss = TSS(tp,tn,fp,fn)\n",
    "    hss1 = HSS1(tp,tn,fp,fn)\n",
    "    hss2 = HSS2(tp,tn,fp,fn)\n",
    "    gss = GSS(tp,tn,fp,fn)\n",
    "    recall = Recall(tp,tn,fp,fn)\n",
    "    precision = Precision(tp,tn,fp,fn)\n",
    "    \n",
    "    output_values = np.array([tp, fn, fp, tn, tss, hss1, hss2, gss, recall, precision])\n",
    "\n",
    "\n",
    "    #joblib.dump(classifier, data_dir + \"svm_model.pkl\")\n",
    "\n",
    "    #loaded_svm_model = joblib.load(data_dir + \"svm_model.pkl\")\n",
    "    \n",
    "    return output_values"
   ]
  },
  {
   "cell_type": "markdown",
   "id": "12a9a3ae",
   "metadata": {},
   "source": [
    "### MLP"
   ]
  },
  {
   "cell_type": "code",
   "execution_count": 152,
   "id": "a780f706",
   "metadata": {},
   "outputs": [],
   "source": [
    "import warnings\n",
    "warnings.filterwarnings(\"ignore\")\n",
    "\n",
    "import numpy as np\n",
    "import numpy as np\n",
    "import tensorflow as tf\n",
    "from tensorflow import keras\n",
    "from tensorflow.keras import layers\n",
    "from sklearn.metrics import confusion_matrix\n",
    "\n",
    "def mlp_model(X_train, Y_train, X_test, Y_test):\n",
    "    \n",
    "    data_dir = \"/Users/samskanderi/Documents/Research_Project/SWANSF/code/models/\"\n",
    "\n",
    "    # Define the MLP model\n",
    "    # Define the MLP model with four hidden layers\n",
    "    model = keras.Sequential([\n",
    "        layers.Input(shape=(216,)),  # Input layer with 216 features\n",
    "        layers.Dense(64, activation='relu'),  # Hidden layer with 64 units and ReLU activation\n",
    "        layers.Dense(32, activation='relu'),  # Hidden layer with 32 units and ReLU activation\n",
    "        layers.Dense(16, activation='relu'),  # Hidden layer with 16 units and ReLU activation\n",
    "        layers.Dense(8, activation='relu'),  # Hidden layer with 16 units and ReLU activation\n",
    "        layers.Dense(1, activation='sigmoid')  # Output layer with 1 unit and sigmoid activation (binary classification)\n",
    "    ])\n",
    "\n",
    "    # Compile the model\n",
    "    model.compile(optimizer='adam', loss='binary_crossentropy', metrics=keras.metrics.PrecisionAtRecall(0.95))\n",
    "\n",
    "    # Train the model\n",
    "    model.fit(X_train, Y_train, epochs=15, batch_size=32, verbose=0)  # Adjust epochs and batch_size as needed\n",
    "\n",
    "    y_pred = model.predict(X_test)\n",
    "    threshold = 0.5  # Adjust the threshold as needed\n",
    "    y_pred_binary = (y_pred > threshold).astype(int)\n",
    "    \n",
    "    print(str(X_train.shape)+': MLP Classifier is Done! \\n')\n",
    "\n",
    "\n",
    "    confusion = confusion_matrix(Y_test, y_pred_binary)\n",
    "    tn, fp, fn, tp = confusion.ravel()\n",
    "\n",
    "    tss = TSS(tp,tn,fp,fn)\n",
    "    hss1 = HSS1(tp,tn,fp,fn)\n",
    "    hss2 = HSS2(tp,tn,fp,fn)\n",
    "    gss = GSS(tp,tn,fp,fn)\n",
    "    recall = Recall(tp,tn,fp,fn)\n",
    "    precision = Precision(tp,tn,fp,fn)\n",
    "    \n",
    "    output_values = np.array([tp, fn, fp, tn, tss, hss1, hss2, gss, recall, precision])\n",
    "\n",
    "\n",
    "    #joblib.dump(classifier, data_dir + \"mlp_model.pkl\")\n",
    "\n",
    "    #loaded_mlp_model = joblib.load(data_dir + \"mlp_model.pkl\")\n",
    "    \n",
    "    return output_values"
   ]
  },
  {
   "cell_type": "markdown",
   "id": "1d6b8014",
   "metadata": {},
   "source": [
    "## k-NN"
   ]
  },
  {
   "cell_type": "code",
   "execution_count": 41,
   "id": "994a30d0",
   "metadata": {},
   "outputs": [],
   "source": [
    "import numpy as np\n",
    "from sklearn.neighbors import KNeighborsClassifier\n",
    "from sklearn.metrics import confusion_matrix\n",
    "\n",
    "def knn_model(X_train, Y_train, X_test, Y_test):\n",
    "    \n",
    "    data_dir = \"/Users/samskanderi/Documents/Research_Project/SWANSF/code/models/\"\n",
    "\n",
    "    # Create a Gaussian Naive Bayes classifier\n",
    "    nb_classifier = KNeighborsClassifier(n_neighbors=5)\n",
    "    nb_classifier.fit(X_train, Y_train)\n",
    "    y_pred = nb_classifier.predict(X_test)\n",
    "    \n",
    "    print(str(X_train.shape) + ': KNeighborsClassifier Classifier is Done! \\n')\n",
    "\n",
    "    confusion = confusion_matrix(Y_test, y_pred)\n",
    "    tn, fp, fn, tp = confusion.ravel()\n",
    "\n",
    "    tss = TSS(tp,tn,fp,fn)\n",
    "    hss1 = HSS1(tp,tn,fp,fn)\n",
    "    hss2 = HSS2(tp,tn,fp,fn)\n",
    "    gss = GSS(tp,tn,fp,fn)\n",
    "    recall = Recall(tp,tn,fp,fn)\n",
    "    precision = Precision(tp,tn,fp,fn)\n",
    "    \n",
    "    output_values = np.array([tp, fn, fp, tn, tss, hss1, hss2, gss, recall, precision])\n",
    "\n",
    "    #joblib.dump(nb_classifier, data_dir + \"naive_bayes_model.pkl\")\n",
    "\n",
    "    #loaded_nb_model = joblib.load(data_dir + \"naive_bayes_model.pkl\")\n",
    "\n",
    "    return output_values\n"
   ]
  },
  {
   "cell_type": "markdown",
   "id": "8cec60e3",
   "metadata": {},
   "source": [
    "### Random Forest"
   ]
  },
  {
   "cell_type": "code",
   "execution_count": 54,
   "id": "55986975",
   "metadata": {},
   "outputs": [],
   "source": [
    "import numpy as np\n",
    "from sklearn.ensemble import RandomForestClassifier\n",
    "from sklearn.metrics import confusion_matrix\n",
    "\n",
    "def random_forest_model(X_train, Y_train, X_test, Y_test):\n",
    "    \n",
    "    data_dir = \"/Users/samskanderi/Documents/Research_Project/SWANSF/code/models/\"\n",
    "\n",
    "    # Create a Random Forest classifier\n",
    "    # You can adjust 'n_estimators' and other parameters as needed\n",
    "    rf_classifier = RandomForestClassifier(n_estimators=64, random_state=42, criterion='entropy')\n",
    "    rf_classifier.fit(X_train, Y_train)\n",
    "    y_pred = rf_classifier.predict(X_test)\n",
    "    \n",
    "    print(str(X_train.shape) + ': Random Forest Classifier is Done! \\n')\n",
    "\n",
    "    confusion = confusion_matrix(Y_test, y_pred)\n",
    "    tn, fp, fn, tp = confusion.ravel()\n",
    "\n",
    "    tss = TSS(tp, tn, fp, fn)\n",
    "    hss1 = HSS1(tp, tn, fp, fn)\n",
    "    hss2 = HSS2(tp, tn, fp, fn)\n",
    "    gss = GSS(tp, tn, fp, fn)\n",
    "    recall = Recall(tp, tn, fp, fn)\n",
    "    precision = Precision(tp, tn, fp, fn)\n",
    "    \n",
    "    output_values = np.array([tp, fn, fp, tn, tss, hss1, hss2, gss, recall, precision])\n",
    "\n",
    "    #joblib.dump(rf_classifier, data_dir + \"random_forest_model.pkl\")\n",
    "\n",
    "    #loaded_rf_model = joblib.load(data_dir + \"random_forest_model.pkl\")\n",
    "\n",
    "    return output_values\n"
   ]
  },
  {
   "cell_type": "markdown",
   "id": "32e9fd1e",
   "metadata": {},
   "source": [
    "### Saving the Result of Classification on File"
   ]
  },
  {
   "cell_type": "code",
   "execution_count": 14,
   "id": "127986e8",
   "metadata": {},
   "outputs": [],
   "source": [
    "def save_results(reslut, name):\n",
    "    data_dir = \"/Users/samskanderi/Documents/Research_Project/SWANSF/code/results/\"\n",
    "\n",
    "    with open(data_dir + name + \".pkl\", 'wb') as f:\n",
    "        pickle.dump(reslut, f)"
   ]
  },
  {
   "cell_type": "markdown",
   "id": "4b1b95d5",
   "metadata": {},
   "source": [
    "## Running Experiments "
   ]
  },
  {
   "cell_type": "markdown",
   "id": "3c7bc689",
   "metadata": {},
   "source": [
    "### SVM"
   ]
  },
  {
   "cell_type": "code",
   "execution_count": 13,
   "id": "5b280418",
   "metadata": {},
   "outputs": [
    {
     "name": "stdout",
     "output_type": "stream",
     "text": [
      "(73492, 216): SVM Classifier is Done! \n",
      "\n",
      "(88557, 216): SVM Classifier is Done! \n",
      "\n",
      "(42510, 216): SVM Classifier is Done! \n",
      "\n",
      "(51261, 216): SVM Classifier is Done! \n",
      "\n"
     ]
    }
   ],
   "source": [
    "# SVM NewFeatures\n",
    "svm_newf = kfold_training('SVM', X_train_NewF_LSBZM, Y_train_NewF_LSBZM, svm_model, 4)"
   ]
  },
  {
   "cell_type": "code",
   "execution_count": 14,
   "id": "a14a0c88",
   "metadata": {},
   "outputs": [],
   "source": [
    "save_results(svm_newf, \"SVM_NewFeatures_Results\")"
   ]
  },
  {
   "cell_type": "code",
   "execution_count": 15,
   "id": "dcda0440",
   "metadata": {},
   "outputs": [
    {
     "name": "stdout",
     "output_type": "stream",
     "text": [
      "(73492, 216): SVM Classifier is Done! \n",
      "\n",
      "(88557, 216): SVM Classifier is Done! \n",
      "\n",
      "(42510, 216): SVM Classifier is Done! \n",
      "\n",
      "(51261, 216): SVM Classifier is Done! \n",
      "\n"
     ]
    }
   ],
   "source": [
    "# SVM NewFeatures\n",
    "svm_newf = kfold_training('SVM', X_train_NewF_M, Y_train_NewF_M, svm_model, 4)"
   ]
  },
  {
   "cell_type": "code",
   "execution_count": 16,
   "id": "401da956",
   "metadata": {},
   "outputs": [],
   "source": [
    "save_results(svm_newf, \"SVM_NewFeatures_MM_Results\")"
   ]
  },
  {
   "cell_type": "code",
   "execution_count": 17,
   "id": "89092ad6",
   "metadata": {},
   "outputs": [
    {
     "name": "stdout",
     "output_type": "stream",
     "text": [
      "(73492, 216): SVM Classifier is Done! \n",
      "\n",
      "(88557, 216): SVM Classifier is Done! \n",
      "\n",
      "(42510, 216): SVM Classifier is Done! \n",
      "\n",
      "(51261, 216): SVM Classifier is Done! \n",
      "\n"
     ]
    }
   ],
   "source": [
    "# SVM NewFeatures\n",
    "svm_newf = kfold_training('SVM', X_train_NewF_Z, Y_train_NewF_Z, svm_model, 4)"
   ]
  },
  {
   "cell_type": "code",
   "execution_count": 18,
   "id": "1e42b682",
   "metadata": {},
   "outputs": [],
   "source": [
    "save_results(svm_newf, \"SVM_NewFeatures_ZM_Results\")"
   ]
  },
  {
   "cell_type": "code",
   "execution_count": 19,
   "id": "c0cb7c52",
   "metadata": {},
   "outputs": [
    {
     "name": "stdout",
     "output_type": "stream",
     "text": [
      "(73492, 216): SVM Classifier is Done! \n",
      "\n",
      "(88557, 216): SVM Classifier is Done! \n",
      "\n",
      "(42510, 216): SVM Classifier is Done! \n",
      "\n",
      "(51261, 216): SVM Classifier is Done! \n",
      "\n"
     ]
    }
   ],
   "source": [
    "# SVM NewFeatures\n",
    "svm_newf = kfold_training('SVM', X_train_NewF_M_N, Y_train_NewF_M_N, svm_model, 4)"
   ]
  },
  {
   "cell_type": "code",
   "execution_count": 20,
   "id": "cba6dcf8",
   "metadata": {},
   "outputs": [],
   "source": [
    "save_results(svm_newf, \"SVM_NewFeatures_MN_Results\")"
   ]
  },
  {
   "cell_type": "code",
   "execution_count": 21,
   "id": "bf1fff87",
   "metadata": {},
   "outputs": [
    {
     "name": "stdout",
     "output_type": "stream",
     "text": [
      "(73492, 216): SVM Classifier is Done! \n",
      "\n",
      "(88557, 216): SVM Classifier is Done! \n",
      "\n",
      "(42510, 216): SVM Classifier is Done! \n",
      "\n",
      "(51261, 216): SVM Classifier is Done! \n",
      "\n"
     ]
    }
   ],
   "source": [
    "# SVM NewFeatures\n",
    "svm_newf = kfold_training('SVM', X_train_NewF_Z_N, Y_train_NewF_Z_N, svm_model, 4)"
   ]
  },
  {
   "cell_type": "code",
   "execution_count": 22,
   "id": "04b12881",
   "metadata": {},
   "outputs": [],
   "source": [
    "save_results(svm_newf, \"SVM_NewFeatures_ZN_Results\")"
   ]
  },
  {
   "cell_type": "code",
   "execution_count": 13,
   "id": "aeeda717",
   "metadata": {},
   "outputs": [
    {
     "name": "stdout",
     "output_type": "stream",
     "text": [
      "(73492, 216): SVM Classifier is Done! \n",
      "\n",
      "(88557, 216): SVM Classifier is Done! \n",
      "\n",
      "(42510, 216): SVM Classifier is Done! \n",
      "\n",
      "(51261, 216): SVM Classifier is Done! \n",
      "\n"
     ]
    }
   ],
   "source": [
    "# SVM NewFeatures\n",
    "svm_newf = kfold_training('SVM', X_train_NewF_Z_KNN, Y_train_NewF_Z_KNN, svm_model, 4)"
   ]
  },
  {
   "cell_type": "code",
   "execution_count": 14,
   "id": "0e10b7f3",
   "metadata": {},
   "outputs": [],
   "source": [
    "save_results(svm_newf, \"SVM_NewFeatures_ZKNN_Results\")"
   ]
  },
  {
   "cell_type": "code",
   "execution_count": 15,
   "id": "80b8bf22",
   "metadata": {},
   "outputs": [
    {
     "name": "stdout",
     "output_type": "stream",
     "text": [
      "(73492, 216): SVM Classifier is Done! \n",
      "\n",
      "(88557, 216): SVM Classifier is Done! \n",
      "\n",
      "(42510, 216): SVM Classifier is Done! \n",
      "\n",
      "(51261, 216): SVM Classifier is Done! \n",
      "\n"
     ]
    }
   ],
   "source": [
    "# SVM NewFeatures\n",
    "svm_newf = kfold_training('SVM', X_train_NewF_M_KNN, Y_train_NewF_M_KNN, svm_model, 4)"
   ]
  },
  {
   "cell_type": "code",
   "execution_count": 16,
   "id": "5658e323",
   "metadata": {},
   "outputs": [],
   "source": [
    "save_results(svm_newf, \"SVM_NewFeatures_MKNN_Results\")"
   ]
  },
  {
   "cell_type": "code",
   "execution_count": 154,
   "id": "5dbac40a",
   "metadata": {},
   "outputs": [
    {
     "name": "stdout",
     "output_type": "stream",
     "text": [
      "(73492, 216): SVM Classifier is Done! \n",
      "\n",
      "(88557, 216): SVM Classifier is Done! \n",
      "\n",
      "(88557, 216): SVM Classifier is Done! \n",
      "\n",
      "(88557, 216): SVM Classifier is Done! \n",
      "\n",
      "(88557, 216): SVM Classifier is Done! \n",
      "\n",
      "(88557, 216): SVM Classifier is Done! \n",
      "\n",
      "(88557, 216): SVM Classifier is Done! \n",
      "\n",
      "(42510, 216): SVM Classifier is Done! \n",
      "\n",
      "(51261, 216): SVM Classifier is Done! \n",
      "\n"
     ]
    }
   ],
   "source": [
    "# SVM NewFeatures\n",
    "svm_newf = kfold_training('SVM', X_train_NewF_LSBZM_M, Y_train_NewF_LSBZM_M, svm_model, 4)"
   ]
  },
  {
   "cell_type": "code",
   "execution_count": 155,
   "id": "4eeeb1f0",
   "metadata": {},
   "outputs": [],
   "source": [
    "save_results(svm_newf, \"SVM_NewFeatures_LSBZM_M_Results\")"
   ]
  },
  {
   "cell_type": "code",
   "execution_count": 156,
   "id": "39a1ec05",
   "metadata": {},
   "outputs": [
    {
     "name": "stdout",
     "output_type": "stream",
     "text": [
      "(73492, 216): SVM Classifier is Done! \n",
      "\n",
      "(88557, 216): SVM Classifier is Done! \n",
      "\n",
      "(88557, 216): SVM Classifier is Done! \n",
      "\n",
      "(88557, 216): SVM Classifier is Done! \n",
      "\n",
      "(88557, 216): SVM Classifier is Done! \n",
      "\n",
      "(88557, 216): SVM Classifier is Done! \n",
      "\n",
      "(88557, 216): SVM Classifier is Done! \n",
      "\n",
      "(42510, 216): SVM Classifier is Done! \n",
      "\n",
      "(51261, 216): SVM Classifier is Done! \n",
      "\n"
     ]
    }
   ],
   "source": [
    "# SVM NewFeatures\n",
    "svm_newf = kfold_training('SVM', X_train_NewF_LSBZM_N, Y_train_NewF_LSBZM_N, svm_model, 4)"
   ]
  },
  {
   "cell_type": "code",
   "execution_count": 157,
   "id": "89a7f871",
   "metadata": {},
   "outputs": [],
   "source": [
    "save_results(svm_newf, \"SVM_NewFeatures_LSBZM_N_Results\")"
   ]
  },
  {
   "cell_type": "code",
   "execution_count": null,
   "id": "225845b8",
   "metadata": {},
   "outputs": [],
   "source": []
  },
  {
   "cell_type": "code",
   "execution_count": 11,
   "id": "924fef7b",
   "metadata": {},
   "outputs": [
    {
     "name": "stdout",
     "output_type": "stream",
     "text": [
      "(61384, 216): SVM Classifier is Done! \n",
      "\n",
      "(74769, 216): SVM Classifier is Done! \n",
      "\n",
      "(36186, 216): SVM Classifier is Done! \n",
      "\n",
      "(44459, 216): SVM Classifier is Done! \n",
      "\n"
     ]
    }
   ],
   "source": [
    "# SVM NewFeatures\n",
    "svm_newf = kfold_training_sampling('SVM', X_train_NewF_LSBZM_wBandC, Y_train_NewF_LSBZM_wBandC,\n",
    "                                   X_train_NewF_LSBZM, Y_train_NewF_LSBZM, svm_model, 4)"
   ]
  },
  {
   "cell_type": "code",
   "execution_count": 12,
   "id": "0ce5409f",
   "metadata": {},
   "outputs": [],
   "source": [
    "save_results(svm_newf, \"SVM_NewFeatures_WithoutB&C_LSBZM_KNN_Results\")"
   ]
  },
  {
   "cell_type": "code",
   "execution_count": 13,
   "id": "c81446ac",
   "metadata": {},
   "outputs": [
    {
     "name": "stdout",
     "output_type": "stream",
     "text": [
      "(67076, 216): SVM Classifier is Done! \n",
      "\n",
      "(79747, 216): SVM Classifier is Done! \n",
      "\n",
      "(36871, 216): SVM Classifier is Done! \n",
      "\n",
      "(45305, 216): SVM Classifier is Done! \n",
      "\n"
     ]
    }
   ],
   "source": [
    "# SVM NewFeatures\n",
    "svm_newf = kfold_training_sampling('SVM', X_train_NewF_LSBZM_wC, Y_train_NewF_LSBZM_wC,\n",
    "                                   X_train_NewF_LSBZM, Y_train_NewF_LSBZM, svm_model, 4)"
   ]
  },
  {
   "cell_type": "code",
   "execution_count": 14,
   "id": "7826664f",
   "metadata": {},
   "outputs": [],
   "source": [
    "save_results(svm_newf, \"SVM_NewFeatures_WithoutC_LSBZM_KNN_Results\")"
   ]
  },
  {
   "cell_type": "markdown",
   "id": "b5ce17de",
   "metadata": {},
   "source": [
    "### MLP"
   ]
  },
  {
   "cell_type": "code",
   "execution_count": 23,
   "id": "4dd95319",
   "metadata": {},
   "outputs": [
    {
     "name": "stdout",
     "output_type": "stream",
     "text": [
      "2768/2768 [==============================] - 1s 329us/step\n",
      "(73492, 216): MLP Classifier is Done! \n",
      "\n",
      "1329/1329 [==============================] - 1s 331us/step\n",
      "(88557, 216): MLP Classifier is Done! \n",
      "\n",
      "1602/1602 [==============================] - 1s 389us/step\n",
      "(42510, 216): MLP Classifier is Done! \n",
      "\n",
      "2356/2356 [==============================] - 1s 406us/step\n",
      "(51261, 216): MLP Classifier is Done! \n",
      "\n"
     ]
    }
   ],
   "source": [
    "# MLPClassifier NewFeatures\n",
    "mlp_newf = kfold_training('MLP', X_train_NewF_LSBZM, Y_train_NewF_LSBZM, mlp_model, 4)"
   ]
  },
  {
   "cell_type": "code",
   "execution_count": 24,
   "id": "097d194e",
   "metadata": {},
   "outputs": [],
   "source": [
    "save_results(mlp_newf, \"MLPClassifier_NewFeatures_Results\")"
   ]
  },
  {
   "cell_type": "code",
   "execution_count": 25,
   "id": "b0b0c80e",
   "metadata": {},
   "outputs": [
    {
     "name": "stdout",
     "output_type": "stream",
     "text": [
      "2768/2768 [==============================] - 1s 339us/step\n",
      "(73492, 216): MLP Classifier is Done! \n",
      "\n",
      "1329/1329 [==============================] - 0s 340us/step\n",
      "(88557, 216): MLP Classifier is Done! \n",
      "\n",
      "1602/1602 [==============================] - 1s 347us/step\n",
      "(42510, 216): MLP Classifier is Done! \n",
      "\n",
      "2356/2356 [==============================] - 1s 350us/step\n",
      "(51261, 216): MLP Classifier is Done! \n",
      "\n"
     ]
    }
   ],
   "source": [
    "# MLPClassifier NewFeatures\n",
    "mlp_newf = kfold_training('MLP', X_train_NewF_M, Y_train_NewF_M, mlp_model, 4)"
   ]
  },
  {
   "cell_type": "code",
   "execution_count": 26,
   "id": "090bd126",
   "metadata": {},
   "outputs": [],
   "source": [
    "save_results(mlp_newf, \"MLPClassifier_NewFeatures_MM_Results\")"
   ]
  },
  {
   "cell_type": "code",
   "execution_count": 27,
   "id": "4f77f64e",
   "metadata": {},
   "outputs": [
    {
     "name": "stdout",
     "output_type": "stream",
     "text": [
      "2768/2768 [==============================] - 1s 386us/step\n",
      "(73492, 216): MLP Classifier is Done! \n",
      "\n",
      "1329/1329 [==============================] - 1s 367us/step\n",
      "(88557, 216): MLP Classifier is Done! \n",
      "\n",
      "1602/1602 [==============================] - 1s 358us/step\n",
      "(42510, 216): MLP Classifier is Done! \n",
      "\n",
      "2356/2356 [==============================] - 1s 354us/step\n",
      "(51261, 216): MLP Classifier is Done! \n",
      "\n"
     ]
    }
   ],
   "source": [
    "# MLPClassifier NewFeatures\n",
    "mlp_newf = kfold_training('MLP', X_train_NewF_Z, Y_train_NewF_Z, mlp_model, 4)"
   ]
  },
  {
   "cell_type": "code",
   "execution_count": 28,
   "id": "c84af6d1",
   "metadata": {},
   "outputs": [],
   "source": [
    "save_results(mlp_newf, \"MLPClassifier_NewFeatures_ZM_Results\")"
   ]
  },
  {
   "cell_type": "code",
   "execution_count": 29,
   "id": "7d528e3f",
   "metadata": {},
   "outputs": [
    {
     "name": "stdout",
     "output_type": "stream",
     "text": [
      "2768/2768 [==============================] - 1s 368us/step\n",
      "(73492, 216): MLP Classifier is Done! \n",
      "\n",
      "1329/1329 [==============================] - 1s 370us/step\n",
      "(88557, 216): MLP Classifier is Done! \n",
      "\n",
      "1602/1602 [==============================] - 1s 367us/step\n",
      "(42510, 216): MLP Classifier is Done! \n",
      "\n",
      "2356/2356 [==============================] - 1s 358us/step\n",
      "(51261, 216): MLP Classifier is Done! \n",
      "\n"
     ]
    }
   ],
   "source": [
    "# MLPClassifier NewFeatures\n",
    "mlp_newf = kfold_training('MLP', X_train_NewF_M_N, Y_train_NewF_M_N, mlp_model, 4)"
   ]
  },
  {
   "cell_type": "code",
   "execution_count": 30,
   "id": "12477cd0",
   "metadata": {},
   "outputs": [],
   "source": [
    "save_results(mlp_newf, \"MLPClassifier_NewFeatures_MN_Results\")"
   ]
  },
  {
   "cell_type": "code",
   "execution_count": 31,
   "id": "e0a65e46",
   "metadata": {},
   "outputs": [
    {
     "name": "stdout",
     "output_type": "stream",
     "text": [
      "2768/2768 [==============================] - 1s 368us/step\n",
      "(73492, 216): MLP Classifier is Done! \n",
      "\n",
      "1329/1329 [==============================] - 1s 361us/step\n",
      "(88557, 216): MLP Classifier is Done! \n",
      "\n",
      "1602/1602 [==============================] - 1s 376us/step\n",
      "(42510, 216): MLP Classifier is Done! \n",
      "\n",
      "2356/2356 [==============================] - 1s 369us/step\n",
      "(51261, 216): MLP Classifier is Done! \n",
      "\n"
     ]
    }
   ],
   "source": [
    "# MLPClassifier NewFeatures\n",
    "mlp_newf = kfold_training('MLP', X_train_NewF_Z_N, Y_train_NewF_Z_N, mlp_model, 4)"
   ]
  },
  {
   "cell_type": "code",
   "execution_count": 32,
   "id": "ffb56dd1",
   "metadata": {},
   "outputs": [],
   "source": [
    "save_results(mlp_newf, \"MLPClassifier_NewFeatures_ZN_Results\")"
   ]
  },
  {
   "cell_type": "code",
   "execution_count": 144,
   "id": "6b787886",
   "metadata": {},
   "outputs": [
    {
     "name": "stdout",
     "output_type": "stream",
     "text": [
      "2768/2768 [==============================] - 1s 204us/step\n",
      "(73492, 216): MLP Classifier is Done! \n",
      "\n",
      "1329/1329 [==============================] - 0s 207us/step\n",
      "(88557, 216): MLP Classifier is Done! \n",
      "\n",
      "1602/1602 [==============================] - 0s 208us/step\n",
      "(42510, 216): MLP Classifier is Done! \n",
      "\n",
      "2356/2356 [==============================] - 1s 208us/step\n",
      "(51261, 216): MLP Classifier is Done! \n",
      "\n"
     ]
    }
   ],
   "source": [
    "# MLPClassifier NewFeatures\n",
    "mlp_newf = kfold_training('MLP', X_train_NewF_Z_KNN, Y_train_NewF_Z_KNN, mlp_model, 4)"
   ]
  },
  {
   "cell_type": "code",
   "execution_count": 145,
   "id": "0dc4b348",
   "metadata": {},
   "outputs": [],
   "source": [
    "save_results(mlp_newf, \"MLPClassifier_NewFeatures_ZKNN_Results\")"
   ]
  },
  {
   "cell_type": "code",
   "execution_count": 146,
   "id": "e6c043c6",
   "metadata": {},
   "outputs": [
    {
     "name": "stdout",
     "output_type": "stream",
     "text": [
      "2768/2768 [==============================] - 1s 205us/step\n",
      "(73492, 216): MLP Classifier is Done! \n",
      "\n",
      "1329/1329 [==============================] - 0s 204us/step\n",
      "(88557, 216): MLP Classifier is Done! \n",
      "\n",
      "1602/1602 [==============================] - 0s 209us/step\n",
      "(42510, 216): MLP Classifier is Done! \n",
      "\n",
      "2356/2356 [==============================] - 1s 207us/step\n",
      "(51261, 216): MLP Classifier is Done! \n",
      "\n"
     ]
    }
   ],
   "source": [
    "# MLPClassifier NewFeatures\n",
    "mlp_newf = kfold_training('MLP', X_train_NewF_M_KNN, Y_train_NewF_M_KNN, mlp_model, 4)"
   ]
  },
  {
   "cell_type": "code",
   "execution_count": 147,
   "id": "b822d3cd",
   "metadata": {},
   "outputs": [],
   "source": [
    "save_results(mlp_newf, \"MLPClassifier_NewFeatures_MKNN_Results\")"
   ]
  },
  {
   "cell_type": "code",
   "execution_count": 148,
   "id": "950dd70c",
   "metadata": {},
   "outputs": [
    {
     "name": "stdout",
     "output_type": "stream",
     "text": [
      "2768/2768 [==============================] - 1s 204us/step\n",
      "(73492, 216): MLP Classifier is Done! \n",
      "\n",
      "2768/2768 [==============================] - 1s 207us/step\n",
      "(73492, 216): MLP Classifier is Done! \n",
      "\n",
      "2768/2768 [==============================] - 1s 206us/step\n",
      "(73492, 216): MLP Classifier is Done! \n",
      "\n",
      "2768/2768 [==============================] - 1s 205us/step\n",
      "(73492, 216): MLP Classifier is Done! \n",
      "\n",
      "2768/2768 [==============================] - 1s 206us/step\n",
      "(73492, 216): MLP Classifier is Done! \n",
      "\n",
      "2768/2768 [==============================] - 1s 205us/step\n",
      "(73492, 216): MLP Classifier is Done! \n",
      "\n",
      "1329/1329 [==============================] - 0s 206us/step\n",
      "(88557, 216): MLP Classifier is Done! \n",
      "\n",
      "1329/1329 [==============================] - 0s 208us/step\n",
      "(88557, 216): MLP Classifier is Done! \n",
      "\n",
      "1602/1602 [==============================] - 0s 206us/step\n",
      "(42510, 216): MLP Classifier is Done! \n",
      "\n",
      "1602/1602 [==============================] - 0s 208us/step\n",
      "(42510, 216): MLP Classifier is Done! \n",
      "\n",
      "1602/1602 [==============================] - 0s 207us/step\n",
      "(42510, 216): MLP Classifier is Done! \n",
      "\n",
      "1602/1602 [==============================] - 0s 215us/step\n",
      "(42510, 216): MLP Classifier is Done! \n",
      "\n",
      "1602/1602 [==============================] - 0s 207us/step\n",
      "(42510, 216): MLP Classifier is Done! \n",
      "\n",
      "1602/1602 [==============================] - 0s 204us/step\n",
      "(42510, 216): MLP Classifier is Done! \n",
      "\n",
      "2356/2356 [==============================] - 1s 207us/step\n",
      "(51261, 216): MLP Classifier is Done! \n",
      "\n",
      "2356/2356 [==============================] - 0s 206us/step\n",
      "(51261, 216): MLP Classifier is Done! \n",
      "\n",
      "2356/2356 [==============================] - 1s 208us/step\n",
      "(51261, 216): MLP Classifier is Done! \n",
      "\n"
     ]
    }
   ],
   "source": [
    "# MLPClassifier NewFeatures\n",
    "mlp_newf = kfold_training('MLP', X_train_NewF_LSBZM_M, Y_train_NewF_LSBZM_M, mlp_model, 4)"
   ]
  },
  {
   "cell_type": "code",
   "execution_count": 149,
   "id": "a3af14e8",
   "metadata": {},
   "outputs": [],
   "source": [
    "save_results(mlp_newf, \"MLPClassifier_NewFeatures_LSBZM_M_Results\")"
   ]
  },
  {
   "cell_type": "code",
   "execution_count": 150,
   "id": "1872a829",
   "metadata": {},
   "outputs": [
    {
     "name": "stdout",
     "output_type": "stream",
     "text": [
      "2768/2768 [==============================] - 1s 206us/step\n",
      "(73492, 216): MLP Classifier is Done! \n",
      "\n",
      "2768/2768 [==============================] - 1s 206us/step\n",
      "(73492, 216): MLP Classifier is Done! \n",
      "\n",
      "2768/2768 [==============================] - 1s 206us/step\n",
      "(73492, 216): MLP Classifier is Done! \n",
      "\n",
      "2768/2768 [==============================] - 1s 207us/step\n",
      "(73492, 216): MLP Classifier is Done! \n",
      "\n",
      "1329/1329 [==============================] - 0s 205us/step\n",
      "(88557, 216): MLP Classifier is Done! \n",
      "\n",
      "1602/1602 [==============================] - 0s 208us/step\n",
      "(42510, 216): MLP Classifier is Done! \n",
      "\n",
      "1602/1602 [==============================] - 0s 208us/step\n",
      "(42510, 216): MLP Classifier is Done! \n",
      "\n",
      "1602/1602 [==============================] - 0s 207us/step\n",
      "(42510, 216): MLP Classifier is Done! \n",
      "\n",
      "1602/1602 [==============================] - 0s 207us/step\n",
      "(42510, 216): MLP Classifier is Done! \n",
      "\n",
      "1602/1602 [==============================] - 0s 206us/step\n",
      "(42510, 216): MLP Classifier is Done! \n",
      "\n",
      "1602/1602 [==============================] - 0s 209us/step\n",
      "(42510, 216): MLP Classifier is Done! \n",
      "\n",
      "2356/2356 [==============================] - 0s 205us/step\n",
      "(51261, 216): MLP Classifier is Done! \n",
      "\n",
      "2356/2356 [==============================] - 1s 212us/step\n",
      "(51261, 216): MLP Classifier is Done! \n",
      "\n",
      "2356/2356 [==============================] - 1s 209us/step\n",
      "(51261, 216): MLP Classifier is Done! \n",
      "\n"
     ]
    }
   ],
   "source": [
    "# MLPClassifier NewFeatures\n",
    "mlp_newf = kfold_training('MLP', X_train_NewF_LSBZM_N, Y_train_NewF_LSBZM_N, mlp_model, 4)"
   ]
  },
  {
   "cell_type": "code",
   "execution_count": 151,
   "id": "9faf7d1e",
   "metadata": {},
   "outputs": [],
   "source": [
    "save_results(mlp_newf, \"MLPClassifier_NewFeatures_LSBZM_N_Results\")"
   ]
  },
  {
   "cell_type": "code",
   "execution_count": null,
   "id": "5d3b9666",
   "metadata": {},
   "outputs": [],
   "source": []
  },
  {
   "cell_type": "code",
   "execution_count": null,
   "id": "ba60a7a3",
   "metadata": {},
   "outputs": [],
   "source": [
    "# MLPClassifier NewFeatures\n",
    "mlp_newf = kfold_training_sampling('MLP', X_train_NewF_LSBZM_wBandC, Y_train_NewF_LSBZM_wBandC,\n",
    "                                   X_train_NewF_LSBZM, Y_train_NewF_LSBZM, mlp_model, 4)"
   ]
  },
  {
   "cell_type": "code",
   "execution_count": null,
   "id": "b38cefdb",
   "metadata": {},
   "outputs": [],
   "source": [
    "save_results(mlp_newf, \"MLPClassifier_NewFeatures_WithoutB&C_LSBZM_KNN_Results\")"
   ]
  },
  {
   "cell_type": "code",
   "execution_count": null,
   "id": "718813dc",
   "metadata": {},
   "outputs": [],
   "source": [
    "mlp_newf = kfold_training_sampling('MLP', X_train_NewF_LSBZM_wC, Y_train_NewF_LSBZM_wC,\n",
    "                                   X_train_NewF_LSBZM, Y_train_NewF_LSBZM, mlp_model, 4)"
   ]
  },
  {
   "cell_type": "code",
   "execution_count": 18,
   "id": "62717741",
   "metadata": {},
   "outputs": [],
   "source": [
    "save_results(mlp_newf, \"MLPClassifier_NewFeatures_WithoutC_LSBZM_KNN_Results\")"
   ]
  },
  {
   "cell_type": "markdown",
   "id": "e702be07",
   "metadata": {},
   "source": [
    "### k-NN"
   ]
  },
  {
   "cell_type": "code",
   "execution_count": 44,
   "id": "b24408d0",
   "metadata": {},
   "outputs": [
    {
     "name": "stdout",
     "output_type": "stream",
     "text": [
      "(73492, 216): KNeighborsClassifier Classifier is Done! \n",
      "\n",
      "(88557, 216): KNeighborsClassifier Classifier is Done! \n",
      "\n",
      "(42510, 216): KNeighborsClassifier Classifier is Done! \n",
      "\n",
      "(51261, 216): KNeighborsClassifier Classifier is Done! \n",
      "\n"
     ]
    }
   ],
   "source": [
    "naive_newf = kfold_training('KNN', X_train_NewF_LSBZM, Y_train_NewF_LSBZM, knn_model, 4)"
   ]
  },
  {
   "cell_type": "code",
   "execution_count": 45,
   "id": "6ac1c1a4",
   "metadata": {},
   "outputs": [],
   "source": [
    "save_results(naive_newf, \"KNN_NewFeatures_Results\")"
   ]
  },
  {
   "cell_type": "code",
   "execution_count": 35,
   "id": "390bc562",
   "metadata": {},
   "outputs": [
    {
     "name": "stdout",
     "output_type": "stream",
     "text": [
      "(73492, 216): KNeighborsClassifier Classifier is Done! \n",
      "\n",
      "(88557, 216): KNeighborsClassifier Classifier is Done! \n",
      "\n",
      "(42510, 216): KNeighborsClassifier Classifier is Done! \n",
      "\n",
      "(51261, 216): KNeighborsClassifier Classifier is Done! \n",
      "\n"
     ]
    }
   ],
   "source": [
    "naive_newf = kfold_training('KNN', X_train_NewF_M, Y_train_NewF_M, knn_model, 4)"
   ]
  },
  {
   "cell_type": "code",
   "execution_count": 36,
   "id": "6fb67301",
   "metadata": {},
   "outputs": [],
   "source": [
    "save_results(naive_newf, \"KNN_NewFeatures_MM_Results\")"
   ]
  },
  {
   "cell_type": "code",
   "execution_count": 37,
   "id": "d826cee0",
   "metadata": {},
   "outputs": [
    {
     "name": "stdout",
     "output_type": "stream",
     "text": [
      "(73492, 216): KNeighborsClassifier Classifier is Done! \n",
      "\n",
      "(88557, 216): KNeighborsClassifier Classifier is Done! \n",
      "\n",
      "(42510, 216): KNeighborsClassifier Classifier is Done! \n",
      "\n",
      "(51261, 216): KNeighborsClassifier Classifier is Done! \n",
      "\n"
     ]
    }
   ],
   "source": [
    "naive_newf = kfold_training('KNN', X_train_NewF_Z, Y_train_NewF_Z, knn_model, 4)"
   ]
  },
  {
   "cell_type": "code",
   "execution_count": 38,
   "id": "57a9976a",
   "metadata": {},
   "outputs": [],
   "source": [
    "save_results(naive_newf, \"KNN_NewFeatures_ZM_Results\")"
   ]
  },
  {
   "cell_type": "code",
   "execution_count": 39,
   "id": "fad0ff95",
   "metadata": {},
   "outputs": [
    {
     "name": "stdout",
     "output_type": "stream",
     "text": [
      "(73492, 216): KNeighborsClassifier Classifier is Done! \n",
      "\n",
      "(88557, 216): KNeighborsClassifier Classifier is Done! \n",
      "\n",
      "(42510, 216): KNeighborsClassifier Classifier is Done! \n",
      "\n",
      "(51261, 216): KNeighborsClassifier Classifier is Done! \n",
      "\n"
     ]
    }
   ],
   "source": [
    "naive_newf = kfold_training('KNN', X_train_NewF_M_N, Y_train_NewF_M_N, knn_model, 4)"
   ]
  },
  {
   "cell_type": "code",
   "execution_count": 40,
   "id": "9f5fc90b",
   "metadata": {},
   "outputs": [],
   "source": [
    "save_results(naive_newf, \"KNN_NewFeatures_MN_Results\")"
   ]
  },
  {
   "cell_type": "code",
   "execution_count": 41,
   "id": "a19671cd",
   "metadata": {},
   "outputs": [
    {
     "name": "stdout",
     "output_type": "stream",
     "text": [
      "(73492, 216): KNeighborsClassifier Classifier is Done! \n",
      "\n",
      "(88557, 216): KNeighborsClassifier Classifier is Done! \n",
      "\n",
      "(42510, 216): KNeighborsClassifier Classifier is Done! \n",
      "\n",
      "(51261, 216): KNeighborsClassifier Classifier is Done! \n",
      "\n"
     ]
    }
   ],
   "source": [
    "naive_newf = kfold_training('KNN', X_train_NewF_Z_N, Y_train_NewF_Z_N, knn_model, 4)"
   ]
  },
  {
   "cell_type": "code",
   "execution_count": 42,
   "id": "ceab9e8b",
   "metadata": {},
   "outputs": [],
   "source": [
    "save_results(naive_newf, \"KNN_NewFeatures_ZN_Results\")"
   ]
  },
  {
   "cell_type": "code",
   "execution_count": 32,
   "id": "99c333fc",
   "metadata": {},
   "outputs": [
    {
     "name": "stdout",
     "output_type": "stream",
     "text": [
      "(73492, 216): KNeighborsClassifier Classifier is Done! \n",
      "\n",
      "(88557, 216): KNeighborsClassifier Classifier is Done! \n",
      "\n",
      "(42510, 216): KNeighborsClassifier Classifier is Done! \n",
      "\n",
      "(51261, 216): KNeighborsClassifier Classifier is Done! \n",
      "\n"
     ]
    }
   ],
   "source": [
    "naive_newf = kfold_training('KNN', X_train_NewF_Z_KNN, Y_train_NewF_Z_KNN, knn_model, 4)"
   ]
  },
  {
   "cell_type": "code",
   "execution_count": 33,
   "id": "d11194ab",
   "metadata": {},
   "outputs": [],
   "source": [
    "save_results(naive_newf, \"KNN_NewFeatures_ZKNN_Results\")"
   ]
  },
  {
   "cell_type": "code",
   "execution_count": 34,
   "id": "1b30539c",
   "metadata": {},
   "outputs": [
    {
     "name": "stdout",
     "output_type": "stream",
     "text": [
      "(73492, 216): KNeighborsClassifier Classifier is Done! \n",
      "\n",
      "(88557, 216): KNeighborsClassifier Classifier is Done! \n",
      "\n",
      "(42510, 216): KNeighborsClassifier Classifier is Done! \n",
      "\n",
      "(51261, 216): KNeighborsClassifier Classifier is Done! \n",
      "\n"
     ]
    }
   ],
   "source": [
    "naive_newf = kfold_training('KNN', X_train_NewF_M_KNN, Y_train_NewF_M_KNN, knn_model, 4)"
   ]
  },
  {
   "cell_type": "code",
   "execution_count": 35,
   "id": "b077253e",
   "metadata": {},
   "outputs": [],
   "source": [
    "save_results(naive_newf, \"KNN_NewFeatures_MKNN_Results\")"
   ]
  },
  {
   "cell_type": "code",
   "execution_count": 36,
   "id": "7e297e19",
   "metadata": {},
   "outputs": [
    {
     "name": "stdout",
     "output_type": "stream",
     "text": [
      "(73492, 216): KNeighborsClassifier Classifier is Done! \n",
      "\n",
      "(88557, 216): KNeighborsClassifier Classifier is Done! \n",
      "\n",
      "(42510, 216): KNeighborsClassifier Classifier is Done! \n",
      "\n",
      "(51261, 216): KNeighborsClassifier Classifier is Done! \n",
      "\n"
     ]
    }
   ],
   "source": [
    "naive_newf = kfold_training('KNN', X_train_NewF_LSBZM_M, Y_train_NewF_LSBZM_M, knn_model, 4)"
   ]
  },
  {
   "cell_type": "code",
   "execution_count": 37,
   "id": "32e7d501",
   "metadata": {},
   "outputs": [],
   "source": [
    "save_results(naive_newf, \"KNN_NewFeatures_LSBZM_M_Results\")"
   ]
  },
  {
   "cell_type": "code",
   "execution_count": 38,
   "id": "56ed986b",
   "metadata": {},
   "outputs": [
    {
     "name": "stdout",
     "output_type": "stream",
     "text": [
      "(73492, 216): KNeighborsClassifier Classifier is Done! \n",
      "\n",
      "(88557, 216): KNeighborsClassifier Classifier is Done! \n",
      "\n",
      "(42510, 216): KNeighborsClassifier Classifier is Done! \n",
      "\n",
      "(51261, 216): KNeighborsClassifier Classifier is Done! \n",
      "\n"
     ]
    }
   ],
   "source": [
    "naive_newf = kfold_training('KNN', X_train_NewF_LSBZM_N, Y_train_NewF_LSBZM_N, knn_model, 4)"
   ]
  },
  {
   "cell_type": "code",
   "execution_count": 39,
   "id": "27d4f826",
   "metadata": {},
   "outputs": [],
   "source": [
    "save_results(naive_newf, \"KNN_NewFeatures_LSBZM_N_Results\")"
   ]
  },
  {
   "cell_type": "code",
   "execution_count": null,
   "id": "310fad25",
   "metadata": {},
   "outputs": [],
   "source": []
  },
  {
   "cell_type": "code",
   "execution_count": 19,
   "id": "1789f7bd",
   "metadata": {},
   "outputs": [
    {
     "name": "stdout",
     "output_type": "stream",
     "text": [
      "(61384, 216): KNeighborsClassifier Classifier is Done! \n",
      "\n",
      "(74769, 216): KNeighborsClassifier Classifier is Done! \n",
      "\n",
      "(36186, 216): KNeighborsClassifier Classifier is Done! \n",
      "\n",
      "(44459, 216): KNeighborsClassifier Classifier is Done! \n",
      "\n"
     ]
    }
   ],
   "source": [
    "naive_newf = kfold_training_sampling('KNN', X_train_NewF_LSBZM_wBandC, Y_train_NewF_LSBZM_wBandC,\n",
    "                                   X_train_NewF_LSBZM, Y_train_NewF_LSBZM, knn_model, 4)"
   ]
  },
  {
   "cell_type": "code",
   "execution_count": 20,
   "id": "ed38fe64",
   "metadata": {},
   "outputs": [],
   "source": [
    "save_results(naive_newf, \"KNN_NewFeatures_WithoutB&C_LSBZM_KNN_Results\")"
   ]
  },
  {
   "cell_type": "code",
   "execution_count": 21,
   "id": "6ad60ab3",
   "metadata": {},
   "outputs": [
    {
     "name": "stdout",
     "output_type": "stream",
     "text": [
      "(67076, 216): KNeighborsClassifier Classifier is Done! \n",
      "\n",
      "(79747, 216): KNeighborsClassifier Classifier is Done! \n",
      "\n",
      "(36871, 216): KNeighborsClassifier Classifier is Done! \n",
      "\n",
      "(45305, 216): KNeighborsClassifier Classifier is Done! \n",
      "\n"
     ]
    }
   ],
   "source": [
    "naive_newf = kfold_training_sampling('KNN', X_train_NewF_LSBZM_wC, Y_train_NewF_LSBZM_wC,\n",
    "                                   X_train_NewF_LSBZM, Y_train_NewF_LSBZM, knn_model, 4)"
   ]
  },
  {
   "cell_type": "code",
   "execution_count": 22,
   "id": "8618d635",
   "metadata": {},
   "outputs": [],
   "source": [
    "save_results(naive_newf, \"KNN_NewFeatures_WithoutC_LSBZM_KNN_Results\")"
   ]
  },
  {
   "cell_type": "markdown",
   "id": "5c43112c",
   "metadata": {},
   "source": [
    "### Random Forest"
   ]
  },
  {
   "cell_type": "code",
   "execution_count": 55,
   "id": "fc2f461e",
   "metadata": {},
   "outputs": [
    {
     "name": "stdout",
     "output_type": "stream",
     "text": [
      "(73492, 216): Random Forest Classifier is Done! \n",
      "\n",
      "(88557, 216): Random Forest Classifier is Done! \n",
      "\n",
      "(42510, 216): Random Forest Classifier is Done! \n",
      "\n",
      "(51261, 216): Random Forest Classifier is Done! \n",
      "\n"
     ]
    }
   ],
   "source": [
    "forest_newf = kfold_training('RandomForest', X_train_NewF_LSBZM, Y_train_NewF_LSBZM, random_forest_model, 4)"
   ]
  },
  {
   "cell_type": "code",
   "execution_count": 56,
   "id": "5b25573a",
   "metadata": {},
   "outputs": [],
   "source": [
    "save_results(forest_newf, \"RandomForest_NewFeatures_Results\")"
   ]
  },
  {
   "cell_type": "code",
   "execution_count": 45,
   "id": "80ab020f",
   "metadata": {},
   "outputs": [
    {
     "name": "stdout",
     "output_type": "stream",
     "text": [
      "(73492, 216): Random Forest Classifier is Done! \n",
      "\n",
      "(88557, 216): Random Forest Classifier is Done! \n",
      "\n",
      "(42510, 216): Random Forest Classifier is Done! \n",
      "\n",
      "(51261, 216): Random Forest Classifier is Done! \n",
      "\n"
     ]
    }
   ],
   "source": [
    "forest_newf = kfold_training('RandomForest', X_train_NewF_M, Y_train_NewF_M, random_forest_model, 4)"
   ]
  },
  {
   "cell_type": "code",
   "execution_count": 46,
   "id": "15394a45",
   "metadata": {},
   "outputs": [],
   "source": [
    "save_results(forest_newf, \"RandomForest_NewFeatures_MM_Results\")"
   ]
  },
  {
   "cell_type": "code",
   "execution_count": 47,
   "id": "3126166d",
   "metadata": {},
   "outputs": [
    {
     "name": "stdout",
     "output_type": "stream",
     "text": [
      "(73492, 216): Random Forest Classifier is Done! \n",
      "\n",
      "(88557, 216): Random Forest Classifier is Done! \n",
      "\n",
      "(42510, 216): Random Forest Classifier is Done! \n",
      "\n",
      "(51261, 216): Random Forest Classifier is Done! \n",
      "\n"
     ]
    }
   ],
   "source": [
    "forest_newf = kfold_training('RandomForest', X_train_NewF_Z, Y_train_NewF_Z, random_forest_model, 4)"
   ]
  },
  {
   "cell_type": "code",
   "execution_count": 48,
   "id": "d2fd97d1",
   "metadata": {},
   "outputs": [],
   "source": [
    "save_results(forest_newf, \"RandomForest_NewFeatures_ZM_Results\")"
   ]
  },
  {
   "cell_type": "code",
   "execution_count": 49,
   "id": "96a16f9a",
   "metadata": {},
   "outputs": [
    {
     "name": "stdout",
     "output_type": "stream",
     "text": [
      "(73492, 216): Random Forest Classifier is Done! \n",
      "\n",
      "(88557, 216): Random Forest Classifier is Done! \n",
      "\n",
      "(42510, 216): Random Forest Classifier is Done! \n",
      "\n",
      "(51261, 216): Random Forest Classifier is Done! \n",
      "\n"
     ]
    }
   ],
   "source": [
    "forest_newf = kfold_training('RandomForest', X_train_NewF_M_N, Y_train_NewF_M_N, random_forest_model, 4)"
   ]
  },
  {
   "cell_type": "code",
   "execution_count": 50,
   "id": "cd6d54f1",
   "metadata": {},
   "outputs": [],
   "source": [
    "save_results(forest_newf, \"RandomForest_NewFeatures_MN_Results\")"
   ]
  },
  {
   "cell_type": "code",
   "execution_count": 51,
   "id": "62377f19",
   "metadata": {},
   "outputs": [
    {
     "name": "stdout",
     "output_type": "stream",
     "text": [
      "(73492, 216): Random Forest Classifier is Done! \n",
      "\n",
      "(88557, 216): Random Forest Classifier is Done! \n",
      "\n",
      "(42510, 216): Random Forest Classifier is Done! \n",
      "\n",
      "(51261, 216): Random Forest Classifier is Done! \n",
      "\n"
     ]
    }
   ],
   "source": [
    "forest_newf = kfold_training('RandomForest', X_train_NewF_Z_N, Y_train_NewF_Z_N, random_forest_model, 4)"
   ]
  },
  {
   "cell_type": "code",
   "execution_count": 52,
   "id": "541a717f",
   "metadata": {},
   "outputs": [],
   "source": [
    "save_results(forest_newf, \"RandomForest_NewFeatures_ZN_Results\")"
   ]
  },
  {
   "cell_type": "code",
   "execution_count": 24,
   "id": "866f0c34",
   "metadata": {},
   "outputs": [
    {
     "name": "stdout",
     "output_type": "stream",
     "text": [
      "(73492, 216): Random Forest Classifier is Done! \n",
      "\n",
      "(88557, 216): Random Forest Classifier is Done! \n",
      "\n",
      "(42510, 216): Random Forest Classifier is Done! \n",
      "\n",
      "(51261, 216): Random Forest Classifier is Done! \n",
      "\n"
     ]
    }
   ],
   "source": [
    "forest_newf = kfold_training('RandomForest', X_train_NewF_Z_KNN, Y_train_NewF_Z_KNN, random_forest_model, 4)"
   ]
  },
  {
   "cell_type": "code",
   "execution_count": 25,
   "id": "8f3b615f",
   "metadata": {},
   "outputs": [],
   "source": [
    "save_results(forest_newf, \"RandomForest_NewFeatures_ZKNN_Results\")"
   ]
  },
  {
   "cell_type": "code",
   "execution_count": 26,
   "id": "8aa8fa7c",
   "metadata": {},
   "outputs": [
    {
     "name": "stdout",
     "output_type": "stream",
     "text": [
      "(73492, 216): Random Forest Classifier is Done! \n",
      "\n",
      "(88557, 216): Random Forest Classifier is Done! \n",
      "\n",
      "(42510, 216): Random Forest Classifier is Done! \n",
      "\n",
      "(51261, 216): Random Forest Classifier is Done! \n",
      "\n"
     ]
    }
   ],
   "source": [
    "forest_newf = kfold_training('RandomForest', X_train_NewF_M_KNN, Y_train_NewF_M_KNN, random_forest_model, 4)"
   ]
  },
  {
   "cell_type": "code",
   "execution_count": 27,
   "id": "16ca30e4",
   "metadata": {},
   "outputs": [],
   "source": [
    "save_results(forest_newf, \"RandomForest_NewFeatures_MKNN_Results\")"
   ]
  },
  {
   "cell_type": "code",
   "execution_count": 28,
   "id": "bbe11d9f",
   "metadata": {},
   "outputs": [
    {
     "name": "stdout",
     "output_type": "stream",
     "text": [
      "(73492, 216): Random Forest Classifier is Done! \n",
      "\n",
      "(88557, 216): Random Forest Classifier is Done! \n",
      "\n",
      "(42510, 216): Random Forest Classifier is Done! \n",
      "\n",
      "(51261, 216): Random Forest Classifier is Done! \n",
      "\n"
     ]
    }
   ],
   "source": [
    "forest_newf = kfold_training('RandomForest', X_train_NewF_LSBZM_M, Y_train_NewF_LSBZM_M, random_forest_model, 4)"
   ]
  },
  {
   "cell_type": "code",
   "execution_count": 29,
   "id": "0b949809",
   "metadata": {},
   "outputs": [],
   "source": [
    "save_results(forest_newf, \"RandomForest_NewFeatures_LSBZM_M_Results\")"
   ]
  },
  {
   "cell_type": "code",
   "execution_count": 30,
   "id": "9c089b0c",
   "metadata": {},
   "outputs": [
    {
     "name": "stdout",
     "output_type": "stream",
     "text": [
      "(73492, 216): Random Forest Classifier is Done! \n",
      "\n",
      "(88557, 216): Random Forest Classifier is Done! \n",
      "\n",
      "(42510, 216): Random Forest Classifier is Done! \n",
      "\n",
      "(51261, 216): Random Forest Classifier is Done! \n",
      "\n"
     ]
    }
   ],
   "source": [
    "forest_newf = kfold_training('RandomForest', X_train_NewF_LSBZM_N, Y_train_NewF_LSBZM_N, random_forest_model, 4)"
   ]
  },
  {
   "cell_type": "code",
   "execution_count": 31,
   "id": "66f1cc78",
   "metadata": {},
   "outputs": [],
   "source": [
    "save_results(forest_newf, \"RandomForest_NewFeatures_LSBZM_N_Results\")"
   ]
  },
  {
   "cell_type": "code",
   "execution_count": null,
   "id": "bdb818af",
   "metadata": {},
   "outputs": [],
   "source": []
  },
  {
   "cell_type": "code",
   "execution_count": 23,
   "id": "f82f132c",
   "metadata": {},
   "outputs": [
    {
     "name": "stdout",
     "output_type": "stream",
     "text": [
      "(61384, 216): Random Forest Classifier is Done! \n",
      "\n",
      "(74769, 216): Random Forest Classifier is Done! \n",
      "\n",
      "(36186, 216): Random Forest Classifier is Done! \n",
      "\n",
      "(44459, 216): Random Forest Classifier is Done! \n",
      "\n"
     ]
    }
   ],
   "source": [
    "forest_newf = kfold_training_sampling('RandomForest', X_train_NewF_LSBZM_wBandC, Y_train_NewF_LSBZM_wBandC,\n",
    "                                   X_train_NewF_LSBZM, Y_train_NewF_LSBZM, random_forest_model, 4)"
   ]
  },
  {
   "cell_type": "code",
   "execution_count": 24,
   "id": "2201e71a",
   "metadata": {},
   "outputs": [],
   "source": [
    "save_results(forest_newf, \"RandomForest_NewFeatures_WithoutB&C_LSBZM_KNN_Results\")"
   ]
  },
  {
   "cell_type": "code",
   "execution_count": 25,
   "id": "42c3a897",
   "metadata": {},
   "outputs": [
    {
     "name": "stdout",
     "output_type": "stream",
     "text": [
      "(67076, 216): Random Forest Classifier is Done! \n",
      "\n",
      "(79747, 216): Random Forest Classifier is Done! \n",
      "\n",
      "(36871, 216): Random Forest Classifier is Done! \n",
      "\n",
      "(45305, 216): Random Forest Classifier is Done! \n",
      "\n"
     ]
    }
   ],
   "source": [
    "forest_newf = kfold_training_sampling('RandomForest', X_train_NewF_LSBZM_wC, Y_train_NewF_LSBZM_wC,\n",
    "                                   X_train_NewF_LSBZM, Y_train_NewF_LSBZM, random_forest_model, 4)"
   ]
  },
  {
   "cell_type": "code",
   "execution_count": 26,
   "id": "14d608fd",
   "metadata": {},
   "outputs": [],
   "source": [
    "save_results(forest_newf, \"RandomForest_NewFeatures_WithoutC_LSBZM_KNN_Results\")"
   ]
  },
  {
   "cell_type": "code",
   "execution_count": null,
   "id": "b7d2449b",
   "metadata": {},
   "outputs": [],
   "source": []
  }
 ],
 "metadata": {
  "kernelspec": {
   "display_name": "Python 3 (ipykernel)",
   "language": "python",
   "name": "python3"
  },
  "language_info": {
   "codemirror_mode": {
    "name": "ipython",
    "version": 3
   },
   "file_extension": ".py",
   "mimetype": "text/x-python",
   "name": "python",
   "nbconvert_exporter": "python",
   "pygments_lexer": "ipython3",
   "version": "3.11.3"
  }
 },
 "nbformat": 4,
 "nbformat_minor": 5
}
